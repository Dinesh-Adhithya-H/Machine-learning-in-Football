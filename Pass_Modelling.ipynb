{
  "nbformat": 4,
  "nbformat_minor": 0,
  "metadata": {
    "colab": {
      "name": "Pass_Modelling.ipynb",
      "provenance": [],
      "collapsed_sections": []
    },
    "kernelspec": {
      "name": "python3",
      "display_name": "Python 3"
    },
    "accelerator": "TPU"
  },
  "cells": [
    {
      "cell_type": "markdown",
      "metadata": {
        "id": "6_HnmOq57pIT"
      },
      "source": [
        "# Xp model for passes during football matches"
      ]
    },
    {
      "cell_type": "code",
      "metadata": {
        "id": "2L4PVEstxgpn"
      },
      "source": [
        "import numpy as np\r\n",
        "import matplotlib.pyplot as plt\r\n",
        "import sklearn as sk\r\n",
        "import pandas as pd\r\n",
        "import json\r\n",
        "import seaborn as sns\r\n",
        "import pickle\r\n",
        "from sklearn.model_selection import train_test_split\r\n",
        "from sklearn.preprocessing import MinMaxScaler\r\n",
        "from sklearn.linear_model import LinearRegression,Lasso,Ridge,SGDClassifier,LogisticRegression,SGDRegressor,LogisticRegression\r\n",
        "from sklearn.metrics import roc_curve, roc_auc_score, precision_recall_curve\r\n",
        "from sklearn.utils import shuffle\r\n",
        "import xgboost\r\n",
        "from sklearn.ensemble import RandomForestClassifier"
      ],
      "execution_count": null,
      "outputs": []
    },
    {
      "cell_type": "code",
      "metadata": {
        "colab": {
          "base_uri": "https://localhost:8080/"
        },
        "id": "VGkTN4z3ymc8",
        "outputId": "cd879fd0-4d44-41dd-c565-26503412a3da"
      },
      "source": [
        "from google.colab import drive\r\n",
        "drive.mount('/content/drive')"
      ],
      "execution_count": null,
      "outputs": [
        {
          "output_type": "stream",
          "text": [
            "Drive already mounted at /content/drive; to attempt to forcibly remount, call drive.mount(\"/content/drive\", force_remount=True).\n"
          ],
          "name": "stdout"
        }
      ]
    },
    {
      "cell_type": "code",
      "metadata": {
        "id": "2gQEDoaAxtta"
      },
      "source": [
        "data=pd.read_pickle(\"/content/drive/My Drive/passes_dataset (1).pkl\")\r\n",
        "data=shuffle(data)"
      ],
      "execution_count": null,
      "outputs": []
    },
    {
      "cell_type": "code",
      "metadata": {
        "colab": {
          "base_uri": "https://localhost:8080/",
          "height": 408
        },
        "id": "CMc1bNW1x91n",
        "outputId": "f1a8e21b-9b46-47d7-c365-15303ba41121"
      },
      "source": [
        "data"
      ],
      "execution_count": null,
      "outputs": [
        {
          "output_type": "execute_result",
          "data": {
            "text/html": [
              "<div>\n",
              "<style scoped>\n",
              "    .dataframe tbody tr th:only-of-type {\n",
              "        vertical-align: middle;\n",
              "    }\n",
              "\n",
              "    .dataframe tbody tr th {\n",
              "        vertical-align: top;\n",
              "    }\n",
              "\n",
              "    .dataframe thead th {\n",
              "        text-align: right;\n",
              "    }\n",
              "</style>\n",
              "<table border=\"1\" class=\"dataframe\">\n",
              "  <thead>\n",
              "    <tr style=\"text-align: right;\">\n",
              "      <th></th>\n",
              "      <th>pass_angle</th>\n",
              "      <th>pass_length</th>\n",
              "      <th>pass_outcome</th>\n",
              "      <th>duration</th>\n",
              "      <th>end_location_x</th>\n",
              "      <th>end_location_y</th>\n",
              "      <th>start_location_x</th>\n",
              "      <th>start_location_y</th>\n",
              "    </tr>\n",
              "  </thead>\n",
              "  <tbody>\n",
              "    <tr>\n",
              "      <th>860</th>\n",
              "      <td>-2.055274</td>\n",
              "      <td>12.882546</td>\n",
              "      <td>Complete</td>\n",
              "      <td>0.722900</td>\n",
              "      <td>66.0</td>\n",
              "      <td>65.1</td>\n",
              "      <td>72.0</td>\n",
              "      <td>76.5</td>\n",
              "    </tr>\n",
              "    <tr>\n",
              "      <th>29</th>\n",
              "      <td>-2.812466</td>\n",
              "      <td>30.010832</td>\n",
              "      <td>Complete</td>\n",
              "      <td>2.200200</td>\n",
              "      <td>39.5</td>\n",
              "      <td>66.9</td>\n",
              "      <td>67.9</td>\n",
              "      <td>76.6</td>\n",
              "    </tr>\n",
              "    <tr>\n",
              "      <th>822</th>\n",
              "      <td>2.745742</td>\n",
              "      <td>29.046170</td>\n",
              "      <td>Complete</td>\n",
              "      <td>2.072977</td>\n",
              "      <td>34.8</td>\n",
              "      <td>50.4</td>\n",
              "      <td>61.6</td>\n",
              "      <td>39.2</td>\n",
              "    </tr>\n",
              "    <tr>\n",
              "      <th>880</th>\n",
              "      <td>-2.784972</td>\n",
              "      <td>16.327278</td>\n",
              "      <td>Complete</td>\n",
              "      <td>2.761291</td>\n",
              "      <td>99.9</td>\n",
              "      <td>74.3</td>\n",
              "      <td>115.2</td>\n",
              "      <td>80.0</td>\n",
              "    </tr>\n",
              "    <tr>\n",
              "      <th>481</th>\n",
              "      <td>0.982794</td>\n",
              "      <td>10.816654</td>\n",
              "      <td>Complete</td>\n",
              "      <td>0.986219</td>\n",
              "      <td>50.0</td>\n",
              "      <td>64.0</td>\n",
              "      <td>44.0</td>\n",
              "      <td>55.0</td>\n",
              "    </tr>\n",
              "    <tr>\n",
              "      <th>...</th>\n",
              "      <td>...</td>\n",
              "      <td>...</td>\n",
              "      <td>...</td>\n",
              "      <td>...</td>\n",
              "      <td>...</td>\n",
              "      <td>...</td>\n",
              "      <td>...</td>\n",
              "      <td>...</td>\n",
              "    </tr>\n",
              "    <tr>\n",
              "      <th>457</th>\n",
              "      <td>-0.095598</td>\n",
              "      <td>7.333485</td>\n",
              "      <td>Complete</td>\n",
              "      <td>0.877200</td>\n",
              "      <td>49.9</td>\n",
              "      <td>48.1</td>\n",
              "      <td>42.6</td>\n",
              "      <td>48.8</td>\n",
              "    </tr>\n",
              "    <tr>\n",
              "      <th>651</th>\n",
              "      <td>-2.863293</td>\n",
              "      <td>7.280110</td>\n",
              "      <td>Complete</td>\n",
              "      <td>1.029143</td>\n",
              "      <td>83.0</td>\n",
              "      <td>25.0</td>\n",
              "      <td>90.0</td>\n",
              "      <td>27.0</td>\n",
              "    </tr>\n",
              "    <tr>\n",
              "      <th>596</th>\n",
              "      <td>-1.032878</td>\n",
              "      <td>54.845420</td>\n",
              "      <td>Out</td>\n",
              "      <td>3.985331</td>\n",
              "      <td>84.9</td>\n",
              "      <td>0.8</td>\n",
              "      <td>56.8</td>\n",
              "      <td>47.9</td>\n",
              "    </tr>\n",
              "    <tr>\n",
              "      <th>850</th>\n",
              "      <td>0.000000</td>\n",
              "      <td>11.000000</td>\n",
              "      <td>Complete</td>\n",
              "      <td>1.440000</td>\n",
              "      <td>65.0</td>\n",
              "      <td>9.0</td>\n",
              "      <td>54.0</td>\n",
              "      <td>9.0</td>\n",
              "    </tr>\n",
              "    <tr>\n",
              "      <th>253</th>\n",
              "      <td>-1.689286</td>\n",
              "      <td>12.688971</td>\n",
              "      <td>Complete</td>\n",
              "      <td>1.617309</td>\n",
              "      <td>85.6</td>\n",
              "      <td>6.0</td>\n",
              "      <td>87.1</td>\n",
              "      <td>18.6</td>\n",
              "    </tr>\n",
              "  </tbody>\n",
              "</table>\n",
              "<p>861714 rows × 8 columns</p>\n",
              "</div>"
            ],
            "text/plain": [
              "     pass_angle  pass_length  ... start_location_x  start_location_y\n",
              "860   -2.055274    12.882546  ...             72.0              76.5\n",
              "29    -2.812466    30.010832  ...             67.9              76.6\n",
              "822    2.745742    29.046170  ...             61.6              39.2\n",
              "880   -2.784972    16.327278  ...            115.2              80.0\n",
              "481    0.982794    10.816654  ...             44.0              55.0\n",
              "..          ...          ...  ...              ...               ...\n",
              "457   -0.095598     7.333485  ...             42.6              48.8\n",
              "651   -2.863293     7.280110  ...             90.0              27.0\n",
              "596   -1.032878    54.845420  ...             56.8              47.9\n",
              "850    0.000000    11.000000  ...             54.0               9.0\n",
              "253   -1.689286    12.688971  ...             87.1              18.6\n",
              "\n",
              "[861714 rows x 8 columns]"
            ]
          },
          "metadata": {
            "tags": []
          },
          "execution_count": 32
        }
      ]
    },
    {
      "cell_type": "code",
      "metadata": {
        "colab": {
          "base_uri": "https://localhost:8080/",
          "height": 282
        },
        "id": "6Tj5uI8LzFEd",
        "outputId": "cc39b8a9-3235-40d0-e42b-4feaebf5d0a8"
      },
      "source": [
        "plt.hist(data[\"pass_outcome\"])\r\n",
        "plt.plot()"
      ],
      "execution_count": null,
      "outputs": [
        {
          "output_type": "execute_result",
          "data": {
            "text/plain": [
              "[]"
            ]
          },
          "metadata": {
            "tags": []
          },
          "execution_count": 33
        },
        {
          "output_type": "display_data",
          "data": {
            "image/png": "[encoded data removed]",
            "text/plain": [
              "<Figure size 432x288 with 1 Axes>"
            ]
          },
          "metadata": {
            "tags": [],
            "needs_background": "light"
          }
        }
      ]
    },
    {
      "cell_type": "code",
      "metadata": {
        "colab": {
          "base_uri": "https://localhost:8080/"
        },
        "id": "Jai0snOWzbPf",
        "outputId": "fca44314-d943-4dde-cf6b-01f9c76c06c5"
      },
      "source": [
        "len(data[data[\"pass_outcome\"]==\"Incomplete\"])+len(data[data[\"pass_outcome\"]==\"Out\"]),len(data[data[\"pass_outcome\"]==\"Complete\"].iloc[:173101])"
      ],
      "execution_count": null,
      "outputs": [
        {
          "output_type": "execute_result",
          "data": {
            "text/plain": [
              "(173101, 173101)"
            ]
          },
          "metadata": {
            "tags": []
          },
          "execution_count": 34
        }
      ]
    },
    {
      "cell_type": "code",
      "metadata": {
        "id": "3yJP8rSOz9ap"
      },
      "source": [
        "x=np.array(data[data[\"pass_outcome\"]==\"Incomplete\"])[:,[0,1,3,4,5,6,7]]\r\n",
        "x=np.append(x,np.array(data[data[\"pass_outcome\"]==\"Out\"])[:,[0,1,3,4,5,6,7]],0)\r\n",
        "p=np.array(data[data[\"pass_outcome\"]==\"Complete\"].iloc[:173101])\r\n",
        "X=np.append(x,p[:,[0,1,3,4,5,6,7]],0)\r\n",
        "y=np.zeros(173101*2)\r\n",
        "y[173101:]=1.0"
      ],
      "execution_count": null,
      "outputs": []
    },
    {
      "cell_type": "code",
      "metadata": {
        "colab": {
          "base_uri": "https://localhost:8080/"
        },
        "id": "V436gUDZdzDo",
        "outputId": "2280b692-71d3-4450-9b07-8859c03389e4"
      },
      "source": [
        "data.columns"
      ],
      "execution_count": null,
      "outputs": [
        {
          "output_type": "execute_result",
          "data": {
            "text/plain": [
              "Index(['pass_angle', 'pass_length', 'pass_outcome', 'duration',\n",
              "       'end_location_x', 'end_location_y', 'start_location_x',\n",
              "       'start_location_y'],\n",
              "      dtype='object')"
            ]
          },
          "metadata": {
            "tags": []
          },
          "execution_count": 40
        }
      ]
    },
    {
      "cell_type": "code",
      "metadata": {
        "id": "oiJwBMCEedgF"
      },
      "source": [
        "data.to_pickle(\"passes_dataset.pkl\")"
      ],
      "execution_count": null,
      "outputs": []
    },
    {
      "cell_type": "code",
      "metadata": {
        "colab": {
          "base_uri": "https://localhost:8080/"
        },
        "id": "gugXMnEG1_RX",
        "outputId": "5c359c53-2a64-44ad-909a-ebc5bddd5217"
      },
      "source": [
        "X.shape,y.shape"
      ],
      "execution_count": null,
      "outputs": [
        {
          "output_type": "execute_result",
          "data": {
            "text/plain": [
              "((346202, 7), (346202,))"
            ]
          },
          "metadata": {
            "tags": []
          },
          "execution_count": 46
        }
      ]
    },
    {
      "cell_type": "code",
      "metadata": {
        "id": "AOlhHbou2wkr"
      },
      "source": [
        "xx=MinMaxScaler().fit(X)\r\n",
        "x=xx.transform(X)"
      ],
      "execution_count": null,
      "outputs": []
    },
    {
      "cell_type": "code",
      "metadata": {
        "id": "RBRI3Xa04Ktf"
      },
      "source": [
        "x,y=shuffle(x,y,random_state=69)"
      ],
      "execution_count": null,
      "outputs": []
    },
    {
      "cell_type": "code",
      "metadata": {
        "id": "2RSspo3047vw"
      },
      "source": [
        "x_train,x_test,y_train,y_test=train_test_split(x,y)"
      ],
      "execution_count": null,
      "outputs": []
    },
    {
      "cell_type": "code",
      "metadata": {
        "colab": {
          "base_uri": "https://localhost:8080/",
          "height": 329
        },
        "id": "SiqJVfEw4-VP",
        "outputId": "5614b85c-af99-4804-abbc-b6387f2a0f4f"
      },
      "source": [
        "lr=xgboost.XGBRegressor().fit(x_train,y_train)\r\n",
        "print(np.mean(np.abs(lr.predict(x_test)-y_test)))\r\n",
        "y_train_pred = lr.predict(x_test)\r\n",
        "x,y,z=roc_curve(y_test,y_train_pred)\r\n",
        "plt.plot(x,y,label=\"Linear regression\")\r\n",
        "plt.plot([0,1],[0,1])\r\n",
        "plt.xlabel(\"False positive rate\")\r\n",
        "plt.ylabel(\"True positive rate\")\r\n",
        "plt.title(\"ROC CURVE\")\r\n",
        "plt.legend()\r\n",
        "plt.show()"
      ],
      "execution_count": null,
      "outputs": [
        {
          "output_type": "stream",
          "text": [
            "[16:57:21] WARNING: /workspace/src/objective/regression_obj.cu:152: reg:linear is now deprecated in favor of reg:squarederror.\n",
            "0.29622521202398494\n"
          ],
          "name": "stdout"
        },
        {
          "output_type": "display_data",
          "data": {
            "image/png": "[encoded data removed]",
            "text/plain": [
              "<Figure size 432x288 with 1 Axes>"
            ]
          },
          "metadata": {
            "tags": [],
            "needs_background": "light"
          }
        }
      ]
    },
    {
      "cell_type": "code",
      "metadata": {
        "colab": {
          "base_uri": "https://localhost:8080/"
        },
        "id": "A4s7GKqP5fRa",
        "outputId": "ba55b4e5-a044-4e88-bb53-2db17a08bd32"
      },
      "source": [
        "roc_auc_score(y_test,y_train_pred)"
      ],
      "execution_count": null,
      "outputs": [
        {
          "output_type": "execute_result",
          "data": {
            "text/plain": [
              "0.8861822595096132"
            ]
          },
          "metadata": {
            "tags": []
          },
          "execution_count": 53
        }
      ]
    },
    {
      "cell_type": "code",
      "metadata": {
        "colab": {
          "base_uri": "https://localhost:8080/",
          "height": 592
        },
        "id": "WgdaN7dX5m9s",
        "outputId": "dea3f292-bd64-4f9a-bf90-2c4949248db9"
      },
      "source": [
        "plt.figure(figsize=(10,10))\r\n",
        "plt.scatter(np.arange(len(y_train_pred)),y_train_pred,label=\"model prediction\")\r\n",
        "plt.scatter(np.arange(len(y_train_pred)),y_test,label=\"expected\")\r\n",
        "plt.legend()\r\n",
        "plt.grid()\r\n",
        "plt.show()"
      ],
      "execution_count": null,
      "outputs": [
        {
          "output_type": "display_data",
          "data": {
            "image/png": "[encoded data removed]",
            "text/plain": [
              "<Figure size 720x720 with 1 Axes>"
            ]
          },
          "metadata": {
            "tags": [],
            "needs_background": "light"
          }
        }
      ]
    },
    {
      "cell_type": "code",
      "metadata": {
        "id": "2NtCGJTe5sMa"
      },
      "source": [
        "confusion_marix=np.array([[0,0],[0,0]])\r\n",
        "for i in range(len(y_test)):\r\n",
        "  if y_train_pred[i]<=0.5:\r\n",
        "    if y_train[i]==0.0:\r\n",
        "      confusion_marix[0][0]+=1\r\n",
        "    else:\r\n",
        "      confusion_marix[0][1]+=1\r\n",
        "  else:\r\n",
        "    if y_train[i]==0.0:\r\n",
        "      confusion_marix[1][0]+=1\r\n",
        "    else:\r\n",
        "      confusion_marix[1][1]+=1"
      ],
      "execution_count": null,
      "outputs": []
    },
    {
      "cell_type": "code",
      "metadata": {
        "colab": {
          "base_uri": "https://localhost:8080/"
        },
        "id": "k7uDKr3E6AX8",
        "outputId": "ffb1b246-44f1-41fa-d663-b32d95f621f6"
      },
      "source": [
        "np.mean(np.abs(y_train_pred-y_test))"
      ],
      "execution_count": null,
      "outputs": [
        {
          "output_type": "execute_result",
          "data": {
            "text/plain": [
              "0.29622521202398494"
            ]
          },
          "metadata": {
            "tags": []
          },
          "execution_count": 56
        }
      ]
    },
    {
      "cell_type": "code",
      "metadata": {
        "colab": {
          "base_uri": "https://localhost:8080/"
        },
        "id": "umEMS2w27q8q",
        "outputId": "4c65d4a2-c78b-4cf3-f2bc-ae61c689ea1d"
      },
      "source": [
        "confusion_marix"
      ],
      "execution_count": null,
      "outputs": [
        {
          "output_type": "execute_result",
          "data": {
            "text/plain": [
              "array([[20601, 20784],\n",
              "       [22551, 22615]])"
            ]
          },
          "metadata": {
            "tags": []
          },
          "execution_count": 57
        }
      ]
    },
    {
      "cell_type": "code",
      "metadata": {
        "colab": {
          "base_uri": "https://localhost:8080/"
        },
        "id": "RTXwx-FI8w8-",
        "outputId": "1133ae66-1de1-45fb-cdaa-a6e2900a4d04"
      },
      "source": [
        "from sklearn.neural_network import MLPRegressor,MLPClassifier\r\n",
        "regr = MLPClassifier(alpha=0.01,random_state=1, max_iter=500).fit(x_train, y_train)\r\n",
        "regr.score(x_test, y_test)"
      ],
      "execution_count": null,
      "outputs": [
        {
          "output_type": "stream",
          "text": [
            "/usr/local/lib/python3.7/dist-packages/sklearn/neural_network/_multilayer_perceptron.py:573: UserWarning: Training interrupted by user.\n",
            "  warnings.warn(\"Training interrupted by user.\")\n"
          ],
          "name": "stderr"
        },
        {
          "output_type": "execute_result",
          "data": {
            "text/plain": [
              "0.8099609043005269"
            ]
          },
          "metadata": {
            "tags": []
          },
          "execution_count": 23
        }
      ]
    },
    {
      "cell_type": "code",
      "metadata": {
        "id": "e0B_eayG8iXp"
      },
      "source": [
        "y_train_pred=regr.predict_proba(x_test)[:,1]\r\n",
        "confusion_marix=np.array([[0,0],[0,0]])\r\n",
        "for i in range(len(y_test)):\r\n",
        "  if y_train_pred[i]<=0.5:\r\n",
        "    if y_train[i]==0.0:\r\n",
        "      confusion_marix[0][0]+=1\r\n",
        "    else:\r\n",
        "      confusion_marix[0][1]+=1\r\n",
        "  else:\r\n",
        "    if y_train[i]==0.0:\r\n",
        "      confusion_marix[1][0]+=1\r\n",
        "    else:\r\n",
        "      confusion_marix[1][1]+=1"
      ],
      "execution_count": null,
      "outputs": []
    },
    {
      "cell_type": "code",
      "metadata": {
        "colab": {
          "base_uri": "https://localhost:8080/"
        },
        "id": "fbFqYV_39Bhr",
        "outputId": "de80a057-fa93-4944-9a88-bc28e395a804"
      },
      "source": [
        "confusion_marix"
      ],
      "execution_count": null,
      "outputs": [
        {
          "output_type": "execute_result",
          "data": {
            "text/plain": [
              "array([[19727, 19795],\n",
              "       [21444, 21396]])"
            ]
          },
          "metadata": {
            "tags": []
          },
          "execution_count": 29
        }
      ]
    },
    {
      "cell_type": "code",
      "metadata": {
        "colab": {
          "base_uri": "https://localhost:8080/"
        },
        "id": "zIVu-29e9C9d",
        "outputId": "ceac2fdf-8d9d-459a-a07f-415b73de5f3b"
      },
      "source": [
        "import tensorflow as tf\r\n",
        "from tensorflow import keras\r\n",
        "model=tf.keras.models.Sequential([\r\n",
        "  tf.keras.layers.Dense(1028,input_shape=x_train[0].shape),\r\n",
        "  keras.layers.BatchNormalization(),\r\n",
        "  tf.keras.layers.Dense(1208,activation=\"relu\"),\r\n",
        "  keras.layers.Dropout(0.2),\r\n",
        "  keras.layers.BatchNormalization(),\r\n",
        "  #tf.keras.layers.Dense(1208,activation=\"relu\"),\r\n",
        "  #keras.layers.Dropout(0.3),\r\n",
        "  #keras.layers.BatchNormalization(),\r\n",
        "  tf.keras.layers.Dense(2,activation=\"softmax\")\r\n",
        "])\r\n",
        "model.compile(optimizer=keras.optimizers.Adam(lr=0.0005, decay=5e-7),loss=\"sparse_categorical_crossentropy\",metrics=[\"accuracy\"])\r\n",
        "model.summary()"
      ],
      "execution_count": null,
      "outputs": [
        {
          "output_type": "stream",
          "text": [
            "Model: \"sequential_3\"\n",
            "_________________________________________________________________\n",
            "Layer (type)                 Output Shape              Param #   \n",
            "=================================================================\n",
            "dense_12 (Dense)             (None, 1028)              8224      \n",
            "_________________________________________________________________\n",
            "batch_normalization_5 (Batch (None, 1028)              4112      \n",
            "_________________________________________________________________\n",
            "dense_13 (Dense)             (None, 1208)              1243032   \n",
            "_________________________________________________________________\n",
            "dropout_5 (Dropout)          (None, 1208)              0         \n",
            "_________________________________________________________________\n",
            "batch_normalization_6 (Batch (None, 1208)              4832      \n",
            "_________________________________________________________________\n",
            "dense_14 (Dense)             (None, 2)                 2418      \n",
            "=================================================================\n",
            "Total params: 1,262,618\n",
            "Trainable params: 1,258,146\n",
            "Non-trainable params: 4,472\n",
            "_________________________________________________________________\n"
          ],
          "name": "stdout"
        }
      ]
    },
    {
      "cell_type": "code",
      "metadata": {
        "id": "mIPk4le__HUi",
        "colab": {
          "base_uri": "https://localhost:8080/"
        },
        "outputId": "9076ef5e-eedf-4f80-c57a-3d9a0e581bba"
      },
      "source": [
        "x_train=np.array(x_train)\r\n",
        "y_train=np.array(y_train)\r\n",
        "x_test=np.array(x_test)\r\n",
        "y_test=np.array(y_test)\r\n",
        "history=model.fit(x_train,y_train,epochs=10,validation_data=(x_test,y_test))"
      ],
      "execution_count": null,
      "outputs": [
        {
          "output_type": "stream",
          "text": [
            "Epoch 1/10\n",
            "8115/8115 [==============================] - 142s 17ms/step - loss: 0.5879 - accuracy: 0.7232 - val_loss: 0.4776 - val_accuracy: 0.7809\n",
            "Epoch 2/10\n",
            "8115/8115 [==============================] - 141s 17ms/step - loss: 0.4896 - accuracy: 0.7698 - val_loss: 0.4631 - val_accuracy: 0.7882\n",
            "Epoch 3/10\n",
            "8115/8115 [==============================] - 141s 17ms/step - loss: 0.4805 - accuracy: 0.7741 - val_loss: 0.4658 - val_accuracy: 0.7873\n",
            "Epoch 4/10\n",
            "8115/8115 [==============================] - 140s 17ms/step - loss: 0.4749 - accuracy: 0.7783 - val_loss: 0.4561 - val_accuracy: 0.7897\n",
            "Epoch 5/10\n",
            "8115/8115 [==============================] - 142s 18ms/step - loss: 0.4762 - accuracy: 0.7778 - val_loss: 0.4463 - val_accuracy: 0.7965\n",
            "Epoch 6/10\n",
            "8115/8115 [==============================] - 150s 18ms/step - loss: 0.4709 - accuracy: 0.7809 - val_loss: 0.4403 - val_accuracy: 0.8005\n",
            "Epoch 7/10\n",
            "8115/8115 [==============================] - 148s 18ms/step - loss: 0.4676 - accuracy: 0.7817 - val_loss: 0.4526 - val_accuracy: 0.7963\n",
            "Epoch 8/10\n",
            "8115/8115 [==============================] - 142s 18ms/step - loss: 0.4685 - accuracy: 0.7817 - val_loss: 0.4378 - val_accuracy: 0.7992\n",
            "Epoch 9/10\n",
            "8115/8115 [==============================] - 146s 18ms/step - loss: 0.4679 - accuracy: 0.7809 - val_loss: 0.4544 - val_accuracy: 0.7916\n",
            "Epoch 10/10\n",
            "8115/8115 [==============================] - 145s 18ms/step - loss: 0.4645 - accuracy: 0.7827 - val_loss: 0.4493 - val_accuracy: 0.7930\n"
          ],
          "name": "stdout"
        }
      ]
    },
    {
      "cell_type": "code",
      "metadata": {
        "colab": {
          "base_uri": "https://localhost:8080/",
          "height": 592
        },
        "id": "C2XmohBfE-EZ",
        "outputId": "a1015bb4-1e15-4d11-eedf-4f7f1549d84a"
      },
      "source": [
        "y_train_pred = model.predict(x_test)\r\n",
        "plt.figure(figsize=(10,10))\r\n",
        "plt.scatter(np.arange(len(y_train_pred)),y_train_pred[:,1],label=\"model prediction\")\r\n",
        "plt.scatter(np.arange(len(y_train_pred)),y_test,label=\"expected\")\r\n",
        "plt.legend()\r\n",
        "plt.grid()\r\n",
        "plt.show()"
      ],
      "execution_count": null,
      "outputs": [
        {
          "output_type": "display_data",
          "data": {
            "image/png": "[encoded data removed]",
            "text/plain": [
              "<Figure size 720x720 with 1 Axes>"
            ]
          },
          "metadata": {
            "tags": [],
            "needs_background": "light"
          }
        }
      ]
    },
    {
      "cell_type": "code",
      "metadata": {
        "id": "ko0SlIvplH_R"
      },
      "source": [
        "model.save('deep_learning_passes.h5')"
      ],
      "execution_count": null,
      "outputs": []
    },
    {
      "cell_type": "code",
      "metadata": {
        "id": "lVIWDF4m7V2F"
      },
      "source": [
        "loaded_model = tf.keras.models.load_model(\"/content/deep_learning_passes.h5\")"
      ],
      "execution_count": null,
      "outputs": []
    },
    {
      "cell_type": "code",
      "metadata": {
        "colab": {
          "base_uri": "https://localhost:8080/"
        },
        "id": "fz8kX7Hv7fWA",
        "outputId": "d2cc9458-eb31-4f0a-faa0-459f203416b4"
      },
      "source": [
        "loaded_model.predict(x_test[:10])"
      ],
      "execution_count": null,
      "outputs": [
        {
          "output_type": "execute_result",
          "data": {
            "text/plain": [
              "array([[0.5186367 , 0.4813634 ],\n",
              "       [0.8081158 , 0.19188423],\n",
              "       [0.29149628, 0.7085037 ],\n",
              "       [0.42983505, 0.5701649 ],\n",
              "       [0.13515998, 0.86484   ],\n",
              "       [0.07739047, 0.92260957],\n",
              "       [0.68309057, 0.31690946],\n",
              "       [0.8418428 , 0.15815724],\n",
              "       [0.9261231 , 0.07387694],\n",
              "       [0.92264956, 0.07735042]], dtype=float32)"
            ]
          },
          "metadata": {
            "tags": []
          },
          "execution_count": 87
        }
      ]
    },
    {
      "cell_type": "code",
      "metadata": {
        "colab": {
          "base_uri": "https://localhost:8080/"
        },
        "id": "36_tdS8H7mJY",
        "outputId": "7c62dd99-1f33-49e9-dddd-f2b5bead44a6"
      },
      "source": [
        "model.predict(x_test[:10])"
      ],
      "execution_count": null,
      "outputs": [
        {
          "output_type": "execute_result",
          "data": {
            "text/plain": [
              "array([[0.5186367 , 0.4813634 ],\n",
              "       [0.8081158 , 0.19188423],\n",
              "       [0.29149628, 0.7085037 ],\n",
              "       [0.42983505, 0.5701649 ],\n",
              "       [0.13515998, 0.86484   ],\n",
              "       [0.07739047, 0.92260957],\n",
              "       [0.68309057, 0.31690946],\n",
              "       [0.8418428 , 0.15815724],\n",
              "       [0.9261231 , 0.07387694],\n",
              "       [0.92264956, 0.07735042]], dtype=float32)"
            ]
          },
          "metadata": {
            "tags": []
          },
          "execution_count": 88
        }
      ]
    },
    {
      "cell_type": "code",
      "metadata": {
        "colab": {
          "base_uri": "https://localhost:8080/"
        },
        "id": "xn8Y0x9c_MxR",
        "outputId": "59d85855-444f-400a-bc70-e6e8a3aaa98c"
      },
      "source": [
        "np.mean(np.abs(model.predict(x_test)[:,1]-y_test))"
      ],
      "execution_count": null,
      "outputs": [
        {
          "output_type": "execute_result",
          "data": {
            "text/plain": [
              "0.28655698646100397"
            ]
          },
          "metadata": {
            "tags": []
          },
          "execution_count": 67
        }
      ]
    },
    {
      "cell_type": "code",
      "metadata": {
        "colab": {
          "base_uri": "https://localhost:8080/",
          "height": 606
        },
        "id": "9MmM-omcDkF-",
        "outputId": "834c9e68-107f-4102-f60f-6bf6d6a503b3"
      },
      "source": [
        "plt.figure(figsize=(10,10))\r\n",
        "x_test1=x_test[:100]\r\n",
        "y_train_pred=model.predict(x_test1)[:,1]\r\n",
        "plt.scatter(y_train_pred,y_test[:100],label=\"model prediction\")\r\n",
        "#plt.scatter(np.arange(len(y_train_pred)),y_test,label=\"expected\")\r\n",
        "plt.legend()\r\n",
        "plt.ylabel(\" expected output\")\r\n",
        "plt.xlabel(\" model prediction\")\r\n",
        "plt.grid()\r\n",
        "plt.show()"
      ],
      "execution_count": null,
      "outputs": [
        {
          "output_type": "display_data",
          "data": {
            "image/png": "[encoded data removed]",
            "text/plain": [
              "<Figure size 720x720 with 1 Axes>"
            ]
          },
          "metadata": {
            "tags": [],
            "needs_background": "light"
          }
        }
      ]
    },
    {
      "cell_type": "code",
      "metadata": {
        "colab": {
          "base_uri": "https://localhost:8080/"
        },
        "id": "m6KNgQrBD1kR",
        "outputId": "0e454b0f-fc1e-4d85-c3a0-e4dbfa94d047"
      },
      "source": [
        "!wget https://raw.githubusercontent.com/statsbomb/open-data/master/data/events/69216.json"
      ],
      "execution_count": null,
      "outputs": [
        {
          "output_type": "stream",
          "text": [
            "--2021-03-01 17:45:04--  https://raw.githubusercontent.com/statsbomb/open-data/master/data/events/69216.json\n",
            "Resolving raw.githubusercontent.com (raw.githubusercontent.com)... 185.199.108.133, 185.199.109.133, 185.199.110.133, ...\n",
            "Connecting to raw.githubusercontent.com (raw.githubusercontent.com)|185.199.108.133|:443... connected.\n",
            "HTTP request sent, awaiting response... 200 OK\n",
            "Length: 2973550 (2.8M) [text/plain]\n",
            "Saving to: ‘69216.json’\n",
            "\n",
            "69216.json          100%[===================>]   2.83M  --.-KB/s    in 0.1s    \n",
            "\n",
            "2021-03-01 17:45:04 (23.4 MB/s) - ‘69216.json’ saved [2973550/2973550]\n",
            "\n"
          ],
          "name": "stdout"
        }
      ]
    },
    {
      "cell_type": "code",
      "metadata": {
        "id": "YMdD9JjpPxkY"
      },
      "source": [
        "match=pd.read_json(\"/content/69216.json\")"
      ],
      "execution_count": null,
      "outputs": []
    },
    {
      "cell_type": "code",
      "metadata": {
        "id": "6_LxwbLX4c4G"
      },
      "source": [
        "match.set_index([\"id\"],inplace=True)"
      ],
      "execution_count": null,
      "outputs": []
    },
    {
      "cell_type": "code",
      "metadata": {
        "colab": {
          "base_uri": "https://localhost:8080/"
        },
        "id": "0DOzgYkbrDFP",
        "outputId": "360d12f8-5335-4f3f-9cee-cf1eaac82d29"
      },
      "source": [
        "match.columns"
      ],
      "execution_count": null,
      "outputs": [
        {
          "output_type": "execute_result",
          "data": {
            "text/plain": [
              "Index(['index', 'period', 'timestamp', 'minute', 'second', 'type',\n",
              "       'possession', 'possession_team', 'play_pattern', 'team', 'duration',\n",
              "       'tactics', 'related_events', 'player', 'position', 'location', 'pass',\n",
              "       'carry', 'ball_receipt', 'interception', 'under_pressure',\n",
              "       'counterpress', 'foul_won', 'off_camera', 'duel', 'out', 'shot',\n",
              "       'goalkeeper', 'clearance', 'dribble', 'foul_committed', 'ball_recovery',\n",
              "       '50_50', 'miscontrol', 'block', 'substitution'],\n",
              "      dtype='object')"
            ]
          },
          "metadata": {
            "tags": []
          },
          "execution_count": 72
        }
      ]
    },
    {
      "cell_type": "code",
      "metadata": {
        "colab": {
          "base_uri": "https://localhost:8080/"
        },
        "id": "Nf2oWVefP5TU",
        "outputId": "3eb6c332-c3c8-46a2-e1f2-601f084715a3"
      },
      "source": [
        "for i in range(1000):\r\n",
        "  if str(match.iloc[i][\"shot\"])!=\"nan\":\r\n",
        "    print(i)"
      ],
      "execution_count": null,
      "outputs": [
        {
          "output_type": "stream",
          "text": [
            "165\n",
            "421\n",
            "526\n",
            "670\n",
            "682\n"
          ],
          "name": "stdout"
        }
      ]
    },
    {
      "cell_type": "code",
      "metadata": {
        "colab": {
          "base_uri": "https://localhost:8080/",
          "height": 1000
        },
        "id": "tMUPEnxX9LLO",
        "outputId": "04386221-5917-444b-aaaa-264ca487df81"
      },
      "source": [
        "match"
      ],
      "execution_count": null,
      "outputs": [
        {
          "output_type": "execute_result",
          "data": {
            "text/html": [
              "<div>\n",
              "<style scoped>\n",
              "    .dataframe tbody tr th:only-of-type {\n",
              "        vertical-align: middle;\n",
              "    }\n",
              "\n",
              "    .dataframe tbody tr th {\n",
              "        vertical-align: top;\n",
              "    }\n",
              "\n",
              "    .dataframe thead th {\n",
              "        text-align: right;\n",
              "    }\n",
              "</style>\n",
              "<table border=\"1\" class=\"dataframe\">\n",
              "  <thead>\n",
              "    <tr style=\"text-align: right;\">\n",
              "      <th></th>\n",
              "      <th>index</th>\n",
              "      <th>period</th>\n",
              "      <th>timestamp</th>\n",
              "      <th>minute</th>\n",
              "      <th>second</th>\n",
              "      <th>type</th>\n",
              "      <th>possession</th>\n",
              "      <th>possession_team</th>\n",
              "      <th>play_pattern</th>\n",
              "      <th>team</th>\n",
              "      <th>duration</th>\n",
              "      <th>tactics</th>\n",
              "      <th>related_events</th>\n",
              "      <th>player</th>\n",
              "      <th>position</th>\n",
              "      <th>location</th>\n",
              "      <th>pass</th>\n",
              "      <th>carry</th>\n",
              "      <th>ball_receipt</th>\n",
              "      <th>interception</th>\n",
              "      <th>under_pressure</th>\n",
              "      <th>counterpress</th>\n",
              "      <th>foul_won</th>\n",
              "      <th>off_camera</th>\n",
              "      <th>duel</th>\n",
              "      <th>out</th>\n",
              "      <th>shot</th>\n",
              "      <th>goalkeeper</th>\n",
              "      <th>clearance</th>\n",
              "      <th>dribble</th>\n",
              "      <th>foul_committed</th>\n",
              "      <th>ball_recovery</th>\n",
              "      <th>50_50</th>\n",
              "      <th>miscontrol</th>\n",
              "      <th>block</th>\n",
              "      <th>substitution</th>\n",
              "    </tr>\n",
              "    <tr>\n",
              "      <th>id</th>\n",
              "      <th></th>\n",
              "      <th></th>\n",
              "      <th></th>\n",
              "      <th></th>\n",
              "      <th></th>\n",
              "      <th></th>\n",
              "      <th></th>\n",
              "      <th></th>\n",
              "      <th></th>\n",
              "      <th></th>\n",
              "      <th></th>\n",
              "      <th></th>\n",
              "      <th></th>\n",
              "      <th></th>\n",
              "      <th></th>\n",
              "      <th></th>\n",
              "      <th></th>\n",
              "      <th></th>\n",
              "      <th></th>\n",
              "      <th></th>\n",
              "      <th></th>\n",
              "      <th></th>\n",
              "      <th></th>\n",
              "      <th></th>\n",
              "      <th></th>\n",
              "      <th></th>\n",
              "      <th></th>\n",
              "      <th></th>\n",
              "      <th></th>\n",
              "      <th></th>\n",
              "      <th></th>\n",
              "      <th></th>\n",
              "      <th></th>\n",
              "      <th></th>\n",
              "      <th></th>\n",
              "      <th></th>\n",
              "    </tr>\n",
              "  </thead>\n",
              "  <tbody>\n",
              "    <tr>\n",
              "      <th>87b9074c-7685-416e-b7c1-32468fa9c7d1</th>\n",
              "      <td>1</td>\n",
              "      <td>1</td>\n",
              "      <td>2021-03-01 00:00:00.000</td>\n",
              "      <td>0</td>\n",
              "      <td>0</td>\n",
              "      <td>{'id': 35, 'name': 'Starting XI'}</td>\n",
              "      <td>1</td>\n",
              "      <td>{'id': 217, 'name': 'Barcelona'}</td>\n",
              "      <td>{'id': 1, 'name': 'Regular Play'}</td>\n",
              "      <td>{'id': 217, 'name': 'Barcelona'}</td>\n",
              "      <td>0.000000</td>\n",
              "      <td>{'formation': 433, 'lineup': [{'player': {'id'...</td>\n",
              "      <td>NaN</td>\n",
              "      <td>NaN</td>\n",
              "      <td>NaN</td>\n",
              "      <td>NaN</td>\n",
              "      <td>NaN</td>\n",
              "      <td>NaN</td>\n",
              "      <td>NaN</td>\n",
              "      <td>NaN</td>\n",
              "      <td>NaN</td>\n",
              "      <td>NaN</td>\n",
              "      <td>NaN</td>\n",
              "      <td>NaN</td>\n",
              "      <td>NaN</td>\n",
              "      <td>NaN</td>\n",
              "      <td>NaN</td>\n",
              "      <td>NaN</td>\n",
              "      <td>NaN</td>\n",
              "      <td>NaN</td>\n",
              "      <td>NaN</td>\n",
              "      <td>NaN</td>\n",
              "      <td>NaN</td>\n",
              "      <td>NaN</td>\n",
              "      <td>NaN</td>\n",
              "      <td>NaN</td>\n",
              "    </tr>\n",
              "    <tr>\n",
              "      <th>cc8a26a1-8017-47c9-bb30-d25f9b9ffd28</th>\n",
              "      <td>2</td>\n",
              "      <td>1</td>\n",
              "      <td>2021-03-01 00:00:00.000</td>\n",
              "      <td>0</td>\n",
              "      <td>0</td>\n",
              "      <td>{'id': 35, 'name': 'Starting XI'}</td>\n",
              "      <td>1</td>\n",
              "      <td>{'id': 217, 'name': 'Barcelona'}</td>\n",
              "      <td>{'id': 1, 'name': 'Regular Play'}</td>\n",
              "      <td>{'id': 215, 'name': 'Athletic Bilbao'}</td>\n",
              "      <td>0.000000</td>\n",
              "      <td>{'formation': 4231, 'lineup': [{'player': {'id...</td>\n",
              "      <td>NaN</td>\n",
              "      <td>NaN</td>\n",
              "      <td>NaN</td>\n",
              "      <td>NaN</td>\n",
              "      <td>NaN</td>\n",
              "      <td>NaN</td>\n",
              "      <td>NaN</td>\n",
              "      <td>NaN</td>\n",
              "      <td>NaN</td>\n",
              "      <td>NaN</td>\n",
              "      <td>NaN</td>\n",
              "      <td>NaN</td>\n",
              "      <td>NaN</td>\n",
              "      <td>NaN</td>\n",
              "      <td>NaN</td>\n",
              "      <td>NaN</td>\n",
              "      <td>NaN</td>\n",
              "      <td>NaN</td>\n",
              "      <td>NaN</td>\n",
              "      <td>NaN</td>\n",
              "      <td>NaN</td>\n",
              "      <td>NaN</td>\n",
              "      <td>NaN</td>\n",
              "      <td>NaN</td>\n",
              "    </tr>\n",
              "    <tr>\n",
              "      <th>f61d2eef-33af-40f0-ac0f-97da900cf799</th>\n",
              "      <td>3</td>\n",
              "      <td>1</td>\n",
              "      <td>2021-03-01 00:00:00.000</td>\n",
              "      <td>0</td>\n",
              "      <td>0</td>\n",
              "      <td>{'id': 18, 'name': 'Half Start'}</td>\n",
              "      <td>1</td>\n",
              "      <td>{'id': 217, 'name': 'Barcelona'}</td>\n",
              "      <td>{'id': 1, 'name': 'Regular Play'}</td>\n",
              "      <td>{'id': 215, 'name': 'Athletic Bilbao'}</td>\n",
              "      <td>0.000000</td>\n",
              "      <td>NaN</td>\n",
              "      <td>[cd5ffdc1-b39f-4649-9d0b-bdb09a952e42]</td>\n",
              "      <td>NaN</td>\n",
              "      <td>NaN</td>\n",
              "      <td>NaN</td>\n",
              "      <td>NaN</td>\n",
              "      <td>NaN</td>\n",
              "      <td>NaN</td>\n",
              "      <td>NaN</td>\n",
              "      <td>NaN</td>\n",
              "      <td>NaN</td>\n",
              "      <td>NaN</td>\n",
              "      <td>NaN</td>\n",
              "      <td>NaN</td>\n",
              "      <td>NaN</td>\n",
              "      <td>NaN</td>\n",
              "      <td>NaN</td>\n",
              "      <td>NaN</td>\n",
              "      <td>NaN</td>\n",
              "      <td>NaN</td>\n",
              "      <td>NaN</td>\n",
              "      <td>NaN</td>\n",
              "      <td>NaN</td>\n",
              "      <td>NaN</td>\n",
              "      <td>NaN</td>\n",
              "    </tr>\n",
              "    <tr>\n",
              "      <th>cd5ffdc1-b39f-4649-9d0b-bdb09a952e42</th>\n",
              "      <td>4</td>\n",
              "      <td>1</td>\n",
              "      <td>2021-03-01 00:00:00.000</td>\n",
              "      <td>0</td>\n",
              "      <td>0</td>\n",
              "      <td>{'id': 18, 'name': 'Half Start'}</td>\n",
              "      <td>1</td>\n",
              "      <td>{'id': 217, 'name': 'Barcelona'}</td>\n",
              "      <td>{'id': 1, 'name': 'Regular Play'}</td>\n",
              "      <td>{'id': 217, 'name': 'Barcelona'}</td>\n",
              "      <td>0.000000</td>\n",
              "      <td>NaN</td>\n",
              "      <td>[f61d2eef-33af-40f0-ac0f-97da900cf799]</td>\n",
              "      <td>NaN</td>\n",
              "      <td>NaN</td>\n",
              "      <td>NaN</td>\n",
              "      <td>NaN</td>\n",
              "      <td>NaN</td>\n",
              "      <td>NaN</td>\n",
              "      <td>NaN</td>\n",
              "      <td>NaN</td>\n",
              "      <td>NaN</td>\n",
              "      <td>NaN</td>\n",
              "      <td>NaN</td>\n",
              "      <td>NaN</td>\n",
              "      <td>NaN</td>\n",
              "      <td>NaN</td>\n",
              "      <td>NaN</td>\n",
              "      <td>NaN</td>\n",
              "      <td>NaN</td>\n",
              "      <td>NaN</td>\n",
              "      <td>NaN</td>\n",
              "      <td>NaN</td>\n",
              "      <td>NaN</td>\n",
              "      <td>NaN</td>\n",
              "      <td>NaN</td>\n",
              "    </tr>\n",
              "    <tr>\n",
              "      <th>6edb25f9-206f-47ca-a8ea-0900c63f1fdf</th>\n",
              "      <td>5</td>\n",
              "      <td>1</td>\n",
              "      <td>2021-03-01 00:00:00.964</td>\n",
              "      <td>0</td>\n",
              "      <td>0</td>\n",
              "      <td>{'id': 30, 'name': 'Pass'}</td>\n",
              "      <td>2</td>\n",
              "      <td>{'id': 217, 'name': 'Barcelona'}</td>\n",
              "      <td>{'id': 9, 'name': 'From Kick Off'}</td>\n",
              "      <td>{'id': 217, 'name': 'Barcelona'}</td>\n",
              "      <td>1.357694</td>\n",
              "      <td>NaN</td>\n",
              "      <td>[d05954af-8e8d-48a9-a685-6261f7830faf]</td>\n",
              "      <td>{'id': 5216, 'name': 'Andrés Iniesta Luján'}</td>\n",
              "      <td>{'id': 15, 'name': 'Left Center Midfield'}</td>\n",
              "      <td>[60.0, 40.0]</td>\n",
              "      <td>{'recipient': {'id': 20131, 'name': 'Xavier He...</td>\n",
              "      <td>NaN</td>\n",
              "      <td>NaN</td>\n",
              "      <td>NaN</td>\n",
              "      <td>NaN</td>\n",
              "      <td>NaN</td>\n",
              "      <td>NaN</td>\n",
              "      <td>NaN</td>\n",
              "      <td>NaN</td>\n",
              "      <td>NaN</td>\n",
              "      <td>NaN</td>\n",
              "      <td>NaN</td>\n",
              "      <td>NaN</td>\n",
              "      <td>NaN</td>\n",
              "      <td>NaN</td>\n",
              "      <td>NaN</td>\n",
              "      <td>NaN</td>\n",
              "      <td>NaN</td>\n",
              "      <td>NaN</td>\n",
              "      <td>NaN</td>\n",
              "    </tr>\n",
              "    <tr>\n",
              "      <th>...</th>\n",
              "      <td>...</td>\n",
              "      <td>...</td>\n",
              "      <td>...</td>\n",
              "      <td>...</td>\n",
              "      <td>...</td>\n",
              "      <td>...</td>\n",
              "      <td>...</td>\n",
              "      <td>...</td>\n",
              "      <td>...</td>\n",
              "      <td>...</td>\n",
              "      <td>...</td>\n",
              "      <td>...</td>\n",
              "      <td>...</td>\n",
              "      <td>...</td>\n",
              "      <td>...</td>\n",
              "      <td>...</td>\n",
              "      <td>...</td>\n",
              "      <td>...</td>\n",
              "      <td>...</td>\n",
              "      <td>...</td>\n",
              "      <td>...</td>\n",
              "      <td>...</td>\n",
              "      <td>...</td>\n",
              "      <td>...</td>\n",
              "      <td>...</td>\n",
              "      <td>...</td>\n",
              "      <td>...</td>\n",
              "      <td>...</td>\n",
              "      <td>...</td>\n",
              "      <td>...</td>\n",
              "      <td>...</td>\n",
              "      <td>...</td>\n",
              "      <td>...</td>\n",
              "      <td>...</td>\n",
              "      <td>...</td>\n",
              "      <td>...</td>\n",
              "    </tr>\n",
              "    <tr>\n",
              "      <th>4aa90710-c9f1-4dac-8a89-b713b35b2547</th>\n",
              "      <td>3407</td>\n",
              "      <td>2</td>\n",
              "      <td>2021-03-01 00:49:04.678</td>\n",
              "      <td>94</td>\n",
              "      <td>4</td>\n",
              "      <td>{'id': 43, 'name': 'Carry'}</td>\n",
              "      <td>192</td>\n",
              "      <td>{'id': 217, 'name': 'Barcelona'}</td>\n",
              "      <td>{'id': 3, 'name': 'From Free Kick'}</td>\n",
              "      <td>{'id': 217, 'name': 'Barcelona'}</td>\n",
              "      <td>1.027519</td>\n",
              "      <td>NaN</td>\n",
              "      <td>[2a8a9a34-c4c0-421c-8b1e-615246a38d6a, c3ab798...</td>\n",
              "      <td>{'id': 20131, 'name': 'Xavier Hernández Creus'}</td>\n",
              "      <td>{'id': 13, 'name': 'Right Center Midfield'}</td>\n",
              "      <td>[76.3, 30.9]</td>\n",
              "      <td>NaN</td>\n",
              "      <td>{'end_location': [77.2, 30.9]}</td>\n",
              "      <td>NaN</td>\n",
              "      <td>NaN</td>\n",
              "      <td>NaN</td>\n",
              "      <td>NaN</td>\n",
              "      <td>NaN</td>\n",
              "      <td>NaN</td>\n",
              "      <td>NaN</td>\n",
              "      <td>NaN</td>\n",
              "      <td>NaN</td>\n",
              "      <td>NaN</td>\n",
              "      <td>NaN</td>\n",
              "      <td>NaN</td>\n",
              "      <td>NaN</td>\n",
              "      <td>NaN</td>\n",
              "      <td>NaN</td>\n",
              "      <td>NaN</td>\n",
              "      <td>NaN</td>\n",
              "      <td>NaN</td>\n",
              "    </tr>\n",
              "    <tr>\n",
              "      <th>2a8a9a34-c4c0-421c-8b1e-615246a38d6a</th>\n",
              "      <td>3408</td>\n",
              "      <td>2</td>\n",
              "      <td>2021-03-01 00:49:05.706</td>\n",
              "      <td>94</td>\n",
              "      <td>5</td>\n",
              "      <td>{'id': 30, 'name': 'Pass'}</td>\n",
              "      <td>192</td>\n",
              "      <td>{'id': 217, 'name': 'Barcelona'}</td>\n",
              "      <td>{'id': 3, 'name': 'From Free Kick'}</td>\n",
              "      <td>{'id': 217, 'name': 'Barcelona'}</td>\n",
              "      <td>2.866484</td>\n",
              "      <td>NaN</td>\n",
              "      <td>[a95c3ca5-6b68-4fc5-ba55-4d728a08a953]</td>\n",
              "      <td>{'id': 20131, 'name': 'Xavier Hernández Creus'}</td>\n",
              "      <td>{'id': 13, 'name': 'Right Center Midfield'}</td>\n",
              "      <td>[77.2, 30.9]</td>\n",
              "      <td>{'recipient': {'id': 6758, 'name': 'Víctor Sán...</td>\n",
              "      <td>NaN</td>\n",
              "      <td>NaN</td>\n",
              "      <td>NaN</td>\n",
              "      <td>NaN</td>\n",
              "      <td>NaN</td>\n",
              "      <td>NaN</td>\n",
              "      <td>NaN</td>\n",
              "      <td>NaN</td>\n",
              "      <td>NaN</td>\n",
              "      <td>NaN</td>\n",
              "      <td>NaN</td>\n",
              "      <td>NaN</td>\n",
              "      <td>NaN</td>\n",
              "      <td>NaN</td>\n",
              "      <td>NaN</td>\n",
              "      <td>NaN</td>\n",
              "      <td>NaN</td>\n",
              "      <td>NaN</td>\n",
              "      <td>NaN</td>\n",
              "    </tr>\n",
              "    <tr>\n",
              "      <th>a95c3ca5-6b68-4fc5-ba55-4d728a08a953</th>\n",
              "      <td>3409</td>\n",
              "      <td>2</td>\n",
              "      <td>2021-03-01 00:49:08.572</td>\n",
              "      <td>94</td>\n",
              "      <td>8</td>\n",
              "      <td>{'id': 42, 'name': 'Ball Receipt*'}</td>\n",
              "      <td>192</td>\n",
              "      <td>{'id': 217, 'name': 'Barcelona'}</td>\n",
              "      <td>{'id': 3, 'name': 'From Free Kick'}</td>\n",
              "      <td>{'id': 217, 'name': 'Barcelona'}</td>\n",
              "      <td>NaN</td>\n",
              "      <td>NaN</td>\n",
              "      <td>[2a8a9a34-c4c0-421c-8b1e-615246a38d6a]</td>\n",
              "      <td>{'id': 6758, 'name': 'Víctor Sánchez Mata'}</td>\n",
              "      <td>{'id': 2, 'name': 'Right Back'}</td>\n",
              "      <td>[79.7, 75.1]</td>\n",
              "      <td>NaN</td>\n",
              "      <td>NaN</td>\n",
              "      <td>NaN</td>\n",
              "      <td>NaN</td>\n",
              "      <td>NaN</td>\n",
              "      <td>NaN</td>\n",
              "      <td>NaN</td>\n",
              "      <td>NaN</td>\n",
              "      <td>NaN</td>\n",
              "      <td>NaN</td>\n",
              "      <td>NaN</td>\n",
              "      <td>NaN</td>\n",
              "      <td>NaN</td>\n",
              "      <td>NaN</td>\n",
              "      <td>NaN</td>\n",
              "      <td>NaN</td>\n",
              "      <td>NaN</td>\n",
              "      <td>NaN</td>\n",
              "      <td>NaN</td>\n",
              "      <td>NaN</td>\n",
              "    </tr>\n",
              "    <tr>\n",
              "      <th>8d9e869c-bcbc-432b-83fb-db8a7981034b</th>\n",
              "      <td>3410</td>\n",
              "      <td>2</td>\n",
              "      <td>2021-03-01 00:49:10.013</td>\n",
              "      <td>94</td>\n",
              "      <td>10</td>\n",
              "      <td>{'id': 34, 'name': 'Half End'}</td>\n",
              "      <td>192</td>\n",
              "      <td>{'id': 217, 'name': 'Barcelona'}</td>\n",
              "      <td>{'id': 3, 'name': 'From Free Kick'}</td>\n",
              "      <td>{'id': 217, 'name': 'Barcelona'}</td>\n",
              "      <td>0.000000</td>\n",
              "      <td>NaN</td>\n",
              "      <td>[a2a98f9d-49bf-43c0-b00f-f405176b1799]</td>\n",
              "      <td>NaN</td>\n",
              "      <td>NaN</td>\n",
              "      <td>NaN</td>\n",
              "      <td>NaN</td>\n",
              "      <td>NaN</td>\n",
              "      <td>NaN</td>\n",
              "      <td>NaN</td>\n",
              "      <td>NaN</td>\n",
              "      <td>NaN</td>\n",
              "      <td>NaN</td>\n",
              "      <td>NaN</td>\n",
              "      <td>NaN</td>\n",
              "      <td>NaN</td>\n",
              "      <td>NaN</td>\n",
              "      <td>NaN</td>\n",
              "      <td>NaN</td>\n",
              "      <td>NaN</td>\n",
              "      <td>NaN</td>\n",
              "      <td>NaN</td>\n",
              "      <td>NaN</td>\n",
              "      <td>NaN</td>\n",
              "      <td>NaN</td>\n",
              "      <td>NaN</td>\n",
              "    </tr>\n",
              "    <tr>\n",
              "      <th>a2a98f9d-49bf-43c0-b00f-f405176b1799</th>\n",
              "      <td>3411</td>\n",
              "      <td>2</td>\n",
              "      <td>2021-03-01 00:49:10.013</td>\n",
              "      <td>94</td>\n",
              "      <td>10</td>\n",
              "      <td>{'id': 34, 'name': 'Half End'}</td>\n",
              "      <td>192</td>\n",
              "      <td>{'id': 217, 'name': 'Barcelona'}</td>\n",
              "      <td>{'id': 3, 'name': 'From Free Kick'}</td>\n",
              "      <td>{'id': 215, 'name': 'Athletic Bilbao'}</td>\n",
              "      <td>0.000000</td>\n",
              "      <td>NaN</td>\n",
              "      <td>[8d9e869c-bcbc-432b-83fb-db8a7981034b]</td>\n",
              "      <td>NaN</td>\n",
              "      <td>NaN</td>\n",
              "      <td>NaN</td>\n",
              "      <td>NaN</td>\n",
              "      <td>NaN</td>\n",
              "      <td>NaN</td>\n",
              "      <td>NaN</td>\n",
              "      <td>NaN</td>\n",
              "      <td>NaN</td>\n",
              "      <td>NaN</td>\n",
              "      <td>NaN</td>\n",
              "      <td>NaN</td>\n",
              "      <td>NaN</td>\n",
              "      <td>NaN</td>\n",
              "      <td>NaN</td>\n",
              "      <td>NaN</td>\n",
              "      <td>NaN</td>\n",
              "      <td>NaN</td>\n",
              "      <td>NaN</td>\n",
              "      <td>NaN</td>\n",
              "      <td>NaN</td>\n",
              "      <td>NaN</td>\n",
              "      <td>NaN</td>\n",
              "    </tr>\n",
              "  </tbody>\n",
              "</table>\n",
              "<p>3411 rows × 36 columns</p>\n",
              "</div>"
            ],
            "text/plain": [
              "                                      index  period  ... block  substitution\n",
              "id                                                   ...                    \n",
              "87b9074c-7685-416e-b7c1-32468fa9c7d1      1       1  ...   NaN           NaN\n",
              "cc8a26a1-8017-47c9-bb30-d25f9b9ffd28      2       1  ...   NaN           NaN\n",
              "f61d2eef-33af-40f0-ac0f-97da900cf799      3       1  ...   NaN           NaN\n",
              "cd5ffdc1-b39f-4649-9d0b-bdb09a952e42      4       1  ...   NaN           NaN\n",
              "6edb25f9-206f-47ca-a8ea-0900c63f1fdf      5       1  ...   NaN           NaN\n",
              "...                                     ...     ...  ...   ...           ...\n",
              "4aa90710-c9f1-4dac-8a89-b713b35b2547   3407       2  ...   NaN           NaN\n",
              "2a8a9a34-c4c0-421c-8b1e-615246a38d6a   3408       2  ...   NaN           NaN\n",
              "a95c3ca5-6b68-4fc5-ba55-4d728a08a953   3409       2  ...   NaN           NaN\n",
              "8d9e869c-bcbc-432b-83fb-db8a7981034b   3410       2  ...   NaN           NaN\n",
              "a2a98f9d-49bf-43c0-b00f-f405176b1799   3411       2  ...   NaN           NaN\n",
              "\n",
              "[3411 rows x 36 columns]"
            ]
          },
          "metadata": {
            "tags": []
          },
          "execution_count": 94
        }
      ]
    },
    {
      "cell_type": "code",
      "metadata": {
        "colab": {
          "base_uri": "https://localhost:8080/"
        },
        "id": "JfoNJdluMVcN",
        "outputId": "74e25acc-c66e-4886-d88d-37c738a97fc9"
      },
      "source": [
        "match.iloc[0][\"tactics\"]"
      ],
      "execution_count": null,
      "outputs": [
        {
          "output_type": "execute_result",
          "data": {
            "text/plain": [
              "{'formation': 433,\n",
              " 'lineup': [{'jersey_number': 1,\n",
              "   'player': {'id': 20176, 'name': 'Víctor Valdés Arribas'},\n",
              "   'position': {'id': 1, 'name': 'Goalkeeper'}},\n",
              "  {'jersey_number': 5,\n",
              "   'player': {'id': 20125, 'name': 'Carles Puyol i Saforcada'},\n",
              "   'position': {'id': 2, 'name': 'Right Back'}},\n",
              "  {'jersey_number': 3,\n",
              "   'player': {'id': 5213, 'name': 'Gerard Piqué Bernabéu'},\n",
              "   'position': {'id': 3, 'name': 'Right Center Back'}},\n",
              "  {'jersey_number': 4,\n",
              "   'player': {'id': 5558, 'name': 'Rafael Márquez Álvarez'},\n",
              "   'position': {'id': 5, 'name': 'Left Center Back'}},\n",
              "  {'jersey_number': 16,\n",
              "   'player': {'id': 25854, 'name': 'Sylvio Mendes Campos Junior'},\n",
              "   'position': {'id': 6, 'name': 'Left Back'}},\n",
              "  {'jersey_number': 16,\n",
              "   'player': {'id': 5203, 'name': 'Sergio Busquets i Burgos'},\n",
              "   'position': {'id': 10, 'name': 'Center Defensive Midfield'}},\n",
              "  {'jersey_number': 6,\n",
              "   'player': {'id': 20131, 'name': 'Xavier Hernández Creus'},\n",
              "   'position': {'id': 13, 'name': 'Right Center Midfield'}},\n",
              "  {'jersey_number': 8,\n",
              "   'player': {'id': 5216, 'name': 'Andrés Iniesta Luján'},\n",
              "   'position': {'id': 15, 'name': 'Left Center Midfield'}},\n",
              "  {'jersey_number': 10,\n",
              "   'player': {'id': 5503, 'name': 'Lionel Andrés Messi Cuccittini'},\n",
              "   'position': {'id': 17, 'name': 'Right Wing'}},\n",
              "  {'jersey_number': 14,\n",
              "   'player': {'id': 15516, 'name': 'Thierry Henry'},\n",
              "   'position': {'id': 21, 'name': 'Left Wing'}},\n",
              "  {'jersey_number': 9,\n",
              "   'player': {'id': 19298, 'name': 'Samuel Eto\"o Fils'},\n",
              "   'position': {'id': 23, 'name': 'Center Forward'}}]}"
            ]
          },
          "metadata": {
            "tags": []
          },
          "execution_count": 91
        }
      ]
    },
    {
      "cell_type": "markdown",
      "metadata": {
        "id": "lAAFILVx5x1j"
      },
      "source": [
        "Index(['pass_angle', 'pass_length', 'pass_outcome', 'duration',\r\n",
        "       'end_location_x', 'end_location_y', 'start_location_x',\r\n",
        "       'start_location_y'],\r\n",
        "      dtype='object')"
      ]
    },
    {
      "cell_type": "code",
      "metadata": {
        "id": "pFA3Hz45P6Jt"
      },
      "source": [
        "j=0\r\n",
        "names=[]\r\n",
        "val1=[]\r\n",
        "val=[]\r\n",
        "for i in match.iloc[0:3000][\"pass\"]:\r\n",
        "  if ((str(i)!=\"nan\") and (match.iloc[j][\"possession_team\"][\"name\"]==\"Barcelona\")):\r\n",
        "    v=[[i[\"angle\"],i[\"length\"],match.iloc[j][\"duration\"],i[\"end_location\"][0],i[\"end_location\"][1],match.iloc[j][\"location\"][0],match.iloc[j][\"location\"][1]]]\r\n",
        "    #print([i[\"length\"],i[\"end_location\"][0],i[\"end_location\"][1],match.iloc[j][\"duration\"],i[\"angle\"]],i[\"recipient\"][\"name\"])\r\n",
        "    if \"outcome\" not in i:\r\n",
        "      #print(model.predict(xx.transform(v)),i[\"outcome\"][\"name\"],match.iloc[j][\"player\"][\"name\"])\r\n",
        "      val.append(model.predict(xx.transform(v))[0][0])\r\n",
        "      names.append(match.iloc[j][\"player\"][\"name\"])\r\n",
        "    else:\r\n",
        "      val1.append(model.predict(xx.transform(v))[0][0])\r\n",
        "  j+=1"
      ],
      "execution_count": null,
      "outputs": []
    },
    {
      "cell_type": "code",
      "metadata": {
        "colab": {
          "base_uri": "https://localhost:8080/",
          "height": 295
        },
        "id": "avF87I-74PEy",
        "outputId": "517b4ddd-04fc-46bc-95fd-bfe24d71b49f"
      },
      "source": [
        "plt.hist(val+val1,bins=15)\r\n",
        "plt.xlabel(\"pass easiness\")\r\n",
        "plt.ylabel(\"no. of passes\")\r\n",
        "plt.title(\"Pass Histogram -> O means easy pass and 1 means hard pass\")\r\n",
        "plt.show()\r\n",
        "# 0 means easy pass and 1 means hard pass."
      ],
      "execution_count": null,
      "outputs": [
        {
          "output_type": "display_data",
          "data": {
            "image/png": "[encoded data removed]",
            "text/plain": [
              "<Figure size 432x288 with 1 Axes>"
            ]
          },
          "metadata": {
            "tags": [],
            "needs_background": "light"
          }
        }
      ]
    },
    {
      "cell_type": "code",
      "metadata": {
        "id": "Cg6ZnDCxqnos"
      },
      "source": [
        "dic=dict()\r\n",
        "count=dict()\r\n",
        "for i in set(names):\r\n",
        "  dic[i]=0\r\n",
        "  count[i]=0\r\n",
        "for j in range(len(val)):\r\n",
        "  dic[names[j]]+=val[j]\r\n",
        "  count[names[j]]+=1"
      ],
      "execution_count": null,
      "outputs": []
    },
    {
      "cell_type": "code",
      "metadata": {
        "id": "Gccy1P4mp9Zd"
      },
      "source": [
        "for i in dic.keys():\r\n",
        "  dic[i]=dic[i]/count[i]"
      ],
      "execution_count": null,
      "outputs": []
    },
    {
      "cell_type": "code",
      "metadata": {
        "colab": {
          "base_uri": "https://localhost:8080/"
        },
        "id": "llfBXjSgqmSe",
        "outputId": "17c42af1-d5a6-4cd1-888b-7aafda8f60bf"
      },
      "source": [
        "len(val1)"
      ],
      "execution_count": null,
      "outputs": [
        {
          "output_type": "execute_result",
          "data": {
            "text/plain": [
              "95"
            ]
          },
          "metadata": {
            "tags": []
          },
          "execution_count": 122
        }
      ]
    },
    {
      "cell_type": "code",
      "metadata": {
        "colab": {
          "base_uri": "https://localhost:8080/"
        },
        "id": "JaijGDzIgr3C",
        "outputId": "6f022726-9667-40d8-f028-a455c027fe76"
      },
      "source": [
        "dic"
      ],
      "execution_count": null,
      "outputs": [
        {
          "output_type": "execute_result",
          "data": {
            "text/plain": [
              "{'Andoni Iraola Sagarna': 0.31697091460227966,\n",
              " 'Andrés Iniesta Luján': 0.29964089862352133,\n",
              " 'Carles Puyol i Saforcada': 0.17975456837746429,\n",
              " 'Carlos Gurpegi Nausia': 0.11313187144696712,\n",
              " 'Fernando Amorebieta Mardaras': 0.4745787273471554,\n",
              " 'Fernando Llorente Torres': 0.14907629787921906,\n",
              " 'Gerard Piqué Bernabéu': 0.2782483273820782,\n",
              " 'Gorka Iraizoz Moreno': 0.7204262018203735,\n",
              " 'Javier Martínez Aginaga': 0.1243538036942482,\n",
              " 'Koikili Lertxundi Del Campo': 0.16584303975105286,\n",
              " 'Lionel Andrés Messi Cuccittini': 0.32239898881225876,\n",
              " 'Pablo Orbaiz Lesaka': 0.2882261872291565,\n",
              " 'Rafael Márquez Álvarez': 0.3457334717310479,\n",
              " 'Samuel Eto\"o Fils': 0.36377217682699364,\n",
              " 'Sergio Busquets i Burgos': 0.22915463713463397,\n",
              " 'Sylvio Mendes Campos Junior': 0.2929763361409476,\n",
              " 'Thierry Henry': 0.38087348888317746,\n",
              " 'Víctor Valdés Arribas': 0.30544380117207764,\n",
              " 'Xavier Hernández Creus': 0.27974427426094883}"
            ]
          },
          "metadata": {
            "tags": []
          },
          "execution_count": 123
        }
      ]
    },
    {
      "cell_type": "code",
      "metadata": {
        "colab": {
          "base_uri": "https://localhost:8080/"
        },
        "id": "sCJAT5WV9FQP",
        "outputId": "fe9691ac-6b15-41d0-bd26-efebda0564c5"
      },
      "source": [
        "len(dic)"
      ],
      "execution_count": null,
      "outputs": [
        {
          "output_type": "execute_result",
          "data": {
            "text/plain": [
              "19"
            ]
          },
          "metadata": {
            "tags": []
          },
          "execution_count": 124
        }
      ]
    },
    {
      "cell_type": "code",
      "metadata": {
        "id": "2DS9aDYGh0OH"
      },
      "source": [
        "# we can see above and find the GOAT is making lots of difficult passing."
      ],
      "execution_count": null,
      "outputs": []
    },
    {
      "cell_type": "markdown",
      "metadata": {
        "id": "oNShKpzC8Ikr"
      },
      "source": [
        "if using this model in future use the features in the order of \r\n",
        "\r\n",
        "['pass_angle', 'pass_length','duration', 'end_location_x', 'end_location_y', 'start_location_x', 'start_location_y']"
      ]
    },
    {
      "cell_type": "code",
      "metadata": {
        "id": "AsamiReE8UbB"
      },
      "source": [
        ""
      ],
      "execution_count": null,
      "outputs": []
    }
  ]
}