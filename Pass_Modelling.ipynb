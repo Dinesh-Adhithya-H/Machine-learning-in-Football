{
  "nbformat": 4,
  "nbformat_minor": 0,
  "metadata": {
    "colab": {
      "name": "Pass_Modelling.ipynb",
      "provenance": [],
      "collapsed_sections": [],
      "authorship_tag": "ABX9TyPcAs6bSC17xBMh4IbGLEAU",
      "include_colab_link": true
    },
    "kernelspec": {
      "name": "python3",
      "display_name": "Python 3"
    },
    "accelerator": "TPU"
  },
  "cells": [
    {
      "cell_type": "markdown",
      "metadata": {
        "id": "view-in-github",
        "colab_type": "text"
      },
      "source": [
        "<a href=\"https://colab.research.google.com/github/Dinesh-Adhithya-H/Machine-learning-in-Football/blob/main/Pass_Modelling.ipynb\" target=\"_parent\"><img src=\"https://colab.research.google.com/assets/colab-badge.svg\" alt=\"Open In Colab\"/></a>"
      ]
    },
    {
      "cell_type": "markdown",
      "metadata": {
        "id": "6_HnmOq57pIT"
      },
      "source": [
        "# Xp model for passes during football matches"
      ]
    },
    {
      "cell_type": "code",
      "metadata": {
        "id": "2L4PVEstxgpn"
      },
      "source": [
        "import numpy as np\r\n",
        "import matplotlib.pyplot as plt\r\n",
        "import sklearn as sk\r\n",
        "import pandas as pd\r\n",
        "import json\r\n",
        "import seaborn as sns\r\n",
        "import pickle\r\n",
        "from sklearn.model_selection import train_test_split\r\n",
        "from sklearn.preprocessing import MinMaxScaler\r\n",
        "from sklearn.linear_model import LinearRegression,Lasso,Ridge,SGDClassifier,LogisticRegression,SGDRegressor,LogisticRegression\r\n",
        "from sklearn.metrics import roc_curve, roc_auc_score, precision_recall_curve\r\n",
        "from sklearn.utils import shuffle\r\n",
        "import xgboost\r\n",
        "from sklearn.ensemble import RandomForestClassifier"
      ],
      "execution_count": null,
      "outputs": []
    },
    {
      "cell_type": "code",
      "metadata": {
        "colab": {
          "base_uri": "https://localhost:8080/"
        },
        "id": "VGkTN4z3ymc8",
        "outputId": "268080c1-00a6-48f2-c256-4d75ac43db30"
      },
      "source": [
        "from google.colab import drive\r\n",
        "drive.mount('/content/drive')"
      ],
      "execution_count": null,
      "outputs": [
        {
          "output_type": "stream",
          "text": [
            "Mounted at /content/drive\n"
          ],
          "name": "stdout"
        }
      ]
    },
    {
      "cell_type": "code",
      "metadata": {
        "id": "2gQEDoaAxtta"
      },
      "source": [
        "data=pd.read_pickle(\"/content/drive/My Drive/passes_dataset (1).pkl\")\r\n",
        "data=shuffle(data)"
      ],
      "execution_count": null,
      "outputs": []
    },
    {
      "cell_type": "code",
      "metadata": {
        "colab": {
          "base_uri": "https://localhost:8080/",
          "height": 419
        },
        "id": "CMc1bNW1x91n",
        "outputId": "7be2589d-e9a6-4462-ecad-d3498b8e2365"
      },
      "source": [
        "data"
      ],
      "execution_count": null,
      "outputs": [
        {
          "output_type": "execute_result",
          "data": {
            "text/html": [
              "<div>\n",
              "<style scoped>\n",
              "    .dataframe tbody tr th:only-of-type {\n",
              "        vertical-align: middle;\n",
              "    }\n",
              "\n",
              "    .dataframe tbody tr th {\n",
              "        vertical-align: top;\n",
              "    }\n",
              "\n",
              "    .dataframe thead th {\n",
              "        text-align: right;\n",
              "    }\n",
              "</style>\n",
              "<table border=\"1\" class=\"dataframe\">\n",
              "  <thead>\n",
              "    <tr style=\"text-align: right;\">\n",
              "      <th></th>\n",
              "      <th>pass_angle</th>\n",
              "      <th>pass_length</th>\n",
              "      <th>pass_outcome</th>\n",
              "      <th>duration</th>\n",
              "      <th>end_location_x</th>\n",
              "      <th>end_location_y</th>\n",
              "      <th>start_location_x</th>\n",
              "      <th>start_location_y</th>\n",
              "    </tr>\n",
              "  </thead>\n",
              "  <tbody>\n",
              "    <tr>\n",
              "      <th>93</th>\n",
              "      <td>-1.390943</td>\n",
              "      <td>11.180340</td>\n",
              "      <td>Complete</td>\n",
              "      <td>0.899948</td>\n",
              "      <td>89.0</td>\n",
              "      <td>57.0</td>\n",
              "      <td>87.0</td>\n",
              "      <td>68.0</td>\n",
              "    </tr>\n",
              "    <tr>\n",
              "      <th>387</th>\n",
              "      <td>-0.730765</td>\n",
              "      <td>18.128983</td>\n",
              "      <td>Complete</td>\n",
              "      <td>1.555900</td>\n",
              "      <td>27.7</td>\n",
              "      <td>32.1</td>\n",
              "      <td>14.2</td>\n",
              "      <td>44.2</td>\n",
              "    </tr>\n",
              "    <tr>\n",
              "      <th>790</th>\n",
              "      <td>0.501013</td>\n",
              "      <td>57.462334</td>\n",
              "      <td>Complete</td>\n",
              "      <td>3.033300</td>\n",
              "      <td>90.6</td>\n",
              "      <td>33.4</td>\n",
              "      <td>40.2</td>\n",
              "      <td>5.8</td>\n",
              "    </tr>\n",
              "    <tr>\n",
              "      <th>482</th>\n",
              "      <td>-1.051650</td>\n",
              "      <td>16.124516</td>\n",
              "      <td>Complete</td>\n",
              "      <td>1.799000</td>\n",
              "      <td>79.0</td>\n",
              "      <td>40.0</td>\n",
              "      <td>71.0</td>\n",
              "      <td>54.0</td>\n",
              "    </tr>\n",
              "    <tr>\n",
              "      <th>909</th>\n",
              "      <td>-1.231504</td>\n",
              "      <td>18.027756</td>\n",
              "      <td>Complete</td>\n",
              "      <td>1.360000</td>\n",
              "      <td>18.0</td>\n",
              "      <td>22.0</td>\n",
              "      <td>12.0</td>\n",
              "      <td>39.0</td>\n",
              "    </tr>\n",
              "    <tr>\n",
              "      <th>...</th>\n",
              "      <td>...</td>\n",
              "      <td>...</td>\n",
              "      <td>...</td>\n",
              "      <td>...</td>\n",
              "      <td>...</td>\n",
              "      <td>...</td>\n",
              "      <td>...</td>\n",
              "      <td>...</td>\n",
              "    </tr>\n",
              "    <tr>\n",
              "      <th>6</th>\n",
              "      <td>1.808632</td>\n",
              "      <td>3.395585</td>\n",
              "      <td>Complete</td>\n",
              "      <td>0.503206</td>\n",
              "      <td>60.2</td>\n",
              "      <td>44.3</td>\n",
              "      <td>61.0</td>\n",
              "      <td>41.0</td>\n",
              "    </tr>\n",
              "    <tr>\n",
              "      <th>178</th>\n",
              "      <td>0.915242</td>\n",
              "      <td>43.143135</td>\n",
              "      <td>Complete</td>\n",
              "      <td>3.348105</td>\n",
              "      <td>52.4</td>\n",
              "      <td>74.2</td>\n",
              "      <td>26.1</td>\n",
              "      <td>40.0</td>\n",
              "    </tr>\n",
              "    <tr>\n",
              "      <th>818</th>\n",
              "      <td>-0.296115</td>\n",
              "      <td>6.168468</td>\n",
              "      <td>Complete</td>\n",
              "      <td>0.815277</td>\n",
              "      <td>71.5</td>\n",
              "      <td>14.2</td>\n",
              "      <td>65.6</td>\n",
              "      <td>16.0</td>\n",
              "    </tr>\n",
              "    <tr>\n",
              "      <th>128</th>\n",
              "      <td>0.165149</td>\n",
              "      <td>12.165525</td>\n",
              "      <td>Complete</td>\n",
              "      <td>0.107000</td>\n",
              "      <td>87.0</td>\n",
              "      <td>6.0</td>\n",
              "      <td>75.0</td>\n",
              "      <td>4.0</td>\n",
              "    </tr>\n",
              "    <tr>\n",
              "      <th>544</th>\n",
              "      <td>0.099669</td>\n",
              "      <td>20.099750</td>\n",
              "      <td>Incomplete</td>\n",
              "      <td>3.213000</td>\n",
              "      <td>76.0</td>\n",
              "      <td>29.0</td>\n",
              "      <td>56.0</td>\n",
              "      <td>27.0</td>\n",
              "    </tr>\n",
              "  </tbody>\n",
              "</table>\n",
              "<p>861714 rows × 8 columns</p>\n",
              "</div>"
            ],
            "text/plain": [
              "     pass_angle  pass_length  ... start_location_x  start_location_y\n",
              "93    -1.390943    11.180340  ...             87.0              68.0\n",
              "387   -0.730765    18.128983  ...             14.2              44.2\n",
              "790    0.501013    57.462334  ...             40.2               5.8\n",
              "482   -1.051650    16.124516  ...             71.0              54.0\n",
              "909   -1.231504    18.027756  ...             12.0              39.0\n",
              "..          ...          ...  ...              ...               ...\n",
              "6      1.808632     3.395585  ...             61.0              41.0\n",
              "178    0.915242    43.143135  ...             26.1              40.0\n",
              "818   -0.296115     6.168468  ...             65.6              16.0\n",
              "128    0.165149    12.165525  ...             75.0               4.0\n",
              "544    0.099669    20.099750  ...             56.0              27.0\n",
              "\n",
              "[861714 rows x 8 columns]"
            ]
          },
          "metadata": {
            "tags": []
          },
          "execution_count": 4
        }
      ]
    },
    {
      "cell_type": "code",
      "metadata": {
        "colab": {
          "base_uri": "https://localhost:8080/",
          "height": 282
        },
        "id": "6Tj5uI8LzFEd",
        "outputId": "493f8f5f-705a-4918-f0c4-a1b19aceec62"
      },
      "source": [
        "plt.hist(data[\"pass_outcome\"])\r\n",
        "plt.plot()"
      ],
      "execution_count": null,
      "outputs": [
        {
          "output_type": "execute_result",
          "data": {
            "text/plain": [
              "[]"
            ]
          },
          "metadata": {
            "tags": []
          },
          "execution_count": 5
        },
        {
          "output_type": "display_data",
          "data": {
            "image/png": "[encoded data removed]",
            "text/plain": [
              "<Figure size 432x288 with 1 Axes>"
            ]
          },
          "metadata": {
            "tags": [],
            "needs_background": "light"
          }
        }
      ]
    },
    {
      "cell_type": "code",
      "metadata": {
        "colab": {
          "base_uri": "https://localhost:8080/"
        },
        "id": "Jai0snOWzbPf",
        "outputId": "6fe9dacb-2d7c-4dae-c85c-b0baf22cbc78"
      },
      "source": [
        "len(data[data[\"pass_outcome\"]==\"Incomplete\"])+len(data[data[\"pass_outcome\"]==\"Out\"]),len(data[data[\"pass_outcome\"]==\"Complete\"])"
      ],
      "execution_count": null,
      "outputs": [
        {
          "output_type": "execute_result",
          "data": {
            "text/plain": [
              "(173101, 678693)"
            ]
          },
          "metadata": {
            "tags": []
          },
          "execution_count": 6
        }
      ]
    },
    {
      "cell_type": "code",
      "metadata": {
        "id": "O86FKlND-AkW"
      },
      "source": [
        "data.to_pickle(\"passes_dataset.pkl\")"
      ],
      "execution_count": null,
      "outputs": []
    },
    {
      "cell_type": "code",
      "metadata": {
        "id": "3yJP8rSOz9ap"
      },
      "source": [
        "x=np.array(data[data[\"pass_outcome\"]==\"Incomplete\"])[:,[0,1,3,4,5,6,7]]\r\n",
        "x=np.append(x,np.array(data[data[\"pass_outcome\"]==\"Out\"])[:,[0,1,3,4,5,6,7]],0)\r\n",
        "p=np.array(data[data[\"pass_outcome\"]==\"Complete\"].iloc[:173101])\r\n",
        "X=np.append(x,p[:,[0,1,3,4,5,6,7]],0)\r\n",
        "y=np.zeros(173101*2)\r\n",
        "y[173101:]=1.0"
      ],
      "execution_count": null,
      "outputs": []
    },
    {
      "cell_type": "code",
      "metadata": {
        "colab": {
          "base_uri": "https://localhost:8080/"
        },
        "id": "V436gUDZdzDo",
        "outputId": "bafd99b0-5003-4e1f-a9d1-49e296818ae7"
      },
      "source": [
        "data.columns"
      ],
      "execution_count": null,
      "outputs": [
        {
          "output_type": "execute_result",
          "data": {
            "text/plain": [
              "Index(['pass_angle', 'pass_length', 'pass_outcome', 'duration',\n",
              "       'end_location_x', 'end_location_y', 'start_location_x',\n",
              "       'start_location_y'],\n",
              "      dtype='object')"
            ]
          },
          "metadata": {
            "tags": []
          },
          "execution_count": 13
        }
      ]
    },
    {
      "cell_type": "code",
      "metadata": {
        "id": "oiJwBMCEedgF"
      },
      "source": [
        ""
      ],
      "execution_count": null,
      "outputs": []
    },
    {
      "cell_type": "code",
      "metadata": {
        "id": "Xntqzki9956d"
      },
      "source": [
        ""
      ],
      "execution_count": null,
      "outputs": []
    },
    {
      "cell_type": "code",
      "metadata": {
        "colab": {
          "base_uri": "https://localhost:8080/"
        },
        "id": "gugXMnEG1_RX",
        "outputId": "a355530a-6281-4817-faf3-9a1d549f5e82"
      },
      "source": [
        "X.shape,y.shape"
      ],
      "execution_count": null,
      "outputs": [
        {
          "output_type": "execute_result",
          "data": {
            "text/plain": [
              "((346202, 7), (346202,))"
            ]
          },
          "metadata": {
            "tags": []
          },
          "execution_count": 14
        }
      ]
    },
    {
      "cell_type": "code",
      "metadata": {
        "id": "AOlhHbou2wkr"
      },
      "source": [
        "xx=MinMaxScaler().fit(X)\r\n",
        "x=xx.transform(X)"
      ],
      "execution_count": null,
      "outputs": []
    },
    {
      "cell_type": "code",
      "metadata": {
        "id": "RBRI3Xa04Ktf"
      },
      "source": [
        "x,y=shuffle(x,y,random_state=69)"
      ],
      "execution_count": null,
      "outputs": []
    },
    {
      "cell_type": "code",
      "metadata": {
        "id": "2RSspo3047vw"
      },
      "source": [
        "x_train,x_test,y_train,y_test=train_test_split(x,y)"
      ],
      "execution_count": null,
      "outputs": []
    },
    {
      "cell_type": "code",
      "metadata": {
        "colab": {
          "base_uri": "https://localhost:8080/",
          "height": 331
        },
        "id": "SiqJVfEw4-VP",
        "outputId": "b52313e0-1f61-4543-fdcf-28c20524238f"
      },
      "source": [
        "lr=xgboost.XGBRegressor().fit(x_train,y_train)\r\n",
        "print(np.mean(np.abs(lr.predict(x_test)-y_test)))\r\n",
        "y_train_pred = lr.predict(x_test)\r\n",
        "x,y,z=roc_curve(y_test,y_train_pred)\r\n",
        "plt.plot(x,y,label=\"Linear regression\")\r\n",
        "plt.plot([0,1],[0,1])\r\n",
        "plt.xlabel(\"False positive rate\")\r\n",
        "plt.ylabel(\"True positive rate\")\r\n",
        "plt.title(\"ROC CURVE\")\r\n",
        "plt.legend()\r\n",
        "plt.show()"
      ],
      "execution_count": null,
      "outputs": [
        {
          "output_type": "stream",
          "text": [
            "[07:24:14] WARNING: /workspace/src/objective/regression_obj.cu:152: reg:linear is now deprecated in favor of reg:squarederror.\n",
            "0.2972342281425928\n"
          ],
          "name": "stdout"
        },
        {
          "output_type": "display_data",
          "data": {
            "image/png": "[encoded data removed]",
            "text/plain": [
              "<Figure size 432x288 with 1 Axes>"
            ]
          },
          "metadata": {
            "tags": [],
            "needs_background": "light"
          }
        }
      ]
    },
    {
      "cell_type": "code",
      "metadata": {
        "colab": {
          "base_uri": "https://localhost:8080/"
        },
        "id": "A4s7GKqP5fRa",
        "outputId": "abafd72b-d6bd-4633-d0f7-2ea333019e53"
      },
      "source": [
        "roc_auc_score(y_test,y_train_pred)"
      ],
      "execution_count": null,
      "outputs": [
        {
          "output_type": "execute_result",
          "data": {
            "text/plain": [
              "0.8839165758093064"
            ]
          },
          "metadata": {
            "tags": []
          },
          "execution_count": 15
        }
      ]
    },
    {
      "cell_type": "code",
      "metadata": {
        "colab": {
          "base_uri": "https://localhost:8080/",
          "height": 593
        },
        "id": "WgdaN7dX5m9s",
        "outputId": "18eeed55-d7e2-4ce4-b6a1-b62eb4c77576"
      },
      "source": [
        "plt.figure(figsize=(10,10))\r\n",
        "plt.scatter(np.arange(len(y_train_pred)),y_train_pred,label=\"model prediction\")\r\n",
        "plt.scatter(np.arange(len(y_train_pred)),y_test,label=\"expected\")\r\n",
        "plt.legend()\r\n",
        "plt.grid()\r\n",
        "plt.show()"
      ],
      "execution_count": null,
      "outputs": [
        {
          "output_type": "display_data",
          "data": {
            "image/png": "[encoded data removed]",
            "text/plain": [
              "<Figure size 720x720 with 1 Axes>"
            ]
          },
          "metadata": {
            "tags": [],
            "needs_background": "light"
          }
        }
      ]
    },
    {
      "cell_type": "code",
      "metadata": {
        "id": "2NtCGJTe5sMa"
      },
      "source": [
        "confusion_marix=np.array([[0,0],[0,0]])\r\n",
        "for i in range(len(y_test)):\r\n",
        "  if y_train_pred[i]<=0.5:\r\n",
        "    if y_train[i]==0.0:\r\n",
        "      confusion_marix[0][0]+=1\r\n",
        "    else:\r\n",
        "      confusion_marix[0][1]+=1\r\n",
        "  else:\r\n",
        "    if y_train[i]==0.0:\r\n",
        "      confusion_marix[1][0]+=1\r\n",
        "    else:\r\n",
        "      confusion_marix[1][1]+=1"
      ],
      "execution_count": null,
      "outputs": []
    },
    {
      "cell_type": "code",
      "metadata": {
        "colab": {
          "base_uri": "https://localhost:8080/"
        },
        "id": "k7uDKr3E6AX8",
        "outputId": "e47cc86d-754a-4964-f9fd-0bd27f6ac0a0"
      },
      "source": [
        "np.mean(np.abs(y_train_pred-y_test))"
      ],
      "execution_count": null,
      "outputs": [
        {
          "output_type": "execute_result",
          "data": {
            "text/plain": [
              "0.2972342281425928"
            ]
          },
          "metadata": {
            "tags": []
          },
          "execution_count": 18
        }
      ]
    },
    {
      "cell_type": "code",
      "metadata": {
        "colab": {
          "base_uri": "https://localhost:8080/"
        },
        "id": "umEMS2w27q8q",
        "outputId": "9da27d48-0881-421e-d569-037c40d40f8e"
      },
      "source": [
        "confusion_marix"
      ],
      "execution_count": null,
      "outputs": [
        {
          "output_type": "execute_result",
          "data": {
            "text/plain": [
              "array([[20953, 20878],\n",
              "       [22269, 22451]])"
            ]
          },
          "metadata": {
            "tags": []
          },
          "execution_count": 19
        }
      ]
    },
    {
      "cell_type": "code",
      "metadata": {
        "colab": {
          "base_uri": "https://localhost:8080/"
        },
        "id": "RTXwx-FI8w8-",
        "outputId": "af2e15e0-31ff-4b19-bb04-c5d084fdf5f6"
      },
      "source": [
        "from sklearn.neural_network import MLPRegressor,MLPClassifier\r\n",
        "regr = MLPClassifier(alpha=0.01,random_state=1, max_iter=500).fit(x_train, y_train)\r\n",
        "regr.score(x_test, y_test)"
      ],
      "execution_count": null,
      "outputs": [
        {
          "output_type": "stream",
          "text": [
            "/usr/local/lib/python3.7/dist-packages/sklearn/neural_network/_multilayer_perceptron.py:573: UserWarning: Training interrupted by user.\n",
            "  warnings.warn(\"Training interrupted by user.\")\n"
          ],
          "name": "stderr"
        },
        {
          "output_type": "execute_result",
          "data": {
            "text/plain": [
              "0.8067382237062541"
            ]
          },
          "metadata": {
            "tags": []
          },
          "execution_count": 20
        }
      ]
    },
    {
      "cell_type": "code",
      "metadata": {
        "id": "e0B_eayG8iXp"
      },
      "source": [
        "y_train_pred=regr.predict_proba(x_test)[:,1]\r\n",
        "confusion_marix=np.array([[0,0],[0,0]])\r\n",
        "for i in range(len(y_test)):\r\n",
        "  if y_train_pred[i]<=0.5:\r\n",
        "    if y_train[i]==0.0:\r\n",
        "      confusion_marix[0][0]+=1\r\n",
        "    else:\r\n",
        "      confusion_marix[0][1]+=1\r\n",
        "  else:\r\n",
        "    if y_train[i]==0.0:\r\n",
        "      confusion_marix[1][0]+=1\r\n",
        "    else:\r\n",
        "      confusion_marix[1][1]+=1"
      ],
      "execution_count": null,
      "outputs": []
    },
    {
      "cell_type": "code",
      "metadata": {
        "colab": {
          "base_uri": "https://localhost:8080/"
        },
        "id": "fbFqYV_39Bhr",
        "outputId": "bbfd23fb-917e-40e0-f135-d01762bab4e5"
      },
      "source": [
        "confusion_marix"
      ],
      "execution_count": null,
      "outputs": [
        {
          "output_type": "execute_result",
          "data": {
            "text/plain": [
              "array([[20540, 20431],\n",
              "       [22682, 22898]])"
            ]
          },
          "metadata": {
            "tags": []
          },
          "execution_count": 22
        }
      ]
    },
    {
      "cell_type": "code",
      "metadata": {
        "id": "WCB1RRup__55"
      },
      "source": [
        "import tensorflow as tf\r\n",
        "from tensorflow import keras"
      ],
      "execution_count": null,
      "outputs": []
    },
    {
      "cell_type": "code",
      "metadata": {
        "colab": {
          "base_uri": "https://localhost:8080/"
        },
        "id": "zIVu-29e9C9d",
        "outputId": "ceac2fdf-8d9d-459a-a07f-415b73de5f3b"
      },
      "source": [
        "\r\n",
        "model=tf.keras.models.Sequential([\r\n",
        "  tf.keras.layers.Dense(1028,input_shape=x_train[0].shape),\r\n",
        "  keras.layers.BatchNormalization(),\r\n",
        "  tf.keras.layers.Dense(1208,activation=\"relu\"),\r\n",
        "  keras.layers.Dropout(0.2),\r\n",
        "  keras.layers.BatchNormalization(),\r\n",
        "  #tf.keras.layers.Dense(1208,activation=\"relu\"),\r\n",
        "  #keras.layers.Dropout(0.3),\r\n",
        "  #keras.layers.BatchNormalization(),\r\n",
        "  tf.keras.layers.Dense(2,activation=\"softmax\")\r\n",
        "])\r\n",
        "model.compile(optimizer=keras.optimizers.Adam(lr=0.0005, decay=5e-7),loss=\"sparse_categorical_crossentropy\",metrics=[\"accuracy\"])\r\n",
        "model.summary()"
      ],
      "execution_count": null,
      "outputs": [
        {
          "output_type": "stream",
          "text": [
            "Model: \"sequential_3\"\n",
            "_________________________________________________________________\n",
            "Layer (type)                 Output Shape              Param #   \n",
            "=================================================================\n",
            "dense_12 (Dense)             (None, 1028)              8224      \n",
            "_________________________________________________________________\n",
            "batch_normalization_5 (Batch (None, 1028)              4112      \n",
            "_________________________________________________________________\n",
            "dense_13 (Dense)             (None, 1208)              1243032   \n",
            "_________________________________________________________________\n",
            "dropout_5 (Dropout)          (None, 1208)              0         \n",
            "_________________________________________________________________\n",
            "batch_normalization_6 (Batch (None, 1208)              4832      \n",
            "_________________________________________________________________\n",
            "dense_14 (Dense)             (None, 2)                 2418      \n",
            "=================================================================\n",
            "Total params: 1,262,618\n",
            "Trainable params: 1,258,146\n",
            "Non-trainable params: 4,472\n",
            "_________________________________________________________________\n"
          ],
          "name": "stdout"
        }
      ]
    },
    {
      "cell_type": "code",
      "metadata": {
        "id": "mIPk4le__HUi",
        "colab": {
          "base_uri": "https://localhost:8080/"
        },
        "outputId": "9076ef5e-eedf-4f80-c57a-3d9a0e581bba"
      },
      "source": [
        "x_train=np.array(x_train)\r\n",
        "y_train=np.array(y_train)\r\n",
        "x_test=np.array(x_test)\r\n",
        "y_test=np.array(y_test)\r\n",
        "history=model.fit(x_train,y_train,epochs=10,validation_data=(x_test,y_test))"
      ],
      "execution_count": null,
      "outputs": [
        {
          "output_type": "stream",
          "text": [
            "Epoch 1/10\n",
            "8115/8115 [==============================] - 142s 17ms/step - loss: 0.5879 - accuracy: 0.7232 - val_loss: 0.4776 - val_accuracy: 0.7809\n",
            "Epoch 2/10\n",
            "8115/8115 [==============================] - 141s 17ms/step - loss: 0.4896 - accuracy: 0.7698 - val_loss: 0.4631 - val_accuracy: 0.7882\n",
            "Epoch 3/10\n",
            "8115/8115 [==============================] - 141s 17ms/step - loss: 0.4805 - accuracy: 0.7741 - val_loss: 0.4658 - val_accuracy: 0.7873\n",
            "Epoch 4/10\n",
            "8115/8115 [==============================] - 140s 17ms/step - loss: 0.4749 - accuracy: 0.7783 - val_loss: 0.4561 - val_accuracy: 0.7897\n",
            "Epoch 5/10\n",
            "8115/8115 [==============================] - 142s 18ms/step - loss: 0.4762 - accuracy: 0.7778 - val_loss: 0.4463 - val_accuracy: 0.7965\n",
            "Epoch 6/10\n",
            "8115/8115 [==============================] - 150s 18ms/step - loss: 0.4709 - accuracy: 0.7809 - val_loss: 0.4403 - val_accuracy: 0.8005\n",
            "Epoch 7/10\n",
            "8115/8115 [==============================] - 148s 18ms/step - loss: 0.4676 - accuracy: 0.7817 - val_loss: 0.4526 - val_accuracy: 0.7963\n",
            "Epoch 8/10\n",
            "8115/8115 [==============================] - 142s 18ms/step - loss: 0.4685 - accuracy: 0.7817 - val_loss: 0.4378 - val_accuracy: 0.7992\n",
            "Epoch 9/10\n",
            "8115/8115 [==============================] - 146s 18ms/step - loss: 0.4679 - accuracy: 0.7809 - val_loss: 0.4544 - val_accuracy: 0.7916\n",
            "Epoch 10/10\n",
            "8115/8115 [==============================] - 145s 18ms/step - loss: 0.4645 - accuracy: 0.7827 - val_loss: 0.4493 - val_accuracy: 0.7930\n"
          ],
          "name": "stdout"
        }
      ]
    },
    {
      "cell_type": "code",
      "metadata": {
        "colab": {
          "base_uri": "https://localhost:8080/",
          "height": 592
        },
        "id": "C2XmohBfE-EZ",
        "outputId": "a1015bb4-1e15-4d11-eedf-4f7f1549d84a"
      },
      "source": [
        "y_train_pred = model.predict(x_test)\r\n",
        "plt.figure(figsize=(10,10))\r\n",
        "plt.scatter(np.arange(len(y_train_pred)),y_train_pred[:,1],label=\"model prediction\")\r\n",
        "plt.scatter(np.arange(len(y_train_pred)),y_test,label=\"expected\")\r\n",
        "plt.legend()\r\n",
        "plt.grid()\r\n",
        "plt.show()"
      ],
      "execution_count": null,
      "outputs": [
        {
          "output_type": "display_data",
          "data": {
            "image/png": "[encoded data removed]",
            "text/plain": [
              "<Figure size 720x720 with 1 Axes>"
            ]
          },
          "metadata": {
            "tags": [],
            "needs_background": "light"
          }
        }
      ]
    },
    {
      "cell_type": "code",
      "metadata": {
        "id": "ko0SlIvplH_R"
      },
      "source": [
        "model.save('deep_learning_passes')"
      ],
      "execution_count": null,
      "outputs": []
    },
    {
      "cell_type": "code",
      "metadata": {
        "colab": {
          "base_uri": "https://localhost:8080/"
        },
        "id": "grCkOdZOAUlD",
        "outputId": "2e5f5eaa-ed7b-4ef7-9425-6819a640b823"
      },
      "source": [
        "!wget https://github.com/Dinesh-Adhithya-H/sports-analytics/blob/master/deep_learning_passes.h5?raw=true"
      ],
      "execution_count": null,
      "outputs": [
        {
          "output_type": "stream",
          "text": [
            "--2021-03-05 09:21:13--  https://github.com/Dinesh-Adhithya-H/sports-analytics/blob/master/deep_learning_passes.h5?raw=true\n",
            "Resolving github.com (github.com)... 140.82.112.4\n",
            "Connecting to github.com (github.com)|140.82.112.4|:443... connected.\n",
            "HTTP request sent, awaiting response... 302 Found\n",
            "Location: https://github.com/Dinesh-Adhithya-H/sports-analytics/raw/master/deep_learning_passes.h5 [following]\n",
            "--2021-03-05 09:21:14--  https://github.com/Dinesh-Adhithya-H/sports-analytics/raw/master/deep_learning_passes.h5\n",
            "Reusing existing connection to github.com:443.\n",
            "HTTP request sent, awaiting response... 302 Found\n",
            "Location: https://raw.githubusercontent.com/Dinesh-Adhithya-H/sports-analytics/master/deep_learning_passes.h5 [following]\n",
            "--2021-03-05 09:21:14--  https://raw.githubusercontent.com/Dinesh-Adhithya-H/sports-analytics/master/deep_learning_passes.h5\n",
            "Resolving raw.githubusercontent.com (raw.githubusercontent.com)... 185.199.111.133, 185.199.108.133, 185.199.109.133, ...\n",
            "Connecting to raw.githubusercontent.com (raw.githubusercontent.com)|185.199.111.133|:443... connected.\n",
            "HTTP request sent, awaiting response... 200 OK\n",
            "Length: 15166888 (14M) [application/octet-stream]\n",
            "Saving to: ‘deep_learning_passes.h5?raw=true’\n",
            "\n",
            "deep_learning_passe 100%[===================>]  14.46M  41.1MB/s    in 0.4s    \n",
            "\n",
            "2021-03-05 09:21:14 (41.1 MB/s) - ‘deep_learning_passes.h5?raw=true’ saved [15166888/15166888]\n",
            "\n"
          ],
          "name": "stdout"
        }
      ]
    },
    {
      "cell_type": "code",
      "metadata": {
        "id": "lVIWDF4m7V2F"
      },
      "source": [
        "loaded_model = tf.keras.models.load_model(\"/content/deep_learning_passes.h5?raw=true\")"
      ],
      "execution_count": null,
      "outputs": []
    },
    {
      "cell_type": "code",
      "metadata": {
        "colab": {
          "base_uri": "https://localhost:8080/",
          "height": 306
        },
        "id": "fz8kX7Hv7fWA",
        "outputId": "8303eec3-b738-4e80-9d49-c7f8ce78b735"
      },
      "source": [
        "loaded_model.predict(x_test)"
      ],
      "execution_count": null,
      "outputs": [
        {
          "output_type": "error",
          "ename": "KeyboardInterrupt",
          "evalue": "ignored",
          "traceback": [
            "\u001b[0;31m---------------------------------------------------------------------------\u001b[0m",
            "\u001b[0;31mKeyboardInterrupt\u001b[0m                         Traceback (most recent call last)",
            "\u001b[0;32m<ipython-input-21-b44b6c199904>\u001b[0m in \u001b[0;36m<module>\u001b[0;34m()\u001b[0m\n\u001b[0;32m----> 1\u001b[0;31m \u001b[0mloaded_model\u001b[0m\u001b[0;34m.\u001b[0m\u001b[0mpredict\u001b[0m\u001b[0;34m(\u001b[0m\u001b[0mx_test\u001b[0m\u001b[0;34m)\u001b[0m\u001b[0;34m\u001b[0m\u001b[0;34m\u001b[0m\u001b[0m\n\u001b[0m",
            "\u001b[0;32m/usr/local/lib/python3.7/dist-packages/tensorflow/python/keras/engine/training.py\u001b[0m in \u001b[0;36mpredict\u001b[0;34m(self, x, batch_size, verbose, steps, callbacks, max_queue_size, workers, use_multiprocessing)\u001b[0m\n\u001b[1;32m   1627\u001b[0m           \u001b[0;32mfor\u001b[0m \u001b[0mstep\u001b[0m \u001b[0;32min\u001b[0m \u001b[0mdata_handler\u001b[0m\u001b[0;34m.\u001b[0m\u001b[0msteps\u001b[0m\u001b[0;34m(\u001b[0m\u001b[0;34m)\u001b[0m\u001b[0;34m:\u001b[0m\u001b[0;34m\u001b[0m\u001b[0;34m\u001b[0m\u001b[0m\n\u001b[1;32m   1628\u001b[0m             \u001b[0mcallbacks\u001b[0m\u001b[0;34m.\u001b[0m\u001b[0mon_predict_batch_begin\u001b[0m\u001b[0;34m(\u001b[0m\u001b[0mstep\u001b[0m\u001b[0;34m)\u001b[0m\u001b[0;34m\u001b[0m\u001b[0;34m\u001b[0m\u001b[0m\n\u001b[0;32m-> 1629\u001b[0;31m             \u001b[0mtmp_batch_outputs\u001b[0m \u001b[0;34m=\u001b[0m \u001b[0mself\u001b[0m\u001b[0;34m.\u001b[0m\u001b[0mpredict_function\u001b[0m\u001b[0;34m(\u001b[0m\u001b[0miterator\u001b[0m\u001b[0;34m)\u001b[0m\u001b[0;34m\u001b[0m\u001b[0;34m\u001b[0m\u001b[0m\n\u001b[0m\u001b[1;32m   1630\u001b[0m             \u001b[0;32mif\u001b[0m \u001b[0mdata_handler\u001b[0m\u001b[0;34m.\u001b[0m\u001b[0mshould_sync\u001b[0m\u001b[0;34m:\u001b[0m\u001b[0;34m\u001b[0m\u001b[0;34m\u001b[0m\u001b[0m\n\u001b[1;32m   1631\u001b[0m               \u001b[0mcontext\u001b[0m\u001b[0;34m.\u001b[0m\u001b[0masync_wait\u001b[0m\u001b[0;34m(\u001b[0m\u001b[0;34m)\u001b[0m\u001b[0;34m\u001b[0m\u001b[0;34m\u001b[0m\u001b[0m\n",
            "\u001b[0;32m/usr/local/lib/python3.7/dist-packages/tensorflow/python/eager/def_function.py\u001b[0m in \u001b[0;36m__call__\u001b[0;34m(self, *args, **kwds)\u001b[0m\n\u001b[1;32m    826\u001b[0m     \u001b[0mtracing_count\u001b[0m \u001b[0;34m=\u001b[0m \u001b[0mself\u001b[0m\u001b[0;34m.\u001b[0m\u001b[0mexperimental_get_tracing_count\u001b[0m\u001b[0;34m(\u001b[0m\u001b[0;34m)\u001b[0m\u001b[0;34m\u001b[0m\u001b[0;34m\u001b[0m\u001b[0m\n\u001b[1;32m    827\u001b[0m     \u001b[0;32mwith\u001b[0m \u001b[0mtrace\u001b[0m\u001b[0;34m.\u001b[0m\u001b[0mTrace\u001b[0m\u001b[0;34m(\u001b[0m\u001b[0mself\u001b[0m\u001b[0;34m.\u001b[0m\u001b[0m_name\u001b[0m\u001b[0;34m)\u001b[0m \u001b[0;32mas\u001b[0m \u001b[0mtm\u001b[0m\u001b[0;34m:\u001b[0m\u001b[0;34m\u001b[0m\u001b[0;34m\u001b[0m\u001b[0m\n\u001b[0;32m--> 828\u001b[0;31m       \u001b[0mresult\u001b[0m \u001b[0;34m=\u001b[0m \u001b[0mself\u001b[0m\u001b[0;34m.\u001b[0m\u001b[0m_call\u001b[0m\u001b[0;34m(\u001b[0m\u001b[0;34m*\u001b[0m\u001b[0margs\u001b[0m\u001b[0;34m,\u001b[0m \u001b[0;34m**\u001b[0m\u001b[0mkwds\u001b[0m\u001b[0;34m)\u001b[0m\u001b[0;34m\u001b[0m\u001b[0;34m\u001b[0m\u001b[0m\n\u001b[0m\u001b[1;32m    829\u001b[0m       \u001b[0mcompiler\u001b[0m \u001b[0;34m=\u001b[0m \u001b[0;34m\"xla\"\u001b[0m \u001b[0;32mif\u001b[0m \u001b[0mself\u001b[0m\u001b[0;34m.\u001b[0m\u001b[0m_experimental_compile\u001b[0m \u001b[0;32melse\u001b[0m \u001b[0;34m\"nonXla\"\u001b[0m\u001b[0;34m\u001b[0m\u001b[0;34m\u001b[0m\u001b[0m\n\u001b[1;32m    830\u001b[0m       \u001b[0mnew_tracing_count\u001b[0m \u001b[0;34m=\u001b[0m \u001b[0mself\u001b[0m\u001b[0;34m.\u001b[0m\u001b[0mexperimental_get_tracing_count\u001b[0m\u001b[0;34m(\u001b[0m\u001b[0;34m)\u001b[0m\u001b[0;34m\u001b[0m\u001b[0;34m\u001b[0m\u001b[0m\n",
            "\u001b[0;32m/usr/local/lib/python3.7/dist-packages/tensorflow/python/eager/def_function.py\u001b[0m in \u001b[0;36m_call\u001b[0;34m(self, *args, **kwds)\u001b[0m\n\u001b[1;32m    860\u001b[0m       \u001b[0;31m# In this case we have not created variables on the first call. So we can\u001b[0m\u001b[0;34m\u001b[0m\u001b[0;34m\u001b[0m\u001b[0;34m\u001b[0m\u001b[0m\n\u001b[1;32m    861\u001b[0m       \u001b[0;31m# run the first trace but we should fail if variables are created.\u001b[0m\u001b[0;34m\u001b[0m\u001b[0;34m\u001b[0m\u001b[0;34m\u001b[0m\u001b[0m\n\u001b[0;32m--> 862\u001b[0;31m       \u001b[0mresults\u001b[0m \u001b[0;34m=\u001b[0m \u001b[0mself\u001b[0m\u001b[0;34m.\u001b[0m\u001b[0m_stateful_fn\u001b[0m\u001b[0;34m(\u001b[0m\u001b[0;34m*\u001b[0m\u001b[0margs\u001b[0m\u001b[0;34m,\u001b[0m \u001b[0;34m**\u001b[0m\u001b[0mkwds\u001b[0m\u001b[0;34m)\u001b[0m\u001b[0;34m\u001b[0m\u001b[0;34m\u001b[0m\u001b[0m\n\u001b[0m\u001b[1;32m    863\u001b[0m       \u001b[0;32mif\u001b[0m \u001b[0mself\u001b[0m\u001b[0;34m.\u001b[0m\u001b[0m_created_variables\u001b[0m\u001b[0;34m:\u001b[0m\u001b[0;34m\u001b[0m\u001b[0;34m\u001b[0m\u001b[0m\n\u001b[1;32m    864\u001b[0m         raise ValueError(\"Creating variables on a non-first call to a function\"\n",
            "\u001b[0;32m/usr/local/lib/python3.7/dist-packages/tensorflow/python/eager/function.py\u001b[0m in \u001b[0;36m__call__\u001b[0;34m(self, *args, **kwargs)\u001b[0m\n\u001b[1;32m   2941\u001b[0m        filtered_flat_args) = self._maybe_define_function(args, kwargs)\n\u001b[1;32m   2942\u001b[0m     return graph_function._call_flat(\n\u001b[0;32m-> 2943\u001b[0;31m         filtered_flat_args, captured_inputs=graph_function.captured_inputs)  # pylint: disable=protected-access\n\u001b[0m\u001b[1;32m   2944\u001b[0m \u001b[0;34m\u001b[0m\u001b[0m\n\u001b[1;32m   2945\u001b[0m   \u001b[0;34m@\u001b[0m\u001b[0mproperty\u001b[0m\u001b[0;34m\u001b[0m\u001b[0;34m\u001b[0m\u001b[0m\n",
            "\u001b[0;32m/usr/local/lib/python3.7/dist-packages/tensorflow/python/eager/function.py\u001b[0m in \u001b[0;36m_call_flat\u001b[0;34m(self, args, captured_inputs, cancellation_manager)\u001b[0m\n\u001b[1;32m   1917\u001b[0m       \u001b[0;31m# No tape is watching; skip to running the function.\u001b[0m\u001b[0;34m\u001b[0m\u001b[0;34m\u001b[0m\u001b[0;34m\u001b[0m\u001b[0m\n\u001b[1;32m   1918\u001b[0m       return self._build_call_outputs(self._inference_function.call(\n\u001b[0;32m-> 1919\u001b[0;31m           ctx, args, cancellation_manager=cancellation_manager))\n\u001b[0m\u001b[1;32m   1920\u001b[0m     forward_backward = self._select_forward_and_backward_functions(\n\u001b[1;32m   1921\u001b[0m         \u001b[0margs\u001b[0m\u001b[0;34m,\u001b[0m\u001b[0;34m\u001b[0m\u001b[0;34m\u001b[0m\u001b[0m\n",
            "\u001b[0;32m/usr/local/lib/python3.7/dist-packages/tensorflow/python/eager/function.py\u001b[0m in \u001b[0;36mcall\u001b[0;34m(self, ctx, args, cancellation_manager)\u001b[0m\n\u001b[1;32m    558\u001b[0m               \u001b[0minputs\u001b[0m\u001b[0;34m=\u001b[0m\u001b[0margs\u001b[0m\u001b[0;34m,\u001b[0m\u001b[0;34m\u001b[0m\u001b[0;34m\u001b[0m\u001b[0m\n\u001b[1;32m    559\u001b[0m               \u001b[0mattrs\u001b[0m\u001b[0;34m=\u001b[0m\u001b[0mattrs\u001b[0m\u001b[0;34m,\u001b[0m\u001b[0;34m\u001b[0m\u001b[0;34m\u001b[0m\u001b[0m\n\u001b[0;32m--> 560\u001b[0;31m               ctx=ctx)\n\u001b[0m\u001b[1;32m    561\u001b[0m         \u001b[0;32melse\u001b[0m\u001b[0;34m:\u001b[0m\u001b[0;34m\u001b[0m\u001b[0;34m\u001b[0m\u001b[0m\n\u001b[1;32m    562\u001b[0m           outputs = execute.execute_with_cancellation(\n",
            "\u001b[0;32m/usr/local/lib/python3.7/dist-packages/tensorflow/python/eager/execute.py\u001b[0m in \u001b[0;36mquick_execute\u001b[0;34m(op_name, num_outputs, inputs, attrs, ctx, name)\u001b[0m\n\u001b[1;32m     58\u001b[0m     \u001b[0mctx\u001b[0m\u001b[0;34m.\u001b[0m\u001b[0mensure_initialized\u001b[0m\u001b[0;34m(\u001b[0m\u001b[0;34m)\u001b[0m\u001b[0;34m\u001b[0m\u001b[0;34m\u001b[0m\u001b[0m\n\u001b[1;32m     59\u001b[0m     tensors = pywrap_tfe.TFE_Py_Execute(ctx._handle, device_name, op_name,\n\u001b[0;32m---> 60\u001b[0;31m                                         inputs, attrs, num_outputs)\n\u001b[0m\u001b[1;32m     61\u001b[0m   \u001b[0;32mexcept\u001b[0m \u001b[0mcore\u001b[0m\u001b[0;34m.\u001b[0m\u001b[0m_NotOkStatusException\u001b[0m \u001b[0;32mas\u001b[0m \u001b[0me\u001b[0m\u001b[0;34m:\u001b[0m\u001b[0;34m\u001b[0m\u001b[0;34m\u001b[0m\u001b[0m\n\u001b[1;32m     62\u001b[0m     \u001b[0;32mif\u001b[0m \u001b[0mname\u001b[0m \u001b[0;32mis\u001b[0m \u001b[0;32mnot\u001b[0m \u001b[0;32mNone\u001b[0m\u001b[0;34m:\u001b[0m\u001b[0;34m\u001b[0m\u001b[0;34m\u001b[0m\u001b[0m\n",
            "\u001b[0;31mKeyboardInterrupt\u001b[0m: "
          ]
        }
      ]
    },
    {
      "cell_type": "code",
      "metadata": {
        "id": "36_tdS8H7mJY"
      },
      "source": [
        "#model.predict(x_test[:10])"
      ],
      "execution_count": null,
      "outputs": []
    },
    {
      "cell_type": "code",
      "metadata": {
        "colab": {
          "base_uri": "https://localhost:8080/"
        },
        "id": "xn8Y0x9c_MxR",
        "outputId": "c2bd5f0d-204f-472b-d605-7aa7d1e621b1"
      },
      "source": [
        "np.mean(np.abs(y_train))"
      ],
      "execution_count": null,
      "outputs": [
        {
          "output_type": "execute_result",
          "data": {
            "text/plain": [
              "0.500148275955032"
            ]
          },
          "metadata": {
            "tags": []
          },
          "execution_count": 25
        }
      ]
    },
    {
      "cell_type": "code",
      "metadata": {
        "colab": {
          "base_uri": "https://localhost:8080/",
          "height": 606
        },
        "id": "9MmM-omcDkF-",
        "outputId": "efb0fde8-4dd9-41e3-bc96-bc1ea97e83b7"
      },
      "source": [
        "plt.figure(figsize=(10,10))\r\n",
        "x_test1=x_test[:100]\r\n",
        "y_train_pred=loaded_model.predict(x_test1)[:,1]\r\n",
        "plt.scatter(y_train_pred,y_test[:100],label=\"model prediction\")\r\n",
        "#plt.scatter(np.arange(len(y_train_pred)),y_test,label=\"expected\")\r\n",
        "plt.legend()\r\n",
        "plt.ylabel(\" expected output\")\r\n",
        "plt.xlabel(\" model prediction\")\r\n",
        "plt.grid()\r\n",
        "plt.show()"
      ],
      "execution_count": null,
      "outputs": [
        {
          "output_type": "display_data",
          "data": {
            "image/png": "[encoded data removed]",
            "text/plain": [
              "<Figure size 720x720 with 1 Axes>"
            ]
          },
          "metadata": {
            "tags": [],
            "needs_background": "light"
          }
        }
      ]
    },
    {
      "cell_type": "code",
      "metadata": {
        "colab": {
          "base_uri": "https://localhost:8080/"
        },
        "id": "m6KNgQrBD1kR",
        "outputId": "45db1d0c-6e62-48a5-9402-150c15117939"
      },
      "source": [
        "!wget https://raw.githubusercontent.com/statsbomb/open-data/master/data/events/69318.json"
      ],
      "execution_count": null,
      "outputs": [
        {
          "output_type": "stream",
          "text": [
            "--2021-03-03 20:19:33--  https://raw.githubusercontent.com/statsbomb/open-data/master/data/events/69318.json\n",
            "Resolving raw.githubusercontent.com (raw.githubusercontent.com)... 185.199.110.133, 185.199.108.133, 185.199.111.133, ...\n",
            "Connecting to raw.githubusercontent.com (raw.githubusercontent.com)|185.199.110.133|:443... connected.\n",
            "HTTP request sent, awaiting response... 200 OK\n",
            "Length: 3433321 (3.3M) [text/plain]\n",
            "Saving to: ‘69318.json’\n",
            "\n",
            "69318.json          100%[===================>]   3.27M  --.-KB/s    in 0.1s    \n",
            "\n",
            "2021-03-03 20:19:34 (24.5 MB/s) - ‘69318.json’ saved [3433321/3433321]\n",
            "\n"
          ],
          "name": "stdout"
        }
      ]
    },
    {
      "cell_type": "code",
      "metadata": {
        "id": "YMdD9JjpPxkY"
      },
      "source": [
        "match=pd.read_json(\"/content/69318.json\")"
      ],
      "execution_count": null,
      "outputs": []
    },
    {
      "cell_type": "code",
      "metadata": {
        "id": "6_LxwbLX4c4G"
      },
      "source": [
        "match.set_index([\"id\"],inplace=True)"
      ],
      "execution_count": null,
      "outputs": []
    },
    {
      "cell_type": "code",
      "metadata": {
        "colab": {
          "base_uri": "https://localhost:8080/"
        },
        "id": "0DOzgYkbrDFP",
        "outputId": "3f20e5fc-36e2-4f8a-e7b5-d38d5b97ca68"
      },
      "source": [
        "match.columns"
      ],
      "execution_count": null,
      "outputs": [
        {
          "output_type": "execute_result",
          "data": {
            "text/plain": [
              "Index(['index', 'period', 'timestamp', 'minute', 'second', 'type',\n",
              "       'possession', 'possession_team', 'play_pattern', 'team', 'duration',\n",
              "       'tactics', 'related_events', 'off_camera', 'player', 'position',\n",
              "       'location', 'pass', 'carry', 'under_pressure', 'ball_receipt',\n",
              "       'counterpress', 'interception', 'foul_won', 'foul_committed', 'duel',\n",
              "       'out', 'shot', 'goalkeeper', 'clearance', 'dribble', 'ball_recovery',\n",
              "       'substitution', 'block', 'bad_behaviour'],\n",
              "      dtype='object')"
            ]
          },
          "metadata": {
            "tags": []
          },
          "execution_count": 9
        }
      ]
    },
    {
      "cell_type": "code",
      "metadata": {
        "colab": {
          "base_uri": "https://localhost:8080/",
          "height": 1000
        },
        "id": "D8yX2j1jvvyR",
        "outputId": "5b01e014-1445-40a8-ed89-83430e6b3cb0"
      },
      "source": [
        "match"
      ],
      "execution_count": null,
      "outputs": [
        {
          "output_type": "execute_result",
          "data": {
            "text/html": [
              "<div>\n",
              "<style scoped>\n",
              "    .dataframe tbody tr th:only-of-type {\n",
              "        vertical-align: middle;\n",
              "    }\n",
              "\n",
              "    .dataframe tbody tr th {\n",
              "        vertical-align: top;\n",
              "    }\n",
              "\n",
              "    .dataframe thead th {\n",
              "        text-align: right;\n",
              "    }\n",
              "</style>\n",
              "<table border=\"1\" class=\"dataframe\">\n",
              "  <thead>\n",
              "    <tr style=\"text-align: right;\">\n",
              "      <th></th>\n",
              "      <th>index</th>\n",
              "      <th>period</th>\n",
              "      <th>timestamp</th>\n",
              "      <th>minute</th>\n",
              "      <th>second</th>\n",
              "      <th>type</th>\n",
              "      <th>possession</th>\n",
              "      <th>possession_team</th>\n",
              "      <th>play_pattern</th>\n",
              "      <th>team</th>\n",
              "      <th>duration</th>\n",
              "      <th>tactics</th>\n",
              "      <th>related_events</th>\n",
              "      <th>off_camera</th>\n",
              "      <th>player</th>\n",
              "      <th>position</th>\n",
              "      <th>location</th>\n",
              "      <th>pass</th>\n",
              "      <th>carry</th>\n",
              "      <th>under_pressure</th>\n",
              "      <th>ball_receipt</th>\n",
              "      <th>counterpress</th>\n",
              "      <th>interception</th>\n",
              "      <th>foul_won</th>\n",
              "      <th>foul_committed</th>\n",
              "      <th>duel</th>\n",
              "      <th>out</th>\n",
              "      <th>shot</th>\n",
              "      <th>goalkeeper</th>\n",
              "      <th>clearance</th>\n",
              "      <th>dribble</th>\n",
              "      <th>ball_recovery</th>\n",
              "      <th>substitution</th>\n",
              "      <th>block</th>\n",
              "      <th>bad_behaviour</th>\n",
              "    </tr>\n",
              "    <tr>\n",
              "      <th>id</th>\n",
              "      <th></th>\n",
              "      <th></th>\n",
              "      <th></th>\n",
              "      <th></th>\n",
              "      <th></th>\n",
              "      <th></th>\n",
              "      <th></th>\n",
              "      <th></th>\n",
              "      <th></th>\n",
              "      <th></th>\n",
              "      <th></th>\n",
              "      <th></th>\n",
              "      <th></th>\n",
              "      <th></th>\n",
              "      <th></th>\n",
              "      <th></th>\n",
              "      <th></th>\n",
              "      <th></th>\n",
              "      <th></th>\n",
              "      <th></th>\n",
              "      <th></th>\n",
              "      <th></th>\n",
              "      <th></th>\n",
              "      <th></th>\n",
              "      <th></th>\n",
              "      <th></th>\n",
              "      <th></th>\n",
              "      <th></th>\n",
              "      <th></th>\n",
              "      <th></th>\n",
              "      <th></th>\n",
              "      <th></th>\n",
              "      <th></th>\n",
              "      <th></th>\n",
              "      <th></th>\n",
              "    </tr>\n",
              "  </thead>\n",
              "  <tbody>\n",
              "    <tr>\n",
              "      <th>88ff7166-cfba-4db1-8421-4ade1d9c03f3</th>\n",
              "      <td>1</td>\n",
              "      <td>1</td>\n",
              "      <td>2021-03-03 00:00:00.000</td>\n",
              "      <td>0</td>\n",
              "      <td>0</td>\n",
              "      <td>{'id': 35, 'name': 'Starting XI'}</td>\n",
              "      <td>1</td>\n",
              "      <td>{'id': 1049, 'name': 'Granada'}</td>\n",
              "      <td>{'id': 1, 'name': 'Regular Play'}</td>\n",
              "      <td>{'id': 1049, 'name': 'Granada'}</td>\n",
              "      <td>0.000000</td>\n",
              "      <td>{'formation': 4411, 'lineup': [{'player': {'id...</td>\n",
              "      <td>NaN</td>\n",
              "      <td>NaN</td>\n",
              "      <td>NaN</td>\n",
              "      <td>NaN</td>\n",
              "      <td>NaN</td>\n",
              "      <td>NaN</td>\n",
              "      <td>NaN</td>\n",
              "      <td>NaN</td>\n",
              "      <td>NaN</td>\n",
              "      <td>NaN</td>\n",
              "      <td>NaN</td>\n",
              "      <td>NaN</td>\n",
              "      <td>NaN</td>\n",
              "      <td>NaN</td>\n",
              "      <td>NaN</td>\n",
              "      <td>NaN</td>\n",
              "      <td>NaN</td>\n",
              "      <td>NaN</td>\n",
              "      <td>NaN</td>\n",
              "      <td>NaN</td>\n",
              "      <td>NaN</td>\n",
              "      <td>NaN</td>\n",
              "      <td>NaN</td>\n",
              "    </tr>\n",
              "    <tr>\n",
              "      <th>0d0d253e-5e6d-45ee-9511-97674c4cb58d</th>\n",
              "      <td>2</td>\n",
              "      <td>1</td>\n",
              "      <td>2021-03-03 00:00:00.000</td>\n",
              "      <td>0</td>\n",
              "      <td>0</td>\n",
              "      <td>{'id': 35, 'name': 'Starting XI'}</td>\n",
              "      <td>1</td>\n",
              "      <td>{'id': 1049, 'name': 'Granada'}</td>\n",
              "      <td>{'id': 1, 'name': 'Regular Play'}</td>\n",
              "      <td>{'id': 217, 'name': 'Barcelona'}</td>\n",
              "      <td>0.000000</td>\n",
              "      <td>{'formation': 433, 'lineup': [{'player': {'id'...</td>\n",
              "      <td>NaN</td>\n",
              "      <td>NaN</td>\n",
              "      <td>NaN</td>\n",
              "      <td>NaN</td>\n",
              "      <td>NaN</td>\n",
              "      <td>NaN</td>\n",
              "      <td>NaN</td>\n",
              "      <td>NaN</td>\n",
              "      <td>NaN</td>\n",
              "      <td>NaN</td>\n",
              "      <td>NaN</td>\n",
              "      <td>NaN</td>\n",
              "      <td>NaN</td>\n",
              "      <td>NaN</td>\n",
              "      <td>NaN</td>\n",
              "      <td>NaN</td>\n",
              "      <td>NaN</td>\n",
              "      <td>NaN</td>\n",
              "      <td>NaN</td>\n",
              "      <td>NaN</td>\n",
              "      <td>NaN</td>\n",
              "      <td>NaN</td>\n",
              "      <td>NaN</td>\n",
              "    </tr>\n",
              "    <tr>\n",
              "      <th>02a5b418-297f-429d-9129-bf478e4fef76</th>\n",
              "      <td>3</td>\n",
              "      <td>1</td>\n",
              "      <td>2021-03-03 00:00:00.000</td>\n",
              "      <td>0</td>\n",
              "      <td>0</td>\n",
              "      <td>{'id': 18, 'name': 'Half Start'}</td>\n",
              "      <td>1</td>\n",
              "      <td>{'id': 1049, 'name': 'Granada'}</td>\n",
              "      <td>{'id': 1, 'name': 'Regular Play'}</td>\n",
              "      <td>{'id': 1049, 'name': 'Granada'}</td>\n",
              "      <td>0.000000</td>\n",
              "      <td>NaN</td>\n",
              "      <td>[db6fb452-9ef8-4a8c-865e-9ea9e3fd3a95]</td>\n",
              "      <td>NaN</td>\n",
              "      <td>NaN</td>\n",
              "      <td>NaN</td>\n",
              "      <td>NaN</td>\n",
              "      <td>NaN</td>\n",
              "      <td>NaN</td>\n",
              "      <td>NaN</td>\n",
              "      <td>NaN</td>\n",
              "      <td>NaN</td>\n",
              "      <td>NaN</td>\n",
              "      <td>NaN</td>\n",
              "      <td>NaN</td>\n",
              "      <td>NaN</td>\n",
              "      <td>NaN</td>\n",
              "      <td>NaN</td>\n",
              "      <td>NaN</td>\n",
              "      <td>NaN</td>\n",
              "      <td>NaN</td>\n",
              "      <td>NaN</td>\n",
              "      <td>NaN</td>\n",
              "      <td>NaN</td>\n",
              "      <td>NaN</td>\n",
              "    </tr>\n",
              "    <tr>\n",
              "      <th>db6fb452-9ef8-4a8c-865e-9ea9e3fd3a95</th>\n",
              "      <td>4</td>\n",
              "      <td>1</td>\n",
              "      <td>2021-03-03 00:00:00.000</td>\n",
              "      <td>0</td>\n",
              "      <td>0</td>\n",
              "      <td>{'id': 18, 'name': 'Half Start'}</td>\n",
              "      <td>1</td>\n",
              "      <td>{'id': 1049, 'name': 'Granada'}</td>\n",
              "      <td>{'id': 1, 'name': 'Regular Play'}</td>\n",
              "      <td>{'id': 217, 'name': 'Barcelona'}</td>\n",
              "      <td>0.000000</td>\n",
              "      <td>NaN</td>\n",
              "      <td>[02a5b418-297f-429d-9129-bf478e4fef76]</td>\n",
              "      <td>NaN</td>\n",
              "      <td>NaN</td>\n",
              "      <td>NaN</td>\n",
              "      <td>NaN</td>\n",
              "      <td>NaN</td>\n",
              "      <td>NaN</td>\n",
              "      <td>NaN</td>\n",
              "      <td>NaN</td>\n",
              "      <td>NaN</td>\n",
              "      <td>NaN</td>\n",
              "      <td>NaN</td>\n",
              "      <td>NaN</td>\n",
              "      <td>NaN</td>\n",
              "      <td>NaN</td>\n",
              "      <td>NaN</td>\n",
              "      <td>NaN</td>\n",
              "      <td>NaN</td>\n",
              "      <td>NaN</td>\n",
              "      <td>NaN</td>\n",
              "      <td>NaN</td>\n",
              "      <td>NaN</td>\n",
              "      <td>NaN</td>\n",
              "    </tr>\n",
              "    <tr>\n",
              "      <th>e098f4a3-8338-4fca-9e80-26e8dd6d8920</th>\n",
              "      <td>5</td>\n",
              "      <td>1</td>\n",
              "      <td>2021-03-03 00:00:00.425</td>\n",
              "      <td>0</td>\n",
              "      <td>0</td>\n",
              "      <td>{'id': 30, 'name': 'Pass'}</td>\n",
              "      <td>2</td>\n",
              "      <td>{'id': 217, 'name': 'Barcelona'}</td>\n",
              "      <td>{'id': 9, 'name': 'From Kick Off'}</td>\n",
              "      <td>{'id': 217, 'name': 'Barcelona'}</td>\n",
              "      <td>0.800000</td>\n",
              "      <td>NaN</td>\n",
              "      <td>[8d58d445-3ee6-4f1f-afc4-0a613b98a8f7]</td>\n",
              "      <td>1.0</td>\n",
              "      <td>{'id': 5503, 'name': 'Lionel Andrés Messi Cucc...</td>\n",
              "      <td>{'id': 23, 'name': 'Center Forward'}</td>\n",
              "      <td>[61.0, 41.0]</td>\n",
              "      <td>{'recipient': {'id': 3958, 'name': 'Pedro Elie...</td>\n",
              "      <td>NaN</td>\n",
              "      <td>NaN</td>\n",
              "      <td>NaN</td>\n",
              "      <td>NaN</td>\n",
              "      <td>NaN</td>\n",
              "      <td>NaN</td>\n",
              "      <td>NaN</td>\n",
              "      <td>NaN</td>\n",
              "      <td>NaN</td>\n",
              "      <td>NaN</td>\n",
              "      <td>NaN</td>\n",
              "      <td>NaN</td>\n",
              "      <td>NaN</td>\n",
              "      <td>NaN</td>\n",
              "      <td>NaN</td>\n",
              "      <td>NaN</td>\n",
              "      <td>NaN</td>\n",
              "    </tr>\n",
              "    <tr>\n",
              "      <th>...</th>\n",
              "      <td>...</td>\n",
              "      <td>...</td>\n",
              "      <td>...</td>\n",
              "      <td>...</td>\n",
              "      <td>...</td>\n",
              "      <td>...</td>\n",
              "      <td>...</td>\n",
              "      <td>...</td>\n",
              "      <td>...</td>\n",
              "      <td>...</td>\n",
              "      <td>...</td>\n",
              "      <td>...</td>\n",
              "      <td>...</td>\n",
              "      <td>...</td>\n",
              "      <td>...</td>\n",
              "      <td>...</td>\n",
              "      <td>...</td>\n",
              "      <td>...</td>\n",
              "      <td>...</td>\n",
              "      <td>...</td>\n",
              "      <td>...</td>\n",
              "      <td>...</td>\n",
              "      <td>...</td>\n",
              "      <td>...</td>\n",
              "      <td>...</td>\n",
              "      <td>...</td>\n",
              "      <td>...</td>\n",
              "      <td>...</td>\n",
              "      <td>...</td>\n",
              "      <td>...</td>\n",
              "      <td>...</td>\n",
              "      <td>...</td>\n",
              "      <td>...</td>\n",
              "      <td>...</td>\n",
              "      <td>...</td>\n",
              "    </tr>\n",
              "    <tr>\n",
              "      <th>11a98ebb-0bfe-45ab-a2da-4be640c17c1e</th>\n",
              "      <td>4021</td>\n",
              "      <td>2</td>\n",
              "      <td>2021-03-03 00:48:32.807</td>\n",
              "      <td>93</td>\n",
              "      <td>32</td>\n",
              "      <td>{'id': 43, 'name': 'Carry'}</td>\n",
              "      <td>161</td>\n",
              "      <td>{'id': 217, 'name': 'Barcelona'}</td>\n",
              "      <td>{'id': 1, 'name': 'Regular Play'}</td>\n",
              "      <td>{'id': 217, 'name': 'Barcelona'}</td>\n",
              "      <td>1.798865</td>\n",
              "      <td>NaN</td>\n",
              "      <td>[88d91f55-86f7-4b9d-b9c9-a587db2064ae, 93f85f7...</td>\n",
              "      <td>NaN</td>\n",
              "      <td>{'id': 5506, 'name': 'Javier Alejandro Mascher...</td>\n",
              "      <td>{'id': 3, 'name': 'Right Center Back'}</td>\n",
              "      <td>[18.8, 56.5]</td>\n",
              "      <td>NaN</td>\n",
              "      <td>{'end_location': [29.2, 61.6]}</td>\n",
              "      <td>NaN</td>\n",
              "      <td>NaN</td>\n",
              "      <td>NaN</td>\n",
              "      <td>NaN</td>\n",
              "      <td>NaN</td>\n",
              "      <td>NaN</td>\n",
              "      <td>NaN</td>\n",
              "      <td>NaN</td>\n",
              "      <td>NaN</td>\n",
              "      <td>NaN</td>\n",
              "      <td>NaN</td>\n",
              "      <td>NaN</td>\n",
              "      <td>NaN</td>\n",
              "      <td>NaN</td>\n",
              "      <td>NaN</td>\n",
              "      <td>NaN</td>\n",
              "    </tr>\n",
              "    <tr>\n",
              "      <th>93f85f7d-b026-47c5-8ea1-39e007ae6774</th>\n",
              "      <td>4022</td>\n",
              "      <td>2</td>\n",
              "      <td>2021-03-03 00:48:34.606</td>\n",
              "      <td>93</td>\n",
              "      <td>34</td>\n",
              "      <td>{'id': 30, 'name': 'Pass'}</td>\n",
              "      <td>161</td>\n",
              "      <td>{'id': 217, 'name': 'Barcelona'}</td>\n",
              "      <td>{'id': 1, 'name': 'Regular Play'}</td>\n",
              "      <td>{'id': 217, 'name': 'Barcelona'}</td>\n",
              "      <td>1.280584</td>\n",
              "      <td>NaN</td>\n",
              "      <td>[2894debd-3652-4a0f-9d24-79df321f8883]</td>\n",
              "      <td>NaN</td>\n",
              "      <td>{'id': 5506, 'name': 'Javier Alejandro Mascher...</td>\n",
              "      <td>{'id': 3, 'name': 'Right Center Back'}</td>\n",
              "      <td>[29.2, 61.6]</td>\n",
              "      <td>{'recipient': {'id': 4324, 'name': 'Daniel Alv...</td>\n",
              "      <td>NaN</td>\n",
              "      <td>NaN</td>\n",
              "      <td>NaN</td>\n",
              "      <td>NaN</td>\n",
              "      <td>NaN</td>\n",
              "      <td>NaN</td>\n",
              "      <td>NaN</td>\n",
              "      <td>NaN</td>\n",
              "      <td>NaN</td>\n",
              "      <td>NaN</td>\n",
              "      <td>NaN</td>\n",
              "      <td>NaN</td>\n",
              "      <td>NaN</td>\n",
              "      <td>NaN</td>\n",
              "      <td>NaN</td>\n",
              "      <td>NaN</td>\n",
              "      <td>NaN</td>\n",
              "    </tr>\n",
              "    <tr>\n",
              "      <th>2894debd-3652-4a0f-9d24-79df321f8883</th>\n",
              "      <td>4023</td>\n",
              "      <td>2</td>\n",
              "      <td>2021-03-03 00:48:35.886</td>\n",
              "      <td>93</td>\n",
              "      <td>35</td>\n",
              "      <td>{'id': 42, 'name': 'Ball Receipt*'}</td>\n",
              "      <td>161</td>\n",
              "      <td>{'id': 217, 'name': 'Barcelona'}</td>\n",
              "      <td>{'id': 1, 'name': 'Regular Play'}</td>\n",
              "      <td>{'id': 217, 'name': 'Barcelona'}</td>\n",
              "      <td>NaN</td>\n",
              "      <td>NaN</td>\n",
              "      <td>[93f85f7d-b026-47c5-8ea1-39e007ae6774]</td>\n",
              "      <td>NaN</td>\n",
              "      <td>{'id': 4324, 'name': 'Daniel Alves da Silva'}</td>\n",
              "      <td>{'id': 2, 'name': 'Right Back'}</td>\n",
              "      <td>[55.4, 74.5]</td>\n",
              "      <td>NaN</td>\n",
              "      <td>NaN</td>\n",
              "      <td>NaN</td>\n",
              "      <td>NaN</td>\n",
              "      <td>NaN</td>\n",
              "      <td>NaN</td>\n",
              "      <td>NaN</td>\n",
              "      <td>NaN</td>\n",
              "      <td>NaN</td>\n",
              "      <td>NaN</td>\n",
              "      <td>NaN</td>\n",
              "      <td>NaN</td>\n",
              "      <td>NaN</td>\n",
              "      <td>NaN</td>\n",
              "      <td>NaN</td>\n",
              "      <td>NaN</td>\n",
              "      <td>NaN</td>\n",
              "      <td>NaN</td>\n",
              "    </tr>\n",
              "    <tr>\n",
              "      <th>a97c6606-6c3b-4623-a0a3-24b06a7f135c</th>\n",
              "      <td>4024</td>\n",
              "      <td>2</td>\n",
              "      <td>2021-03-03 00:48:38.422</td>\n",
              "      <td>93</td>\n",
              "      <td>38</td>\n",
              "      <td>{'id': 34, 'name': 'Half End'}</td>\n",
              "      <td>161</td>\n",
              "      <td>{'id': 217, 'name': 'Barcelona'}</td>\n",
              "      <td>{'id': 1, 'name': 'Regular Play'}</td>\n",
              "      <td>{'id': 1049, 'name': 'Granada'}</td>\n",
              "      <td>0.000000</td>\n",
              "      <td>NaN</td>\n",
              "      <td>[531d6020-226b-4425-97b6-98c13c8299e9]</td>\n",
              "      <td>NaN</td>\n",
              "      <td>NaN</td>\n",
              "      <td>NaN</td>\n",
              "      <td>NaN</td>\n",
              "      <td>NaN</td>\n",
              "      <td>NaN</td>\n",
              "      <td>NaN</td>\n",
              "      <td>NaN</td>\n",
              "      <td>NaN</td>\n",
              "      <td>NaN</td>\n",
              "      <td>NaN</td>\n",
              "      <td>NaN</td>\n",
              "      <td>NaN</td>\n",
              "      <td>NaN</td>\n",
              "      <td>NaN</td>\n",
              "      <td>NaN</td>\n",
              "      <td>NaN</td>\n",
              "      <td>NaN</td>\n",
              "      <td>NaN</td>\n",
              "      <td>NaN</td>\n",
              "      <td>NaN</td>\n",
              "      <td>NaN</td>\n",
              "    </tr>\n",
              "    <tr>\n",
              "      <th>531d6020-226b-4425-97b6-98c13c8299e9</th>\n",
              "      <td>4025</td>\n",
              "      <td>2</td>\n",
              "      <td>2021-03-03 00:48:38.422</td>\n",
              "      <td>93</td>\n",
              "      <td>38</td>\n",
              "      <td>{'id': 34, 'name': 'Half End'}</td>\n",
              "      <td>161</td>\n",
              "      <td>{'id': 217, 'name': 'Barcelona'}</td>\n",
              "      <td>{'id': 1, 'name': 'Regular Play'}</td>\n",
              "      <td>{'id': 217, 'name': 'Barcelona'}</td>\n",
              "      <td>0.000000</td>\n",
              "      <td>NaN</td>\n",
              "      <td>[a97c6606-6c3b-4623-a0a3-24b06a7f135c]</td>\n",
              "      <td>NaN</td>\n",
              "      <td>NaN</td>\n",
              "      <td>NaN</td>\n",
              "      <td>NaN</td>\n",
              "      <td>NaN</td>\n",
              "      <td>NaN</td>\n",
              "      <td>NaN</td>\n",
              "      <td>NaN</td>\n",
              "      <td>NaN</td>\n",
              "      <td>NaN</td>\n",
              "      <td>NaN</td>\n",
              "      <td>NaN</td>\n",
              "      <td>NaN</td>\n",
              "      <td>NaN</td>\n",
              "      <td>NaN</td>\n",
              "      <td>NaN</td>\n",
              "      <td>NaN</td>\n",
              "      <td>NaN</td>\n",
              "      <td>NaN</td>\n",
              "      <td>NaN</td>\n",
              "      <td>NaN</td>\n",
              "      <td>NaN</td>\n",
              "    </tr>\n",
              "  </tbody>\n",
              "</table>\n",
              "<p>4025 rows × 35 columns</p>\n",
              "</div>"
            ],
            "text/plain": [
              "                                      index  period  ... block  bad_behaviour\n",
              "id                                                   ...                     \n",
              "88ff7166-cfba-4db1-8421-4ade1d9c03f3      1       1  ...   NaN            NaN\n",
              "0d0d253e-5e6d-45ee-9511-97674c4cb58d      2       1  ...   NaN            NaN\n",
              "02a5b418-297f-429d-9129-bf478e4fef76      3       1  ...   NaN            NaN\n",
              "db6fb452-9ef8-4a8c-865e-9ea9e3fd3a95      4       1  ...   NaN            NaN\n",
              "e098f4a3-8338-4fca-9e80-26e8dd6d8920      5       1  ...   NaN            NaN\n",
              "...                                     ...     ...  ...   ...            ...\n",
              "11a98ebb-0bfe-45ab-a2da-4be640c17c1e   4021       2  ...   NaN            NaN\n",
              "93f85f7d-b026-47c5-8ea1-39e007ae6774   4022       2  ...   NaN            NaN\n",
              "2894debd-3652-4a0f-9d24-79df321f8883   4023       2  ...   NaN            NaN\n",
              "a97c6606-6c3b-4623-a0a3-24b06a7f135c   4024       2  ...   NaN            NaN\n",
              "531d6020-226b-4425-97b6-98c13c8299e9   4025       2  ...   NaN            NaN\n",
              "\n",
              "[4025 rows x 35 columns]"
            ]
          },
          "metadata": {
            "tags": []
          },
          "execution_count": 10
        }
      ]
    },
    {
      "cell_type": "code",
      "metadata": {
        "colab": {
          "base_uri": "https://localhost:8080/"
        },
        "id": "Nf2oWVefP5TU",
        "outputId": "adb9c615-dd21-49d0-aecf-1bbd0219bec0"
      },
      "source": [
        "for i in range(1000):\r\n",
        "  if str(match.iloc[i][\"shot\"])!=\"nan\":\r\n",
        "    print(match.iloc[i][\"possession\"])"
      ],
      "execution_count": null,
      "outputs": [
        {
          "output_type": "stream",
          "text": [
            "17\n",
            "20\n",
            "21\n",
            "23\n",
            "33\n",
            "35\n"
          ],
          "name": "stdout"
        }
      ]
    },
    {
      "cell_type": "code",
      "metadata": {
        "colab": {
          "base_uri": "https://localhost:8080/",
          "height": 1000
        },
        "id": "tMUPEnxX9LLO",
        "outputId": "19fb6845-9eca-4699-e351-a5ed44326478"
      },
      "source": [
        "match"
      ],
      "execution_count": null,
      "outputs": [
        {
          "output_type": "execute_result",
          "data": {
            "text/html": [
              "<div>\n",
              "<style scoped>\n",
              "    .dataframe tbody tr th:only-of-type {\n",
              "        vertical-align: middle;\n",
              "    }\n",
              "\n",
              "    .dataframe tbody tr th {\n",
              "        vertical-align: top;\n",
              "    }\n",
              "\n",
              "    .dataframe thead th {\n",
              "        text-align: right;\n",
              "    }\n",
              "</style>\n",
              "<table border=\"1\" class=\"dataframe\">\n",
              "  <thead>\n",
              "    <tr style=\"text-align: right;\">\n",
              "      <th></th>\n",
              "      <th>index</th>\n",
              "      <th>period</th>\n",
              "      <th>timestamp</th>\n",
              "      <th>minute</th>\n",
              "      <th>second</th>\n",
              "      <th>type</th>\n",
              "      <th>possession</th>\n",
              "      <th>possession_team</th>\n",
              "      <th>play_pattern</th>\n",
              "      <th>team</th>\n",
              "      <th>duration</th>\n",
              "      <th>tactics</th>\n",
              "      <th>related_events</th>\n",
              "      <th>off_camera</th>\n",
              "      <th>player</th>\n",
              "      <th>position</th>\n",
              "      <th>location</th>\n",
              "      <th>pass</th>\n",
              "      <th>carry</th>\n",
              "      <th>under_pressure</th>\n",
              "      <th>ball_receipt</th>\n",
              "      <th>counterpress</th>\n",
              "      <th>interception</th>\n",
              "      <th>foul_won</th>\n",
              "      <th>foul_committed</th>\n",
              "      <th>duel</th>\n",
              "      <th>out</th>\n",
              "      <th>shot</th>\n",
              "      <th>goalkeeper</th>\n",
              "      <th>clearance</th>\n",
              "      <th>dribble</th>\n",
              "      <th>ball_recovery</th>\n",
              "      <th>substitution</th>\n",
              "      <th>block</th>\n",
              "      <th>bad_behaviour</th>\n",
              "    </tr>\n",
              "    <tr>\n",
              "      <th>id</th>\n",
              "      <th></th>\n",
              "      <th></th>\n",
              "      <th></th>\n",
              "      <th></th>\n",
              "      <th></th>\n",
              "      <th></th>\n",
              "      <th></th>\n",
              "      <th></th>\n",
              "      <th></th>\n",
              "      <th></th>\n",
              "      <th></th>\n",
              "      <th></th>\n",
              "      <th></th>\n",
              "      <th></th>\n",
              "      <th></th>\n",
              "      <th></th>\n",
              "      <th></th>\n",
              "      <th></th>\n",
              "      <th></th>\n",
              "      <th></th>\n",
              "      <th></th>\n",
              "      <th></th>\n",
              "      <th></th>\n",
              "      <th></th>\n",
              "      <th></th>\n",
              "      <th></th>\n",
              "      <th></th>\n",
              "      <th></th>\n",
              "      <th></th>\n",
              "      <th></th>\n",
              "      <th></th>\n",
              "      <th></th>\n",
              "      <th></th>\n",
              "      <th></th>\n",
              "      <th></th>\n",
              "    </tr>\n",
              "  </thead>\n",
              "  <tbody>\n",
              "    <tr>\n",
              "      <th>88ff7166-cfba-4db1-8421-4ade1d9c03f3</th>\n",
              "      <td>1</td>\n",
              "      <td>1</td>\n",
              "      <td>2021-03-03 00:00:00.000</td>\n",
              "      <td>0</td>\n",
              "      <td>0</td>\n",
              "      <td>{'id': 35, 'name': 'Starting XI'}</td>\n",
              "      <td>1</td>\n",
              "      <td>{'id': 1049, 'name': 'Granada'}</td>\n",
              "      <td>{'id': 1, 'name': 'Regular Play'}</td>\n",
              "      <td>{'id': 1049, 'name': 'Granada'}</td>\n",
              "      <td>0.000000</td>\n",
              "      <td>{'formation': 4411, 'lineup': [{'player': {'id...</td>\n",
              "      <td>NaN</td>\n",
              "      <td>NaN</td>\n",
              "      <td>NaN</td>\n",
              "      <td>NaN</td>\n",
              "      <td>NaN</td>\n",
              "      <td>NaN</td>\n",
              "      <td>NaN</td>\n",
              "      <td>NaN</td>\n",
              "      <td>NaN</td>\n",
              "      <td>NaN</td>\n",
              "      <td>NaN</td>\n",
              "      <td>NaN</td>\n",
              "      <td>NaN</td>\n",
              "      <td>NaN</td>\n",
              "      <td>NaN</td>\n",
              "      <td>NaN</td>\n",
              "      <td>NaN</td>\n",
              "      <td>NaN</td>\n",
              "      <td>NaN</td>\n",
              "      <td>NaN</td>\n",
              "      <td>NaN</td>\n",
              "      <td>NaN</td>\n",
              "      <td>NaN</td>\n",
              "    </tr>\n",
              "    <tr>\n",
              "      <th>0d0d253e-5e6d-45ee-9511-97674c4cb58d</th>\n",
              "      <td>2</td>\n",
              "      <td>1</td>\n",
              "      <td>2021-03-03 00:00:00.000</td>\n",
              "      <td>0</td>\n",
              "      <td>0</td>\n",
              "      <td>{'id': 35, 'name': 'Starting XI'}</td>\n",
              "      <td>1</td>\n",
              "      <td>{'id': 1049, 'name': 'Granada'}</td>\n",
              "      <td>{'id': 1, 'name': 'Regular Play'}</td>\n",
              "      <td>{'id': 217, 'name': 'Barcelona'}</td>\n",
              "      <td>0.000000</td>\n",
              "      <td>{'formation': 433, 'lineup': [{'player': {'id'...</td>\n",
              "      <td>NaN</td>\n",
              "      <td>NaN</td>\n",
              "      <td>NaN</td>\n",
              "      <td>NaN</td>\n",
              "      <td>NaN</td>\n",
              "      <td>NaN</td>\n",
              "      <td>NaN</td>\n",
              "      <td>NaN</td>\n",
              "      <td>NaN</td>\n",
              "      <td>NaN</td>\n",
              "      <td>NaN</td>\n",
              "      <td>NaN</td>\n",
              "      <td>NaN</td>\n",
              "      <td>NaN</td>\n",
              "      <td>NaN</td>\n",
              "      <td>NaN</td>\n",
              "      <td>NaN</td>\n",
              "      <td>NaN</td>\n",
              "      <td>NaN</td>\n",
              "      <td>NaN</td>\n",
              "      <td>NaN</td>\n",
              "      <td>NaN</td>\n",
              "      <td>NaN</td>\n",
              "    </tr>\n",
              "    <tr>\n",
              "      <th>02a5b418-297f-429d-9129-bf478e4fef76</th>\n",
              "      <td>3</td>\n",
              "      <td>1</td>\n",
              "      <td>2021-03-03 00:00:00.000</td>\n",
              "      <td>0</td>\n",
              "      <td>0</td>\n",
              "      <td>{'id': 18, 'name': 'Half Start'}</td>\n",
              "      <td>1</td>\n",
              "      <td>{'id': 1049, 'name': 'Granada'}</td>\n",
              "      <td>{'id': 1, 'name': 'Regular Play'}</td>\n",
              "      <td>{'id': 1049, 'name': 'Granada'}</td>\n",
              "      <td>0.000000</td>\n",
              "      <td>NaN</td>\n",
              "      <td>[db6fb452-9ef8-4a8c-865e-9ea9e3fd3a95]</td>\n",
              "      <td>NaN</td>\n",
              "      <td>NaN</td>\n",
              "      <td>NaN</td>\n",
              "      <td>NaN</td>\n",
              "      <td>NaN</td>\n",
              "      <td>NaN</td>\n",
              "      <td>NaN</td>\n",
              "      <td>NaN</td>\n",
              "      <td>NaN</td>\n",
              "      <td>NaN</td>\n",
              "      <td>NaN</td>\n",
              "      <td>NaN</td>\n",
              "      <td>NaN</td>\n",
              "      <td>NaN</td>\n",
              "      <td>NaN</td>\n",
              "      <td>NaN</td>\n",
              "      <td>NaN</td>\n",
              "      <td>NaN</td>\n",
              "      <td>NaN</td>\n",
              "      <td>NaN</td>\n",
              "      <td>NaN</td>\n",
              "      <td>NaN</td>\n",
              "    </tr>\n",
              "    <tr>\n",
              "      <th>db6fb452-9ef8-4a8c-865e-9ea9e3fd3a95</th>\n",
              "      <td>4</td>\n",
              "      <td>1</td>\n",
              "      <td>2021-03-03 00:00:00.000</td>\n",
              "      <td>0</td>\n",
              "      <td>0</td>\n",
              "      <td>{'id': 18, 'name': 'Half Start'}</td>\n",
              "      <td>1</td>\n",
              "      <td>{'id': 1049, 'name': 'Granada'}</td>\n",
              "      <td>{'id': 1, 'name': 'Regular Play'}</td>\n",
              "      <td>{'id': 217, 'name': 'Barcelona'}</td>\n",
              "      <td>0.000000</td>\n",
              "      <td>NaN</td>\n",
              "      <td>[02a5b418-297f-429d-9129-bf478e4fef76]</td>\n",
              "      <td>NaN</td>\n",
              "      <td>NaN</td>\n",
              "      <td>NaN</td>\n",
              "      <td>NaN</td>\n",
              "      <td>NaN</td>\n",
              "      <td>NaN</td>\n",
              "      <td>NaN</td>\n",
              "      <td>NaN</td>\n",
              "      <td>NaN</td>\n",
              "      <td>NaN</td>\n",
              "      <td>NaN</td>\n",
              "      <td>NaN</td>\n",
              "      <td>NaN</td>\n",
              "      <td>NaN</td>\n",
              "      <td>NaN</td>\n",
              "      <td>NaN</td>\n",
              "      <td>NaN</td>\n",
              "      <td>NaN</td>\n",
              "      <td>NaN</td>\n",
              "      <td>NaN</td>\n",
              "      <td>NaN</td>\n",
              "      <td>NaN</td>\n",
              "    </tr>\n",
              "    <tr>\n",
              "      <th>e098f4a3-8338-4fca-9e80-26e8dd6d8920</th>\n",
              "      <td>5</td>\n",
              "      <td>1</td>\n",
              "      <td>2021-03-03 00:00:00.425</td>\n",
              "      <td>0</td>\n",
              "      <td>0</td>\n",
              "      <td>{'id': 30, 'name': 'Pass'}</td>\n",
              "      <td>2</td>\n",
              "      <td>{'id': 217, 'name': 'Barcelona'}</td>\n",
              "      <td>{'id': 9, 'name': 'From Kick Off'}</td>\n",
              "      <td>{'id': 217, 'name': 'Barcelona'}</td>\n",
              "      <td>0.800000</td>\n",
              "      <td>NaN</td>\n",
              "      <td>[8d58d445-3ee6-4f1f-afc4-0a613b98a8f7]</td>\n",
              "      <td>1.0</td>\n",
              "      <td>{'id': 5503, 'name': 'Lionel Andrés Messi Cucc...</td>\n",
              "      <td>{'id': 23, 'name': 'Center Forward'}</td>\n",
              "      <td>[61.0, 41.0]</td>\n",
              "      <td>{'recipient': {'id': 3958, 'name': 'Pedro Elie...</td>\n",
              "      <td>NaN</td>\n",
              "      <td>NaN</td>\n",
              "      <td>NaN</td>\n",
              "      <td>NaN</td>\n",
              "      <td>NaN</td>\n",
              "      <td>NaN</td>\n",
              "      <td>NaN</td>\n",
              "      <td>NaN</td>\n",
              "      <td>NaN</td>\n",
              "      <td>NaN</td>\n",
              "      <td>NaN</td>\n",
              "      <td>NaN</td>\n",
              "      <td>NaN</td>\n",
              "      <td>NaN</td>\n",
              "      <td>NaN</td>\n",
              "      <td>NaN</td>\n",
              "      <td>NaN</td>\n",
              "    </tr>\n",
              "    <tr>\n",
              "      <th>...</th>\n",
              "      <td>...</td>\n",
              "      <td>...</td>\n",
              "      <td>...</td>\n",
              "      <td>...</td>\n",
              "      <td>...</td>\n",
              "      <td>...</td>\n",
              "      <td>...</td>\n",
              "      <td>...</td>\n",
              "      <td>...</td>\n",
              "      <td>...</td>\n",
              "      <td>...</td>\n",
              "      <td>...</td>\n",
              "      <td>...</td>\n",
              "      <td>...</td>\n",
              "      <td>...</td>\n",
              "      <td>...</td>\n",
              "      <td>...</td>\n",
              "      <td>...</td>\n",
              "      <td>...</td>\n",
              "      <td>...</td>\n",
              "      <td>...</td>\n",
              "      <td>...</td>\n",
              "      <td>...</td>\n",
              "      <td>...</td>\n",
              "      <td>...</td>\n",
              "      <td>...</td>\n",
              "      <td>...</td>\n",
              "      <td>...</td>\n",
              "      <td>...</td>\n",
              "      <td>...</td>\n",
              "      <td>...</td>\n",
              "      <td>...</td>\n",
              "      <td>...</td>\n",
              "      <td>...</td>\n",
              "      <td>...</td>\n",
              "    </tr>\n",
              "    <tr>\n",
              "      <th>11a98ebb-0bfe-45ab-a2da-4be640c17c1e</th>\n",
              "      <td>4021</td>\n",
              "      <td>2</td>\n",
              "      <td>2021-03-03 00:48:32.807</td>\n",
              "      <td>93</td>\n",
              "      <td>32</td>\n",
              "      <td>{'id': 43, 'name': 'Carry'}</td>\n",
              "      <td>161</td>\n",
              "      <td>{'id': 217, 'name': 'Barcelona'}</td>\n",
              "      <td>{'id': 1, 'name': 'Regular Play'}</td>\n",
              "      <td>{'id': 217, 'name': 'Barcelona'}</td>\n",
              "      <td>1.798865</td>\n",
              "      <td>NaN</td>\n",
              "      <td>[88d91f55-86f7-4b9d-b9c9-a587db2064ae, 93f85f7...</td>\n",
              "      <td>NaN</td>\n",
              "      <td>{'id': 5506, 'name': 'Javier Alejandro Mascher...</td>\n",
              "      <td>{'id': 3, 'name': 'Right Center Back'}</td>\n",
              "      <td>[18.8, 56.5]</td>\n",
              "      <td>NaN</td>\n",
              "      <td>{'end_location': [29.2, 61.6]}</td>\n",
              "      <td>NaN</td>\n",
              "      <td>NaN</td>\n",
              "      <td>NaN</td>\n",
              "      <td>NaN</td>\n",
              "      <td>NaN</td>\n",
              "      <td>NaN</td>\n",
              "      <td>NaN</td>\n",
              "      <td>NaN</td>\n",
              "      <td>NaN</td>\n",
              "      <td>NaN</td>\n",
              "      <td>NaN</td>\n",
              "      <td>NaN</td>\n",
              "      <td>NaN</td>\n",
              "      <td>NaN</td>\n",
              "      <td>NaN</td>\n",
              "      <td>NaN</td>\n",
              "    </tr>\n",
              "    <tr>\n",
              "      <th>93f85f7d-b026-47c5-8ea1-39e007ae6774</th>\n",
              "      <td>4022</td>\n",
              "      <td>2</td>\n",
              "      <td>2021-03-03 00:48:34.606</td>\n",
              "      <td>93</td>\n",
              "      <td>34</td>\n",
              "      <td>{'id': 30, 'name': 'Pass'}</td>\n",
              "      <td>161</td>\n",
              "      <td>{'id': 217, 'name': 'Barcelona'}</td>\n",
              "      <td>{'id': 1, 'name': 'Regular Play'}</td>\n",
              "      <td>{'id': 217, 'name': 'Barcelona'}</td>\n",
              "      <td>1.280584</td>\n",
              "      <td>NaN</td>\n",
              "      <td>[2894debd-3652-4a0f-9d24-79df321f8883]</td>\n",
              "      <td>NaN</td>\n",
              "      <td>{'id': 5506, 'name': 'Javier Alejandro Mascher...</td>\n",
              "      <td>{'id': 3, 'name': 'Right Center Back'}</td>\n",
              "      <td>[29.2, 61.6]</td>\n",
              "      <td>{'recipient': {'id': 4324, 'name': 'Daniel Alv...</td>\n",
              "      <td>NaN</td>\n",
              "      <td>NaN</td>\n",
              "      <td>NaN</td>\n",
              "      <td>NaN</td>\n",
              "      <td>NaN</td>\n",
              "      <td>NaN</td>\n",
              "      <td>NaN</td>\n",
              "      <td>NaN</td>\n",
              "      <td>NaN</td>\n",
              "      <td>NaN</td>\n",
              "      <td>NaN</td>\n",
              "      <td>NaN</td>\n",
              "      <td>NaN</td>\n",
              "      <td>NaN</td>\n",
              "      <td>NaN</td>\n",
              "      <td>NaN</td>\n",
              "      <td>NaN</td>\n",
              "    </tr>\n",
              "    <tr>\n",
              "      <th>2894debd-3652-4a0f-9d24-79df321f8883</th>\n",
              "      <td>4023</td>\n",
              "      <td>2</td>\n",
              "      <td>2021-03-03 00:48:35.886</td>\n",
              "      <td>93</td>\n",
              "      <td>35</td>\n",
              "      <td>{'id': 42, 'name': 'Ball Receipt*'}</td>\n",
              "      <td>161</td>\n",
              "      <td>{'id': 217, 'name': 'Barcelona'}</td>\n",
              "      <td>{'id': 1, 'name': 'Regular Play'}</td>\n",
              "      <td>{'id': 217, 'name': 'Barcelona'}</td>\n",
              "      <td>NaN</td>\n",
              "      <td>NaN</td>\n",
              "      <td>[93f85f7d-b026-47c5-8ea1-39e007ae6774]</td>\n",
              "      <td>NaN</td>\n",
              "      <td>{'id': 4324, 'name': 'Daniel Alves da Silva'}</td>\n",
              "      <td>{'id': 2, 'name': 'Right Back'}</td>\n",
              "      <td>[55.4, 74.5]</td>\n",
              "      <td>NaN</td>\n",
              "      <td>NaN</td>\n",
              "      <td>NaN</td>\n",
              "      <td>NaN</td>\n",
              "      <td>NaN</td>\n",
              "      <td>NaN</td>\n",
              "      <td>NaN</td>\n",
              "      <td>NaN</td>\n",
              "      <td>NaN</td>\n",
              "      <td>NaN</td>\n",
              "      <td>NaN</td>\n",
              "      <td>NaN</td>\n",
              "      <td>NaN</td>\n",
              "      <td>NaN</td>\n",
              "      <td>NaN</td>\n",
              "      <td>NaN</td>\n",
              "      <td>NaN</td>\n",
              "      <td>NaN</td>\n",
              "    </tr>\n",
              "    <tr>\n",
              "      <th>a97c6606-6c3b-4623-a0a3-24b06a7f135c</th>\n",
              "      <td>4024</td>\n",
              "      <td>2</td>\n",
              "      <td>2021-03-03 00:48:38.422</td>\n",
              "      <td>93</td>\n",
              "      <td>38</td>\n",
              "      <td>{'id': 34, 'name': 'Half End'}</td>\n",
              "      <td>161</td>\n",
              "      <td>{'id': 217, 'name': 'Barcelona'}</td>\n",
              "      <td>{'id': 1, 'name': 'Regular Play'}</td>\n",
              "      <td>{'id': 1049, 'name': 'Granada'}</td>\n",
              "      <td>0.000000</td>\n",
              "      <td>NaN</td>\n",
              "      <td>[531d6020-226b-4425-97b6-98c13c8299e9]</td>\n",
              "      <td>NaN</td>\n",
              "      <td>NaN</td>\n",
              "      <td>NaN</td>\n",
              "      <td>NaN</td>\n",
              "      <td>NaN</td>\n",
              "      <td>NaN</td>\n",
              "      <td>NaN</td>\n",
              "      <td>NaN</td>\n",
              "      <td>NaN</td>\n",
              "      <td>NaN</td>\n",
              "      <td>NaN</td>\n",
              "      <td>NaN</td>\n",
              "      <td>NaN</td>\n",
              "      <td>NaN</td>\n",
              "      <td>NaN</td>\n",
              "      <td>NaN</td>\n",
              "      <td>NaN</td>\n",
              "      <td>NaN</td>\n",
              "      <td>NaN</td>\n",
              "      <td>NaN</td>\n",
              "      <td>NaN</td>\n",
              "      <td>NaN</td>\n",
              "    </tr>\n",
              "    <tr>\n",
              "      <th>531d6020-226b-4425-97b6-98c13c8299e9</th>\n",
              "      <td>4025</td>\n",
              "      <td>2</td>\n",
              "      <td>2021-03-03 00:48:38.422</td>\n",
              "      <td>93</td>\n",
              "      <td>38</td>\n",
              "      <td>{'id': 34, 'name': 'Half End'}</td>\n",
              "      <td>161</td>\n",
              "      <td>{'id': 217, 'name': 'Barcelona'}</td>\n",
              "      <td>{'id': 1, 'name': 'Regular Play'}</td>\n",
              "      <td>{'id': 217, 'name': 'Barcelona'}</td>\n",
              "      <td>0.000000</td>\n",
              "      <td>NaN</td>\n",
              "      <td>[a97c6606-6c3b-4623-a0a3-24b06a7f135c]</td>\n",
              "      <td>NaN</td>\n",
              "      <td>NaN</td>\n",
              "      <td>NaN</td>\n",
              "      <td>NaN</td>\n",
              "      <td>NaN</td>\n",
              "      <td>NaN</td>\n",
              "      <td>NaN</td>\n",
              "      <td>NaN</td>\n",
              "      <td>NaN</td>\n",
              "      <td>NaN</td>\n",
              "      <td>NaN</td>\n",
              "      <td>NaN</td>\n",
              "      <td>NaN</td>\n",
              "      <td>NaN</td>\n",
              "      <td>NaN</td>\n",
              "      <td>NaN</td>\n",
              "      <td>NaN</td>\n",
              "      <td>NaN</td>\n",
              "      <td>NaN</td>\n",
              "      <td>NaN</td>\n",
              "      <td>NaN</td>\n",
              "      <td>NaN</td>\n",
              "    </tr>\n",
              "  </tbody>\n",
              "</table>\n",
              "<p>4025 rows × 35 columns</p>\n",
              "</div>"
            ],
            "text/plain": [
              "                                      index  period  ... block  bad_behaviour\n",
              "id                                                   ...                     \n",
              "88ff7166-cfba-4db1-8421-4ade1d9c03f3      1       1  ...   NaN            NaN\n",
              "0d0d253e-5e6d-45ee-9511-97674c4cb58d      2       1  ...   NaN            NaN\n",
              "02a5b418-297f-429d-9129-bf478e4fef76      3       1  ...   NaN            NaN\n",
              "db6fb452-9ef8-4a8c-865e-9ea9e3fd3a95      4       1  ...   NaN            NaN\n",
              "e098f4a3-8338-4fca-9e80-26e8dd6d8920      5       1  ...   NaN            NaN\n",
              "...                                     ...     ...  ...   ...            ...\n",
              "11a98ebb-0bfe-45ab-a2da-4be640c17c1e   4021       2  ...   NaN            NaN\n",
              "93f85f7d-b026-47c5-8ea1-39e007ae6774   4022       2  ...   NaN            NaN\n",
              "2894debd-3652-4a0f-9d24-79df321f8883   4023       2  ...   NaN            NaN\n",
              "a97c6606-6c3b-4623-a0a3-24b06a7f135c   4024       2  ...   NaN            NaN\n",
              "531d6020-226b-4425-97b6-98c13c8299e9   4025       2  ...   NaN            NaN\n",
              "\n",
              "[4025 rows x 35 columns]"
            ]
          },
          "metadata": {
            "tags": []
          },
          "execution_count": 243
        }
      ]
    },
    {
      "cell_type": "code",
      "metadata": {
        "colab": {
          "base_uri": "https://localhost:8080/"
        },
        "id": "JfoNJdluMVcN",
        "outputId": "c72d1933-68e2-4e95-ab1e-2f1397448f31"
      },
      "source": [
        "match.iloc[0][\"tactics\"]"
      ],
      "execution_count": null,
      "outputs": [
        {
          "output_type": "execute_result",
          "data": {
            "text/plain": [
              "{'formation': 4411,\n",
              " 'lineup': [{'jersey_number': 13,\n",
              "   'player': {'id': 26659, 'name': 'Roberto Fernández Alvarellos'},\n",
              "   'position': {'id': 1, 'name': 'Goalkeeper'}},\n",
              "  {'jersey_number': 2,\n",
              "   'player': {'id': 3991, 'name': 'Allan Romeo Nyom'},\n",
              "   'position': {'id': 2, 'name': 'Right Back'}},\n",
              "  {'jersey_number': 8,\n",
              "   'player': {'id': 26573, 'name': 'Íñigo López Montaña'},\n",
              "   'position': {'id': 3, 'name': 'Right Center Back'}},\n",
              "  {'jersey_number': 5,\n",
              "   'player': {'id': 26781, 'name': 'Diego Mainz García'},\n",
              "   'position': {'id': 5, 'name': 'Left Center Back'}},\n",
              "  {'jersey_number': 6,\n",
              "   'player': {'id': 26780, 'name': 'Guilherme Magdalena Siqueira'},\n",
              "   'position': {'id': 6, 'name': 'Left Back'}},\n",
              "  {'jersey_number': 4,\n",
              "   'player': {'id': 25707, 'name': 'Francisco Manuel Rico Castro'},\n",
              "   'position': {'id': 9, 'name': 'Right Defensive Midfield'}},\n",
              "  {'jersey_number': 14,\n",
              "   'player': {'id': 6656, 'name': 'Mikel Rico Moreno'},\n",
              "   'position': {'id': 11, 'name': 'Left Defensive Midfield'}},\n",
              "  {'jersey_number': 10,\n",
              "   'player': {'id': 23995, 'name': 'Jaime Romero Gómez'},\n",
              "   'position': {'id': 12, 'name': 'Right Midfield'}},\n",
              "  {'jersey_number': 11,\n",
              "   'player': {'id': 26779, 'name': 'Daniel González Benítez'},\n",
              "   'position': {'id': 16, 'name': 'Left Midfield'}},\n",
              "  {'jersey_number': 23,\n",
              "   'player': {'id': 26503, 'name': 'Abel Gómez Moreno'},\n",
              "   'position': {'id': 19, 'name': 'Center Attacking Midfield'}},\n",
              "  {'jersey_number': 20,\n",
              "   'player': {'id': 23930, 'name': 'Ikechukwu Uche'},\n",
              "   'position': {'id': 23, 'name': 'Center Forward'}}]}"
            ]
          },
          "metadata": {
            "tags": []
          },
          "execution_count": 244
        }
      ]
    },
    {
      "cell_type": "markdown",
      "metadata": {
        "id": "lAAFILVx5x1j"
      },
      "source": [
        "Index(['pass_angle', 'pass_length', 'pass_outcome', 'duration',\r\n",
        "       'end_location_x', 'end_location_y', 'start_location_x',\r\n",
        "       'start_location_y'],\r\n",
        "      dtype='object')"
      ]
    },
    {
      "cell_type": "code",
      "metadata": {
        "id": "pFA3Hz45P6Jt"
      },
      "source": [
        "j=0\r\n",
        "names_finished=[]\r\n",
        "names_unfinished=[]\r\n",
        "val1=[]\r\n",
        "val=[]\r\n",
        "for i in match[\"pass\"]:\r\n",
        "  if ((str(i)!=\"nan\") and (match.iloc[j][\"possession_team\"][\"name\"]==\"Barcelona\")):\r\n",
        "    v=[[i[\"angle\"],i[\"length\"],match.iloc[j][\"duration\"],i[\"end_location\"][0],i[\"end_location\"][1],match.iloc[j][\"location\"][0],match.iloc[j][\"location\"][1]]]\r\n",
        "    #print([i[\"length\"],i[\"end_location\"][0],i[\"end_location\"][1],match.iloc[j][\"duration\"],i[\"angle\"]],i[\"recipient\"][\"name\"])\r\n",
        "    if \"outcome\" not in i:\r\n",
        "      #print(model.predict(xx.transform(v)),i[\"outcome\"][\"name\"],match.iloc[j][\"player\"][\"name\"])\r\n",
        "      val.append(loaded_model.predict(xx.transform(v))[0][0])\r\n",
        "      names_finished.append(match.iloc[j][\"player\"][\"name\"])\r\n",
        "    else:\r\n",
        "      val1.append(loaded_model.predict(xx.transform(v))[0][0])\r\n",
        "      names_unfinished.append(match.iloc[j][\"player\"][\"name\"])\r\n",
        "  j+=1"
      ],
      "execution_count": null,
      "outputs": []
    },
    {
      "cell_type": "code",
      "metadata": {
        "colab": {
          "base_uri": "https://localhost:8080/",
          "height": 295
        },
        "id": "avF87I-74PEy",
        "outputId": "f74bedf0-1a00-4aea-a0e5-fa5dc0c04eee"
      },
      "source": [
        "h=plt.hist(val+val1,bins=11)\r\n",
        "plt.xlabel(\"Pass Hardness\")\r\n",
        "plt.ylabel(\"no. of passes\")\r\n",
        "plt.title(\"Pass Histogram -> O means easy pass and 1 means hard pass\")\r\n",
        "plt.show()\r\n",
        "# 0 means easy pass and 1 means hard pass."
      ],
      "execution_count": null,
      "outputs": [
        {
          "output_type": "display_data",
          "data": {
            "image/png": "[encoded data removed]",
            "text/plain": [
              "<Figure size 432x288 with 1 Axes>"
            ]
          },
          "metadata": {
            "tags": [],
            "needs_background": "light"
          }
        }
      ]
    },
    {
      "cell_type": "code",
      "metadata": {
        "colab": {
          "base_uri": "https://localhost:8080/",
          "height": 313
        },
        "id": "t8j_cBmUXCS0",
        "outputId": "c4b97e6b-8e41-4dd1-af05-d888e50333ab"
      },
      "source": [
        "plt.plot(h[0])\r\n",
        "plt.xlabel(\"pass difficulty\")\r\n",
        "#plt.xlim(0,10)\r\n",
        "plt.ylabel(\"no. of passes\")\r\n",
        "plt.title(\"FCB VS granada\")"
      ],
      "execution_count": null,
      "outputs": [
        {
          "output_type": "execute_result",
          "data": {
            "text/plain": [
              "Text(0.5, 1.0, 'FCB VS granada')"
            ]
          },
          "metadata": {
            "tags": []
          },
          "execution_count": 247
        },
        {
          "output_type": "display_data",
          "data": {
            "image/png": "[encoded data removed]",
            "text/plain": [
              "<Figure size 432x288 with 1 Axes>"
            ]
          },
          "metadata": {
            "tags": [],
            "needs_background": "light"
          }
        }
      ]
    },
    {
      "cell_type": "code",
      "metadata": {
        "id": "Cg6ZnDCxqnos",
        "colab": {
          "base_uri": "https://localhost:8080/"
        },
        "outputId": "5347e281-0d92-4424-c662-bc6e5a2f5a3f"
      },
      "source": [
        "dic1=dict()\r\n",
        "count1=dict()\r\n",
        "for i in set(names_finished):\r\n",
        "  dic1[i]=0\r\n",
        "  count1[i]=0\r\n",
        "for j in range(len(val)):\r\n",
        "  dic1[names_finished[j]]+=val[j]\r\n",
        "  count1[names_finished[j]]+=1\r\n",
        "#for i in dic.keys():\r\n",
        " # dic1[i]=dic1[i]/count[i]\r\n",
        "#len(val1)\r\n",
        "dic1"
      ],
      "execution_count": null,
      "outputs": [
        {
          "output_type": "execute_result",
          "data": {
            "text/plain": [
              "{'Andoni Iraola Sagarna': 0.31588980555534363,\n",
              " 'Andrés Iniesta Luján': 15.87662428803742,\n",
              " 'Carles Puyol i Saforcada': 8.893860260024667,\n",
              " 'Carlos Gurpegi Nausia': 0.5012605134397745,\n",
              " 'Eiður Smári Guðjohnsen': 0.056090518832206726,\n",
              " 'Fernando Amorebieta Mardaras': 1.4237365890294313,\n",
              " 'Fernando Llorente Torres': 0.14898407459259033,\n",
              " 'Gerard Piqué Bernabéu': 14.467037248192355,\n",
              " 'Gorka Iraizoz Moreno': 0.7205680012702942,\n",
              " 'Javier Martínez Aginaga': 0.12421820312738419,\n",
              " 'Koikili Lertxundi Del Campo': 0.16599173843860626,\n",
              " 'Lionel Andrés Messi Cuccittini': 14.107860323041677,\n",
              " 'Pablo Orbaiz Lesaka': 0.2881944477558136,\n",
              " 'Rafael Márquez Álvarez': 26.06332459487021,\n",
              " 'Samuel Eto\"o Fils': 5.231393504887819,\n",
              " 'Sergio Busquets i Burgos': 13.381220985203981,\n",
              " 'Sylvio Mendes Campos Junior': 13.757654106942937,\n",
              " 'Thierry Henry': 7.200826235115528,\n",
              " 'Víctor Sánchez Mata': 1.139933854341507,\n",
              " 'Víctor Valdés Arribas': 6.147984731942415,\n",
              " 'Xavier Hernández Creus': 21.955527756363153}"
            ]
          },
          "metadata": {
            "tags": []
          },
          "execution_count": 119
        }
      ]
    },
    {
      "cell_type": "code",
      "metadata": {
        "colab": {
          "base_uri": "https://localhost:8080/"
        },
        "id": "sCJAT5WV9FQP",
        "outputId": "4a209a70-4132-4a72-8ec5-ee189e322f98"
      },
      "source": [
        "len(dic),len(dic1)"
      ],
      "execution_count": null,
      "outputs": [
        {
          "output_type": "execute_result",
          "data": {
            "text/plain": [
              "(21, 21)"
            ]
          },
          "metadata": {
            "tags": []
          },
          "execution_count": 120
        }
      ]
    },
    {
      "cell_type": "code",
      "metadata": {
        "colab": {
          "base_uri": "https://localhost:8080/"
        },
        "id": "OEM0q6mEDmlL",
        "outputId": "01835157-a44f-4eba-a8b7-2667b77f6642"
      },
      "source": [
        "dic=dict()\r\n",
        "count=dict()\r\n",
        "for i in set(names_unfinished):\r\n",
        "  dic[i]=0\r\n",
        "  count[i]=0\r\n",
        "for j in range(len(val1)):\r\n",
        "  dic[names_unfinished[j]]+=val1[j]\r\n",
        "  count[names_unfinished[j]]+=1\r\n",
        "#for i in dic.keys():\r\n",
        "  #dic[i]=dic[i]/count[i]\r\n",
        "#len(val1)\r\n",
        "dic"
      ],
      "execution_count": null,
      "outputs": [
        {
          "output_type": "execute_result",
          "data": {
            "text/plain": [
              "{'Andoni Iraola Sagarna': 2.280729651451111,\n",
              " 'Andrés Iniesta Luján': 5.7065273225307465,\n",
              " 'Carles Puyol i Saforcada': 7.835760712623596,\n",
              " 'Carlos Gurpegi Nausia': 3.1426340341567993,\n",
              " 'Eiður Smári Guðjohnsen': 0.831580400466919,\n",
              " 'Fernando Amorebieta Mardaras': 0.9480466842651367,\n",
              " 'Fernando Llorente Torres': 1.2741196751594543,\n",
              " 'Francisco Javier Yeste Navarro': 0.8461228013038635,\n",
              " 'Gaizka Toquero Pinedo': 0.7275760173797607,\n",
              " 'Gerard Piqué Bernabéu': 3.509879946708679,\n",
              " 'Gorka Iraizoz Moreno': 1.7095803022384644,\n",
              " 'Igor Gabilondo del Campo': 0.8425222039222717,\n",
              " 'Koikili Lertxundi Del Campo': 1.7275134921073914,\n",
              " 'Lionel Andrés Messi Cuccittini': 7.395396530628204,\n",
              " 'Markel Susaeta Laskurain': 0.6005381941795349,\n",
              " 'Pablo Orbaiz Lesaka': 2.676512837409973,\n",
              " 'Rafael Márquez Álvarez': 6.3921466916799545,\n",
              " 'Samuel Eto\"o Fils': 3.2964700162410736,\n",
              " 'Sergio Busquets i Burgos': 2.868939980864525,\n",
              " 'Sylvio Mendes Campos Junior': 3.4526977837085724,\n",
              " 'Thierry Henry': 3.0297848880290985,\n",
              " 'Víctor Valdés Arribas': 11.0208899974823,\n",
              " 'Xavier Hernández Creus': 10.077682137489319}"
            ]
          },
          "metadata": {
            "tags": []
          },
          "execution_count": 121
        }
      ]
    },
    {
      "cell_type": "code",
      "metadata": {
        "id": "_G1PwyEqEKbz"
      },
      "source": [
        "df=pd.DataFrame()\r\n",
        "df[\"names\"]=dic.keys()\r\n",
        "#df[\"pass difficulty of completed passes\"]=dic1.values()\r\n",
        "df[\"pass difficulty of incompleted passes\"]=dic.values()\r\n",
        "df[\" No. Incompleted passes\"]=count.values()\r\n",
        "df[\"Avg. pass difficulty\"]=df[\"pass difficulty of incompleted passes\"]/df[\" No. Incompleted passes\"]\r\n"
      ],
      "execution_count": null,
      "outputs": []
    },
    {
      "cell_type": "code",
      "metadata": {
        "colab": {
          "base_uri": "https://localhost:8080/",
          "height": 722
        },
        "id": "gG6D1Z-vFOxr",
        "outputId": "521b85aa-c305-44d1-fa4c-4dacde072da3"
      },
      "source": [
        "df"
      ],
      "execution_count": null,
      "outputs": [
        {
          "output_type": "execute_result",
          "data": {
            "text/html": [
              "<div>\n",
              "<style scoped>\n",
              "    .dataframe tbody tr th:only-of-type {\n",
              "        vertical-align: middle;\n",
              "    }\n",
              "\n",
              "    .dataframe tbody tr th {\n",
              "        vertical-align: top;\n",
              "    }\n",
              "\n",
              "    .dataframe thead th {\n",
              "        text-align: right;\n",
              "    }\n",
              "</style>\n",
              "<table border=\"1\" class=\"dataframe\">\n",
              "  <thead>\n",
              "    <tr style=\"text-align: right;\">\n",
              "      <th></th>\n",
              "      <th>names</th>\n",
              "      <th>pass difficulty of incompleted passes</th>\n",
              "      <th>No. Incompleted passes</th>\n",
              "      <th>Avg. pass difficulty</th>\n",
              "    </tr>\n",
              "  </thead>\n",
              "  <tbody>\n",
              "    <tr>\n",
              "      <th>0</th>\n",
              "      <td>Igor Gabilondo del Campo</td>\n",
              "      <td>0.842522</td>\n",
              "      <td>1</td>\n",
              "      <td>0.842522</td>\n",
              "    </tr>\n",
              "    <tr>\n",
              "      <th>1</th>\n",
              "      <td>Xavier Hernández Creus</td>\n",
              "      <td>10.077682</td>\n",
              "      <td>11</td>\n",
              "      <td>0.916153</td>\n",
              "    </tr>\n",
              "    <tr>\n",
              "      <th>2</th>\n",
              "      <td>Víctor Valdés Arribas</td>\n",
              "      <td>11.020890</td>\n",
              "      <td>12</td>\n",
              "      <td>0.918407</td>\n",
              "    </tr>\n",
              "    <tr>\n",
              "      <th>3</th>\n",
              "      <td>Thierry Henry</td>\n",
              "      <td>3.029785</td>\n",
              "      <td>5</td>\n",
              "      <td>0.605957</td>\n",
              "    </tr>\n",
              "    <tr>\n",
              "      <th>4</th>\n",
              "      <td>Rafael Márquez Álvarez</td>\n",
              "      <td>6.392147</td>\n",
              "      <td>9</td>\n",
              "      <td>0.710239</td>\n",
              "    </tr>\n",
              "    <tr>\n",
              "      <th>5</th>\n",
              "      <td>Andrés Iniesta Luján</td>\n",
              "      <td>5.706527</td>\n",
              "      <td>9</td>\n",
              "      <td>0.634059</td>\n",
              "    </tr>\n",
              "    <tr>\n",
              "      <th>6</th>\n",
              "      <td>Fernando Amorebieta Mardaras</td>\n",
              "      <td>0.948047</td>\n",
              "      <td>2</td>\n",
              "      <td>0.474023</td>\n",
              "    </tr>\n",
              "    <tr>\n",
              "      <th>7</th>\n",
              "      <td>Markel Susaeta Laskurain</td>\n",
              "      <td>0.600538</td>\n",
              "      <td>1</td>\n",
              "      <td>0.600538</td>\n",
              "    </tr>\n",
              "    <tr>\n",
              "      <th>8</th>\n",
              "      <td>Pablo Orbaiz Lesaka</td>\n",
              "      <td>2.676513</td>\n",
              "      <td>3</td>\n",
              "      <td>0.892171</td>\n",
              "    </tr>\n",
              "    <tr>\n",
              "      <th>9</th>\n",
              "      <td>Koikili Lertxundi Del Campo</td>\n",
              "      <td>1.727513</td>\n",
              "      <td>2</td>\n",
              "      <td>0.863757</td>\n",
              "    </tr>\n",
              "    <tr>\n",
              "      <th>10</th>\n",
              "      <td>Samuel Eto\"o Fils</td>\n",
              "      <td>3.296470</td>\n",
              "      <td>5</td>\n",
              "      <td>0.659294</td>\n",
              "    </tr>\n",
              "    <tr>\n",
              "      <th>11</th>\n",
              "      <td>Gaizka Toquero Pinedo</td>\n",
              "      <td>0.727576</td>\n",
              "      <td>1</td>\n",
              "      <td>0.727576</td>\n",
              "    </tr>\n",
              "    <tr>\n",
              "      <th>12</th>\n",
              "      <td>Lionel Andrés Messi Cuccittini</td>\n",
              "      <td>7.395397</td>\n",
              "      <td>9</td>\n",
              "      <td>0.821711</td>\n",
              "    </tr>\n",
              "    <tr>\n",
              "      <th>13</th>\n",
              "      <td>Sylvio Mendes Campos Junior</td>\n",
              "      <td>3.452698</td>\n",
              "      <td>5</td>\n",
              "      <td>0.690540</td>\n",
              "    </tr>\n",
              "    <tr>\n",
              "      <th>14</th>\n",
              "      <td>Carles Puyol i Saforcada</td>\n",
              "      <td>7.835761</td>\n",
              "      <td>10</td>\n",
              "      <td>0.783576</td>\n",
              "    </tr>\n",
              "    <tr>\n",
              "      <th>15</th>\n",
              "      <td>Gerard Piqué Bernabéu</td>\n",
              "      <td>3.509880</td>\n",
              "      <td>5</td>\n",
              "      <td>0.701976</td>\n",
              "    </tr>\n",
              "    <tr>\n",
              "      <th>16</th>\n",
              "      <td>Eiður Smári Guðjohnsen</td>\n",
              "      <td>0.831580</td>\n",
              "      <td>1</td>\n",
              "      <td>0.831580</td>\n",
              "    </tr>\n",
              "    <tr>\n",
              "      <th>17</th>\n",
              "      <td>Carlos Gurpegi Nausia</td>\n",
              "      <td>3.142634</td>\n",
              "      <td>4</td>\n",
              "      <td>0.785659</td>\n",
              "    </tr>\n",
              "    <tr>\n",
              "      <th>18</th>\n",
              "      <td>Sergio Busquets i Burgos</td>\n",
              "      <td>2.868940</td>\n",
              "      <td>5</td>\n",
              "      <td>0.573788</td>\n",
              "    </tr>\n",
              "    <tr>\n",
              "      <th>19</th>\n",
              "      <td>Fernando Llorente Torres</td>\n",
              "      <td>1.274120</td>\n",
              "      <td>2</td>\n",
              "      <td>0.637060</td>\n",
              "    </tr>\n",
              "    <tr>\n",
              "      <th>20</th>\n",
              "      <td>Andoni Iraola Sagarna</td>\n",
              "      <td>2.280730</td>\n",
              "      <td>3</td>\n",
              "      <td>0.760243</td>\n",
              "    </tr>\n",
              "    <tr>\n",
              "      <th>21</th>\n",
              "      <td>Francisco Javier Yeste Navarro</td>\n",
              "      <td>0.846123</td>\n",
              "      <td>2</td>\n",
              "      <td>0.423061</td>\n",
              "    </tr>\n",
              "    <tr>\n",
              "      <th>22</th>\n",
              "      <td>Gorka Iraizoz Moreno</td>\n",
              "      <td>1.709580</td>\n",
              "      <td>2</td>\n",
              "      <td>0.854790</td>\n",
              "    </tr>\n",
              "  </tbody>\n",
              "</table>\n",
              "</div>"
            ],
            "text/plain": [
              "                             names  ...  Avg. pass difficulty\n",
              "0         Igor Gabilondo del Campo  ...              0.842522\n",
              "1           Xavier Hernández Creus  ...              0.916153\n",
              "2            Víctor Valdés Arribas  ...              0.918407\n",
              "3                    Thierry Henry  ...              0.605957\n",
              "4           Rafael Márquez Álvarez  ...              0.710239\n",
              "5             Andrés Iniesta Luján  ...              0.634059\n",
              "6     Fernando Amorebieta Mardaras  ...              0.474023\n",
              "7         Markel Susaeta Laskurain  ...              0.600538\n",
              "8              Pablo Orbaiz Lesaka  ...              0.892171\n",
              "9      Koikili Lertxundi Del Campo  ...              0.863757\n",
              "10               Samuel Eto\"o Fils  ...              0.659294\n",
              "11           Gaizka Toquero Pinedo  ...              0.727576\n",
              "12  Lionel Andrés Messi Cuccittini  ...              0.821711\n",
              "13     Sylvio Mendes Campos Junior  ...              0.690540\n",
              "14        Carles Puyol i Saforcada  ...              0.783576\n",
              "15           Gerard Piqué Bernabéu  ...              0.701976\n",
              "16          Eiður Smári Guðjohnsen  ...              0.831580\n",
              "17           Carlos Gurpegi Nausia  ...              0.785659\n",
              "18        Sergio Busquets i Burgos  ...              0.573788\n",
              "19        Fernando Llorente Torres  ...              0.637060\n",
              "20           Andoni Iraola Sagarna  ...              0.760243\n",
              "21  Francisco Javier Yeste Navarro  ...              0.423061\n",
              "22            Gorka Iraizoz Moreno  ...              0.854790\n",
              "\n",
              "[23 rows x 4 columns]"
            ]
          },
          "metadata": {
            "tags": []
          },
          "execution_count": 128
        }
      ]
    },
    {
      "cell_type": "code",
      "metadata": {
        "colab": {
          "base_uri": "https://localhost:8080/",
          "height": 663
        },
        "id": "FQ5PIEiYTQAh",
        "outputId": "f33391cd-88db-46d0-8ebf-a7afd4f8465a"
      },
      "source": [
        "df=pd.DataFrame()\r\n",
        "df[\"names\"]=dic1.keys()\r\n",
        "#df[\"pass difficulty of completed passes\"]=dic1.values()\r\n",
        "df[\"pass difficulty of completed passes\"]=dic1.values()\r\n",
        "df[\" No. completed passes\"]=count1.values()\r\n",
        "df[\"Avg. pass difficulty\"]=df[\"pass difficulty of completed passes\"]/df[\" No. completed passes\"]\r\n",
        "df"
      ],
      "execution_count": null,
      "outputs": [
        {
          "output_type": "execute_result",
          "data": {
            "text/html": [
              "<div>\n",
              "<style scoped>\n",
              "    .dataframe tbody tr th:only-of-type {\n",
              "        vertical-align: middle;\n",
              "    }\n",
              "\n",
              "    .dataframe tbody tr th {\n",
              "        vertical-align: top;\n",
              "    }\n",
              "\n",
              "    .dataframe thead th {\n",
              "        text-align: right;\n",
              "    }\n",
              "</style>\n",
              "<table border=\"1\" class=\"dataframe\">\n",
              "  <thead>\n",
              "    <tr style=\"text-align: right;\">\n",
              "      <th></th>\n",
              "      <th>names</th>\n",
              "      <th>pass difficulty of completed passes</th>\n",
              "      <th>No. completed passes</th>\n",
              "      <th>Avg. pass difficulty</th>\n",
              "    </tr>\n",
              "  </thead>\n",
              "  <tbody>\n",
              "    <tr>\n",
              "      <th>0</th>\n",
              "      <td>Xavier Hernández Creus</td>\n",
              "      <td>21.955528</td>\n",
              "      <td>82</td>\n",
              "      <td>0.267750</td>\n",
              "    </tr>\n",
              "    <tr>\n",
              "      <th>1</th>\n",
              "      <td>Víctor Valdés Arribas</td>\n",
              "      <td>6.147985</td>\n",
              "      <td>21</td>\n",
              "      <td>0.292761</td>\n",
              "    </tr>\n",
              "    <tr>\n",
              "      <th>2</th>\n",
              "      <td>Thierry Henry</td>\n",
              "      <td>7.200826</td>\n",
              "      <td>18</td>\n",
              "      <td>0.400046</td>\n",
              "    </tr>\n",
              "    <tr>\n",
              "      <th>3</th>\n",
              "      <td>Rafael Márquez Álvarez</td>\n",
              "      <td>26.063325</td>\n",
              "      <td>76</td>\n",
              "      <td>0.342938</td>\n",
              "    </tr>\n",
              "    <tr>\n",
              "      <th>4</th>\n",
              "      <td>Andrés Iniesta Luján</td>\n",
              "      <td>15.876624</td>\n",
              "      <td>53</td>\n",
              "      <td>0.299559</td>\n",
              "    </tr>\n",
              "    <tr>\n",
              "      <th>5</th>\n",
              "      <td>Fernando Amorebieta Mardaras</td>\n",
              "      <td>1.423737</td>\n",
              "      <td>3</td>\n",
              "      <td>0.474579</td>\n",
              "    </tr>\n",
              "    <tr>\n",
              "      <th>6</th>\n",
              "      <td>Pablo Orbaiz Lesaka</td>\n",
              "      <td>0.288194</td>\n",
              "      <td>1</td>\n",
              "      <td>0.288194</td>\n",
              "    </tr>\n",
              "    <tr>\n",
              "      <th>7</th>\n",
              "      <td>Koikili Lertxundi Del Campo</td>\n",
              "      <td>0.165992</td>\n",
              "      <td>1</td>\n",
              "      <td>0.165992</td>\n",
              "    </tr>\n",
              "    <tr>\n",
              "      <th>8</th>\n",
              "      <td>Samuel Eto\"o Fils</td>\n",
              "      <td>5.231394</td>\n",
              "      <td>14</td>\n",
              "      <td>0.373671</td>\n",
              "    </tr>\n",
              "    <tr>\n",
              "      <th>9</th>\n",
              "      <td>Lionel Andrés Messi Cuccittini</td>\n",
              "      <td>14.107860</td>\n",
              "      <td>43</td>\n",
              "      <td>0.328090</td>\n",
              "    </tr>\n",
              "    <tr>\n",
              "      <th>10</th>\n",
              "      <td>Víctor Sánchez Mata</td>\n",
              "      <td>1.139934</td>\n",
              "      <td>5</td>\n",
              "      <td>0.227987</td>\n",
              "    </tr>\n",
              "    <tr>\n",
              "      <th>11</th>\n",
              "      <td>Sylvio Mendes Campos Junior</td>\n",
              "      <td>13.757654</td>\n",
              "      <td>47</td>\n",
              "      <td>0.292716</td>\n",
              "    </tr>\n",
              "    <tr>\n",
              "      <th>12</th>\n",
              "      <td>Carles Puyol i Saforcada</td>\n",
              "      <td>8.893860</td>\n",
              "      <td>48</td>\n",
              "      <td>0.185289</td>\n",
              "    </tr>\n",
              "    <tr>\n",
              "      <th>13</th>\n",
              "      <td>Gerard Piqué Bernabéu</td>\n",
              "      <td>14.467037</td>\n",
              "      <td>51</td>\n",
              "      <td>0.283667</td>\n",
              "    </tr>\n",
              "    <tr>\n",
              "      <th>14</th>\n",
              "      <td>Eiður Smári Guðjohnsen</td>\n",
              "      <td>0.056091</td>\n",
              "      <td>1</td>\n",
              "      <td>0.056091</td>\n",
              "    </tr>\n",
              "    <tr>\n",
              "      <th>15</th>\n",
              "      <td>Carlos Gurpegi Nausia</td>\n",
              "      <td>0.501261</td>\n",
              "      <td>4</td>\n",
              "      <td>0.125315</td>\n",
              "    </tr>\n",
              "    <tr>\n",
              "      <th>16</th>\n",
              "      <td>Javier Martínez Aginaga</td>\n",
              "      <td>0.124218</td>\n",
              "      <td>1</td>\n",
              "      <td>0.124218</td>\n",
              "    </tr>\n",
              "    <tr>\n",
              "      <th>17</th>\n",
              "      <td>Sergio Busquets i Burgos</td>\n",
              "      <td>13.381221</td>\n",
              "      <td>57</td>\n",
              "      <td>0.234758</td>\n",
              "    </tr>\n",
              "    <tr>\n",
              "      <th>18</th>\n",
              "      <td>Fernando Llorente Torres</td>\n",
              "      <td>0.148984</td>\n",
              "      <td>1</td>\n",
              "      <td>0.148984</td>\n",
              "    </tr>\n",
              "    <tr>\n",
              "      <th>19</th>\n",
              "      <td>Andoni Iraola Sagarna</td>\n",
              "      <td>0.315890</td>\n",
              "      <td>1</td>\n",
              "      <td>0.315890</td>\n",
              "    </tr>\n",
              "    <tr>\n",
              "      <th>20</th>\n",
              "      <td>Gorka Iraizoz Moreno</td>\n",
              "      <td>0.720568</td>\n",
              "      <td>1</td>\n",
              "      <td>0.720568</td>\n",
              "    </tr>\n",
              "  </tbody>\n",
              "</table>\n",
              "</div>"
            ],
            "text/plain": [
              "                             names  ...  Avg. pass difficulty\n",
              "0           Xavier Hernández Creus  ...              0.267750\n",
              "1            Víctor Valdés Arribas  ...              0.292761\n",
              "2                    Thierry Henry  ...              0.400046\n",
              "3           Rafael Márquez Álvarez  ...              0.342938\n",
              "4             Andrés Iniesta Luján  ...              0.299559\n",
              "5     Fernando Amorebieta Mardaras  ...              0.474579\n",
              "6              Pablo Orbaiz Lesaka  ...              0.288194\n",
              "7      Koikili Lertxundi Del Campo  ...              0.165992\n",
              "8                Samuel Eto\"o Fils  ...              0.373671\n",
              "9   Lionel Andrés Messi Cuccittini  ...              0.328090\n",
              "10             Víctor Sánchez Mata  ...              0.227987\n",
              "11     Sylvio Mendes Campos Junior  ...              0.292716\n",
              "12        Carles Puyol i Saforcada  ...              0.185289\n",
              "13           Gerard Piqué Bernabéu  ...              0.283667\n",
              "14          Eiður Smári Guðjohnsen  ...              0.056091\n",
              "15           Carlos Gurpegi Nausia  ...              0.125315\n",
              "16         Javier Martínez Aginaga  ...              0.124218\n",
              "17        Sergio Busquets i Burgos  ...              0.234758\n",
              "18        Fernando Llorente Torres  ...              0.148984\n",
              "19           Andoni Iraola Sagarna  ...              0.315890\n",
              "20            Gorka Iraizoz Moreno  ...              0.720568\n",
              "\n",
              "[21 rows x 4 columns]"
            ]
          },
          "metadata": {
            "tags": []
          },
          "execution_count": 126
        }
      ]
    },
    {
      "cell_type": "code",
      "metadata": {
        "id": "2DS9aDYGh0OH"
      },
      "source": [
        "# we can see above and find the GOAT is making lots of difficult passing."
      ],
      "execution_count": null,
      "outputs": []
    },
    {
      "cell_type": "markdown",
      "metadata": {
        "id": "oNShKpzC8Ikr"
      },
      "source": [
        "if using this model in future use the features in the order of \r\n",
        "\r\n",
        "['pass_angle', 'pass_length','duration', 'end_location_x', 'end_location_y', 'start_location_x', 'start_location_y']"
      ]
    },
    {
      "cell_type": "code",
      "metadata": {
        "id": "AsamiReE8UbB",
        "colab": {
          "base_uri": "https://localhost:8080/"
        },
        "outputId": "132098e8-1724-4ca0-9d97-5a5fbe4e3134"
      },
      "source": [
        "match[match[\"possession\"]==21][\"pass\"].dropna()"
      ],
      "execution_count": null,
      "outputs": [
        {
          "output_type": "execute_result",
          "data": {
            "text/plain": [
              "id\n",
              "2635aa1a-5bce-4878-b176-34bd08de236a    {'recipient': {'id': 20177, 'name': 'Eric-Sylv...\n",
              "97bf3b68-be45-460c-a51f-18d5bbd4fcf5    {'recipient': {'id': 20131, 'name': 'Xavier He...\n",
              "9e2181e7-f5c6-412b-bf96-dfa1a4c7df62    {'recipient': {'id': 3478, 'name': 'Francesc F...\n",
              "daa83d98-984a-4b2e-9502-97ffa1d5de09    {'recipient': {'id': 5506, 'name': 'Javier Ale...\n",
              "e7526552-507f-41a6-9c59-49e0ada94d7f    {'recipient': {'id': 3478, 'name': 'Francesc F...\n",
              "5479e085-8d41-450d-8fd7-184a02ed909c    {'recipient': {'id': 20131, 'name': 'Xavier He...\n",
              "e2447281-d5b1-4bf2-a3e0-35dac6ff1eb0    {'recipient': {'id': 26776, 'name': 'Juan Isaa...\n",
              "4f8cd2a7-1f39-4225-836e-b5f2e1446d1d    {'recipient': {'id': 26613, 'name': 'Maxwell S...\n",
              "659156b4-844f-400a-b814-1aae55902f4d    {'recipient': {'id': 20131, 'name': 'Xavier He...\n",
              "eb67819c-6c3b-4c19-9ab4-bc1c4f48b758    {'recipient': {'id': 26776, 'name': 'Juan Isaa...\n",
              "708373f8-080d-4a8a-b06c-ebcfe9fc9d9f    {'recipient': {'id': 20131, 'name': 'Xavier He...\n",
              "e35dd735-f329-49b2-a117-365b36debd8d    {'recipient': {'id': 5506, 'name': 'Javier Ale...\n",
              "6a4575c0-43ad-4d0b-a8cd-4664be180ecd    {'recipient': {'id': 3478, 'name': 'Francesc F...\n",
              "1dd0aa2f-0e0d-4d1a-bf5a-68c378a6a1be    {'recipient': {'id': 3958, 'name': 'Pedro Elie...\n",
              "f3bc9c0d-8721-4368-8ead-4fd2a1fb0367    {'recipient': {'id': 3478, 'name': 'Francesc F...\n",
              "bb10bf98-e11a-4f30-9cdf-1c4b0c2bbaad    {'recipient': {'id': 4324, 'name': 'Daniel Alv...\n",
              "0a9ecc94-3c1d-4f2f-8226-3ed837954a8a    {'recipient': {'id': 3958, 'name': 'Pedro Elie...\n",
              "b5fc0ef0-8e6d-49f7-8098-bb04fe5bb5aa    {'recipient': {'id': 4324, 'name': 'Daniel Alv...\n",
              "e6302146-3e62-433a-a9f9-c19c168af706    {'recipient': {'id': 3958, 'name': 'Pedro Elie...\n",
              "1f6d57b3-9e36-48d6-9d27-8613c2162d5b    {'recipient': {'id': 5503, 'name': 'Lionel And...\n",
              "Name: pass, dtype: object"
            ]
          },
          "metadata": {
            "tags": []
          },
          "execution_count": 21
        }
      ]
    },
    {
      "cell_type": "code",
      "metadata": {
        "colab": {
          "base_uri": "https://localhost:8080/",
          "height": 1000
        },
        "id": "aygjmF2OwTGH",
        "outputId": "1c9fb008-50e8-465e-fa24-7e0db96e9479"
      },
      "source": [
        "match[match[\"possession\"]==21]"
      ],
      "execution_count": null,
      "outputs": [
        {
          "output_type": "execute_result",
          "data": {
            "text/html": [
              "<div>\n",
              "<style scoped>\n",
              "    .dataframe tbody tr th:only-of-type {\n",
              "        vertical-align: middle;\n",
              "    }\n",
              "\n",
              "    .dataframe tbody tr th {\n",
              "        vertical-align: top;\n",
              "    }\n",
              "\n",
              "    .dataframe thead th {\n",
              "        text-align: right;\n",
              "    }\n",
              "</style>\n",
              "<table border=\"1\" class=\"dataframe\">\n",
              "  <thead>\n",
              "    <tr style=\"text-align: right;\">\n",
              "      <th></th>\n",
              "      <th>index</th>\n",
              "      <th>period</th>\n",
              "      <th>timestamp</th>\n",
              "      <th>minute</th>\n",
              "      <th>second</th>\n",
              "      <th>type</th>\n",
              "      <th>possession</th>\n",
              "      <th>possession_team</th>\n",
              "      <th>play_pattern</th>\n",
              "      <th>team</th>\n",
              "      <th>duration</th>\n",
              "      <th>tactics</th>\n",
              "      <th>related_events</th>\n",
              "      <th>off_camera</th>\n",
              "      <th>player</th>\n",
              "      <th>position</th>\n",
              "      <th>location</th>\n",
              "      <th>pass</th>\n",
              "      <th>carry</th>\n",
              "      <th>under_pressure</th>\n",
              "      <th>ball_receipt</th>\n",
              "      <th>counterpress</th>\n",
              "      <th>interception</th>\n",
              "      <th>foul_won</th>\n",
              "      <th>foul_committed</th>\n",
              "      <th>duel</th>\n",
              "      <th>out</th>\n",
              "      <th>shot</th>\n",
              "      <th>goalkeeper</th>\n",
              "      <th>clearance</th>\n",
              "      <th>dribble</th>\n",
              "      <th>ball_recovery</th>\n",
              "      <th>substitution</th>\n",
              "      <th>block</th>\n",
              "      <th>bad_behaviour</th>\n",
              "    </tr>\n",
              "    <tr>\n",
              "      <th>id</th>\n",
              "      <th></th>\n",
              "      <th></th>\n",
              "      <th></th>\n",
              "      <th></th>\n",
              "      <th></th>\n",
              "      <th></th>\n",
              "      <th></th>\n",
              "      <th></th>\n",
              "      <th></th>\n",
              "      <th></th>\n",
              "      <th></th>\n",
              "      <th></th>\n",
              "      <th></th>\n",
              "      <th></th>\n",
              "      <th></th>\n",
              "      <th></th>\n",
              "      <th></th>\n",
              "      <th></th>\n",
              "      <th></th>\n",
              "      <th></th>\n",
              "      <th></th>\n",
              "      <th></th>\n",
              "      <th></th>\n",
              "      <th></th>\n",
              "      <th></th>\n",
              "      <th></th>\n",
              "      <th></th>\n",
              "      <th></th>\n",
              "      <th></th>\n",
              "      <th></th>\n",
              "      <th></th>\n",
              "      <th></th>\n",
              "      <th></th>\n",
              "      <th></th>\n",
              "      <th></th>\n",
              "    </tr>\n",
              "  </thead>\n",
              "  <tbody>\n",
              "    <tr>\n",
              "      <th>2635aa1a-5bce-4878-b176-34bd08de236a</th>\n",
              "      <td>479</td>\n",
              "      <td>1</td>\n",
              "      <td>2021-03-03 00:11:17.878</td>\n",
              "      <td>11</td>\n",
              "      <td>17</td>\n",
              "      <td>{'id': 30, 'name': 'Pass'}</td>\n",
              "      <td>21</td>\n",
              "      <td>{'id': 217, 'name': 'Barcelona'}</td>\n",
              "      <td>{'id': 7, 'name': 'From Goal Kick'}</td>\n",
              "      <td>{'id': 217, 'name': 'Barcelona'}</td>\n",
              "      <td>2.512521</td>\n",
              "      <td>NaN</td>\n",
              "      <td>[30b347c3-fe1a-4324-aca8-f2b63cc2353f]</td>\n",
              "      <td>NaN</td>\n",
              "      <td>{'id': 20176, 'name': 'Víctor Valdés Arribas'}</td>\n",
              "      <td>{'id': 1, 'name': 'Goalkeeper'}</td>\n",
              "      <td>[7.0, 37.0]</td>\n",
              "      <td>{'recipient': {'id': 20177, 'name': 'Eric-Sylv...</td>\n",
              "      <td>NaN</td>\n",
              "      <td>NaN</td>\n",
              "      <td>NaN</td>\n",
              "      <td>NaN</td>\n",
              "      <td>NaN</td>\n",
              "      <td>NaN</td>\n",
              "      <td>NaN</td>\n",
              "      <td>NaN</td>\n",
              "      <td>NaN</td>\n",
              "      <td>NaN</td>\n",
              "      <td>NaN</td>\n",
              "      <td>NaN</td>\n",
              "      <td>NaN</td>\n",
              "      <td>NaN</td>\n",
              "      <td>NaN</td>\n",
              "      <td>NaN</td>\n",
              "      <td>NaN</td>\n",
              "    </tr>\n",
              "    <tr>\n",
              "      <th>30b347c3-fe1a-4324-aca8-f2b63cc2353f</th>\n",
              "      <td>480</td>\n",
              "      <td>1</td>\n",
              "      <td>2021-03-03 00:11:20.390</td>\n",
              "      <td>11</td>\n",
              "      <td>20</td>\n",
              "      <td>{'id': 42, 'name': 'Ball Receipt*'}</td>\n",
              "      <td>21</td>\n",
              "      <td>{'id': 217, 'name': 'Barcelona'}</td>\n",
              "      <td>{'id': 7, 'name': 'From Goal Kick'}</td>\n",
              "      <td>{'id': 217, 'name': 'Barcelona'}</td>\n",
              "      <td>NaN</td>\n",
              "      <td>NaN</td>\n",
              "      <td>[2635aa1a-5bce-4878-b176-34bd08de236a]</td>\n",
              "      <td>NaN</td>\n",
              "      <td>{'id': 20177, 'name': 'Eric-Sylvain Bilal Abid...</td>\n",
              "      <td>{'id': 5, 'name': 'Left Center Back'}</td>\n",
              "      <td>[9.3, 12.9]</td>\n",
              "      <td>NaN</td>\n",
              "      <td>NaN</td>\n",
              "      <td>NaN</td>\n",
              "      <td>NaN</td>\n",
              "      <td>NaN</td>\n",
              "      <td>NaN</td>\n",
              "      <td>NaN</td>\n",
              "      <td>NaN</td>\n",
              "      <td>NaN</td>\n",
              "      <td>NaN</td>\n",
              "      <td>NaN</td>\n",
              "      <td>NaN</td>\n",
              "      <td>NaN</td>\n",
              "      <td>NaN</td>\n",
              "      <td>NaN</td>\n",
              "      <td>NaN</td>\n",
              "      <td>NaN</td>\n",
              "      <td>NaN</td>\n",
              "    </tr>\n",
              "    <tr>\n",
              "      <th>8151b0dd-96b6-431d-bab7-06373a8508be</th>\n",
              "      <td>481</td>\n",
              "      <td>1</td>\n",
              "      <td>2021-03-03 00:11:20.390</td>\n",
              "      <td>11</td>\n",
              "      <td>20</td>\n",
              "      <td>{'id': 43, 'name': 'Carry'}</td>\n",
              "      <td>21</td>\n",
              "      <td>{'id': 217, 'name': 'Barcelona'}</td>\n",
              "      <td>{'id': 7, 'name': 'From Goal Kick'}</td>\n",
              "      <td>{'id': 217, 'name': 'Barcelona'}</td>\n",
              "      <td>0.149179</td>\n",
              "      <td>NaN</td>\n",
              "      <td>[30b347c3-fe1a-4324-aca8-f2b63cc2353f, 97bf3b6...</td>\n",
              "      <td>NaN</td>\n",
              "      <td>{'id': 20177, 'name': 'Eric-Sylvain Bilal Abid...</td>\n",
              "      <td>{'id': 5, 'name': 'Left Center Back'}</td>\n",
              "      <td>[9.3, 12.9]</td>\n",
              "      <td>NaN</td>\n",
              "      <td>{'end_location': [10.5, 12.8]}</td>\n",
              "      <td>NaN</td>\n",
              "      <td>NaN</td>\n",
              "      <td>NaN</td>\n",
              "      <td>NaN</td>\n",
              "      <td>NaN</td>\n",
              "      <td>NaN</td>\n",
              "      <td>NaN</td>\n",
              "      <td>NaN</td>\n",
              "      <td>NaN</td>\n",
              "      <td>NaN</td>\n",
              "      <td>NaN</td>\n",
              "      <td>NaN</td>\n",
              "      <td>NaN</td>\n",
              "      <td>NaN</td>\n",
              "      <td>NaN</td>\n",
              "      <td>NaN</td>\n",
              "    </tr>\n",
              "    <tr>\n",
              "      <th>97bf3b68-be45-460c-a51f-18d5bbd4fcf5</th>\n",
              "      <td>482</td>\n",
              "      <td>1</td>\n",
              "      <td>2021-03-03 00:11:20.539</td>\n",
              "      <td>11</td>\n",
              "      <td>20</td>\n",
              "      <td>{'id': 30, 'name': 'Pass'}</td>\n",
              "      <td>21</td>\n",
              "      <td>{'id': 217, 'name': 'Barcelona'}</td>\n",
              "      <td>{'id': 7, 'name': 'From Goal Kick'}</td>\n",
              "      <td>{'id': 217, 'name': 'Barcelona'}</td>\n",
              "      <td>1.405800</td>\n",
              "      <td>NaN</td>\n",
              "      <td>[229d95a7-af58-4d52-8da1-fdfc194df3b2]</td>\n",
              "      <td>NaN</td>\n",
              "      <td>{'id': 20177, 'name': 'Eric-Sylvain Bilal Abid...</td>\n",
              "      <td>{'id': 5, 'name': 'Left Center Back'}</td>\n",
              "      <td>[10.5, 12.8]</td>\n",
              "      <td>{'recipient': {'id': 20131, 'name': 'Xavier He...</td>\n",
              "      <td>NaN</td>\n",
              "      <td>NaN</td>\n",
              "      <td>NaN</td>\n",
              "      <td>NaN</td>\n",
              "      <td>NaN</td>\n",
              "      <td>NaN</td>\n",
              "      <td>NaN</td>\n",
              "      <td>NaN</td>\n",
              "      <td>NaN</td>\n",
              "      <td>NaN</td>\n",
              "      <td>NaN</td>\n",
              "      <td>NaN</td>\n",
              "      <td>NaN</td>\n",
              "      <td>NaN</td>\n",
              "      <td>NaN</td>\n",
              "      <td>NaN</td>\n",
              "      <td>NaN</td>\n",
              "    </tr>\n",
              "    <tr>\n",
              "      <th>229d95a7-af58-4d52-8da1-fdfc194df3b2</th>\n",
              "      <td>483</td>\n",
              "      <td>1</td>\n",
              "      <td>2021-03-03 00:11:21.945</td>\n",
              "      <td>11</td>\n",
              "      <td>21</td>\n",
              "      <td>{'id': 42, 'name': 'Ball Receipt*'}</td>\n",
              "      <td>21</td>\n",
              "      <td>{'id': 217, 'name': 'Barcelona'}</td>\n",
              "      <td>{'id': 7, 'name': 'From Goal Kick'}</td>\n",
              "      <td>{'id': 217, 'name': 'Barcelona'}</td>\n",
              "      <td>NaN</td>\n",
              "      <td>NaN</td>\n",
              "      <td>[97bf3b68-be45-460c-a51f-18d5bbd4fcf5]</td>\n",
              "      <td>NaN</td>\n",
              "      <td>{'id': 20131, 'name': 'Xavier Hernández Creus'}</td>\n",
              "      <td>{'id': 13, 'name': 'Right Center Midfield'}</td>\n",
              "      <td>[30.3, 23.6]</td>\n",
              "      <td>NaN</td>\n",
              "      <td>NaN</td>\n",
              "      <td>NaN</td>\n",
              "      <td>NaN</td>\n",
              "      <td>NaN</td>\n",
              "      <td>NaN</td>\n",
              "      <td>NaN</td>\n",
              "      <td>NaN</td>\n",
              "      <td>NaN</td>\n",
              "      <td>NaN</td>\n",
              "      <td>NaN</td>\n",
              "      <td>NaN</td>\n",
              "      <td>NaN</td>\n",
              "      <td>NaN</td>\n",
              "      <td>NaN</td>\n",
              "      <td>NaN</td>\n",
              "      <td>NaN</td>\n",
              "      <td>NaN</td>\n",
              "    </tr>\n",
              "    <tr>\n",
              "      <th>...</th>\n",
              "      <td>...</td>\n",
              "      <td>...</td>\n",
              "      <td>...</td>\n",
              "      <td>...</td>\n",
              "      <td>...</td>\n",
              "      <td>...</td>\n",
              "      <td>...</td>\n",
              "      <td>...</td>\n",
              "      <td>...</td>\n",
              "      <td>...</td>\n",
              "      <td>...</td>\n",
              "      <td>...</td>\n",
              "      <td>...</td>\n",
              "      <td>...</td>\n",
              "      <td>...</td>\n",
              "      <td>...</td>\n",
              "      <td>...</td>\n",
              "      <td>...</td>\n",
              "      <td>...</td>\n",
              "      <td>...</td>\n",
              "      <td>...</td>\n",
              "      <td>...</td>\n",
              "      <td>...</td>\n",
              "      <td>...</td>\n",
              "      <td>...</td>\n",
              "      <td>...</td>\n",
              "      <td>...</td>\n",
              "      <td>...</td>\n",
              "      <td>...</td>\n",
              "      <td>...</td>\n",
              "      <td>...</td>\n",
              "      <td>...</td>\n",
              "      <td>...</td>\n",
              "      <td>...</td>\n",
              "      <td>...</td>\n",
              "    </tr>\n",
              "    <tr>\n",
              "      <th>2dc460bb-25a3-4eee-9386-441f50fb55dd</th>\n",
              "      <td>546</td>\n",
              "      <td>1</td>\n",
              "      <td>2021-03-03 00:12:11.969</td>\n",
              "      <td>12</td>\n",
              "      <td>11</td>\n",
              "      <td>{'id': 14, 'name': 'Dribble'}</td>\n",
              "      <td>21</td>\n",
              "      <td>{'id': 217, 'name': 'Barcelona'}</td>\n",
              "      <td>{'id': 7, 'name': 'From Goal Kick'}</td>\n",
              "      <td>{'id': 217, 'name': 'Barcelona'}</td>\n",
              "      <td>0.000000</td>\n",
              "      <td>NaN</td>\n",
              "      <td>[892ac994-6a25-4bc9-893e-d974f70089ca, b7ff61c...</td>\n",
              "      <td>NaN</td>\n",
              "      <td>{'id': 5503, 'name': 'Lionel Andrés Messi Cucc...</td>\n",
              "      <td>{'id': 23, 'name': 'Center Forward'}</td>\n",
              "      <td>[104.5, 57.4]</td>\n",
              "      <td>NaN</td>\n",
              "      <td>NaN</td>\n",
              "      <td>1.0</td>\n",
              "      <td>NaN</td>\n",
              "      <td>NaN</td>\n",
              "      <td>NaN</td>\n",
              "      <td>NaN</td>\n",
              "      <td>NaN</td>\n",
              "      <td>NaN</td>\n",
              "      <td>NaN</td>\n",
              "      <td>NaN</td>\n",
              "      <td>NaN</td>\n",
              "      <td>NaN</td>\n",
              "      <td>{'outcome': {'id': 8, 'name': 'Complete'}}</td>\n",
              "      <td>NaN</td>\n",
              "      <td>NaN</td>\n",
              "      <td>NaN</td>\n",
              "      <td>NaN</td>\n",
              "    </tr>\n",
              "    <tr>\n",
              "      <th>fcfe2fc2-2aa5-4ff1-be13-81b81ab444e8</th>\n",
              "      <td>547</td>\n",
              "      <td>1</td>\n",
              "      <td>2021-03-03 00:12:11.969</td>\n",
              "      <td>12</td>\n",
              "      <td>11</td>\n",
              "      <td>{'id': 43, 'name': 'Carry'}</td>\n",
              "      <td>21</td>\n",
              "      <td>{'id': 217, 'name': 'Barcelona'}</td>\n",
              "      <td>{'id': 7, 'name': 'From Goal Kick'}</td>\n",
              "      <td>{'id': 217, 'name': 'Barcelona'}</td>\n",
              "      <td>0.937836</td>\n",
              "      <td>NaN</td>\n",
              "      <td>[182fa5f2-d5cf-4d73-90e6-4443efa75456, 2d007cf...</td>\n",
              "      <td>NaN</td>\n",
              "      <td>{'id': 5503, 'name': 'Lionel Andrés Messi Cucc...</td>\n",
              "      <td>{'id': 23, 'name': 'Center Forward'}</td>\n",
              "      <td>[104.5, 57.4]</td>\n",
              "      <td>NaN</td>\n",
              "      <td>{'end_location': [103.5, 52.3]}</td>\n",
              "      <td>1.0</td>\n",
              "      <td>NaN</td>\n",
              "      <td>NaN</td>\n",
              "      <td>NaN</td>\n",
              "      <td>NaN</td>\n",
              "      <td>NaN</td>\n",
              "      <td>NaN</td>\n",
              "      <td>NaN</td>\n",
              "      <td>NaN</td>\n",
              "      <td>NaN</td>\n",
              "      <td>NaN</td>\n",
              "      <td>NaN</td>\n",
              "      <td>NaN</td>\n",
              "      <td>NaN</td>\n",
              "      <td>NaN</td>\n",
              "      <td>NaN</td>\n",
              "    </tr>\n",
              "    <tr>\n",
              "      <th>2d007cff-0d4f-4b01-99fe-e26a454d9e18</th>\n",
              "      <td>548</td>\n",
              "      <td>1</td>\n",
              "      <td>2021-03-03 00:12:12.569</td>\n",
              "      <td>12</td>\n",
              "      <td>12</td>\n",
              "      <td>{'id': 17, 'name': 'Pressure'}</td>\n",
              "      <td>21</td>\n",
              "      <td>{'id': 217, 'name': 'Barcelona'}</td>\n",
              "      <td>{'id': 7, 'name': 'From Goal Kick'}</td>\n",
              "      <td>{'id': 1049, 'name': 'Granada'}</td>\n",
              "      <td>0.409100</td>\n",
              "      <td>NaN</td>\n",
              "      <td>[182fa5f2-d5cf-4d73-90e6-4443efa75456, fcfe2fc...</td>\n",
              "      <td>NaN</td>\n",
              "      <td>{'id': 6656, 'name': 'Mikel Rico Moreno'}</td>\n",
              "      <td>{'id': 11, 'name': 'Left Defensive Midfield'}</td>\n",
              "      <td>[15.2, 25.8]</td>\n",
              "      <td>NaN</td>\n",
              "      <td>NaN</td>\n",
              "      <td>NaN</td>\n",
              "      <td>NaN</td>\n",
              "      <td>NaN</td>\n",
              "      <td>NaN</td>\n",
              "      <td>NaN</td>\n",
              "      <td>NaN</td>\n",
              "      <td>NaN</td>\n",
              "      <td>NaN</td>\n",
              "      <td>NaN</td>\n",
              "      <td>NaN</td>\n",
              "      <td>NaN</td>\n",
              "      <td>NaN</td>\n",
              "      <td>NaN</td>\n",
              "      <td>NaN</td>\n",
              "      <td>NaN</td>\n",
              "      <td>NaN</td>\n",
              "    </tr>\n",
              "    <tr>\n",
              "      <th>182fa5f2-d5cf-4d73-90e6-4443efa75456</th>\n",
              "      <td>549</td>\n",
              "      <td>1</td>\n",
              "      <td>2021-03-03 00:12:12.906</td>\n",
              "      <td>12</td>\n",
              "      <td>12</td>\n",
              "      <td>{'id': 16, 'name': 'Shot'}</td>\n",
              "      <td>21</td>\n",
              "      <td>{'id': 217, 'name': 'Barcelona'}</td>\n",
              "      <td>{'id': 7, 'name': 'From Goal Kick'}</td>\n",
              "      <td>{'id': 217, 'name': 'Barcelona'}</td>\n",
              "      <td>1.128500</td>\n",
              "      <td>NaN</td>\n",
              "      <td>[2d007cff-0d4f-4b01-99fe-e26a454d9e18, ab27809...</td>\n",
              "      <td>NaN</td>\n",
              "      <td>{'id': 5503, 'name': 'Lionel Andrés Messi Cucc...</td>\n",
              "      <td>{'id': 23, 'name': 'Center Forward'}</td>\n",
              "      <td>[103.5, 52.3]</td>\n",
              "      <td>NaN</td>\n",
              "      <td>NaN</td>\n",
              "      <td>1.0</td>\n",
              "      <td>NaN</td>\n",
              "      <td>NaN</td>\n",
              "      <td>NaN</td>\n",
              "      <td>NaN</td>\n",
              "      <td>NaN</td>\n",
              "      <td>NaN</td>\n",
              "      <td>NaN</td>\n",
              "      <td>{'statsbomb_xg': 0.08733401, 'end_location': [...</td>\n",
              "      <td>NaN</td>\n",
              "      <td>NaN</td>\n",
              "      <td>NaN</td>\n",
              "      <td>NaN</td>\n",
              "      <td>NaN</td>\n",
              "      <td>NaN</td>\n",
              "      <td>NaN</td>\n",
              "    </tr>\n",
              "    <tr>\n",
              "      <th>ab27809f-755b-4f1e-b403-65a8a6d04ed8</th>\n",
              "      <td>550</td>\n",
              "      <td>1</td>\n",
              "      <td>2021-03-03 00:12:14.035</td>\n",
              "      <td>12</td>\n",
              "      <td>14</td>\n",
              "      <td>{'id': 23, 'name': 'Goal Keeper'}</td>\n",
              "      <td>21</td>\n",
              "      <td>{'id': 217, 'name': 'Barcelona'}</td>\n",
              "      <td>{'id': 7, 'name': 'From Goal Kick'}</td>\n",
              "      <td>{'id': 1049, 'name': 'Granada'}</td>\n",
              "      <td>0.000000</td>\n",
              "      <td>NaN</td>\n",
              "      <td>[182fa5f2-d5cf-4d73-90e6-4443efa75456]</td>\n",
              "      <td>NaN</td>\n",
              "      <td>{'id': 26659, 'name': 'Roberto Fernández Alvar...</td>\n",
              "      <td>{'id': 1, 'name': 'Goalkeeper'}</td>\n",
              "      <td>[1.8, 37.9]</td>\n",
              "      <td>NaN</td>\n",
              "      <td>NaN</td>\n",
              "      <td>NaN</td>\n",
              "      <td>NaN</td>\n",
              "      <td>NaN</td>\n",
              "      <td>NaN</td>\n",
              "      <td>NaN</td>\n",
              "      <td>NaN</td>\n",
              "      <td>NaN</td>\n",
              "      <td>NaN</td>\n",
              "      <td>NaN</td>\n",
              "      <td>{'end_location': [1.8, 37.9], 'type': {'id': 3...</td>\n",
              "      <td>NaN</td>\n",
              "      <td>NaN</td>\n",
              "      <td>NaN</td>\n",
              "      <td>NaN</td>\n",
              "      <td>NaN</td>\n",
              "      <td>NaN</td>\n",
              "    </tr>\n",
              "  </tbody>\n",
              "</table>\n",
              "<p>72 rows × 35 columns</p>\n",
              "</div>"
            ],
            "text/plain": [
              "                                      index  period  ... block  bad_behaviour\n",
              "id                                                   ...                     \n",
              "2635aa1a-5bce-4878-b176-34bd08de236a    479       1  ...   NaN            NaN\n",
              "30b347c3-fe1a-4324-aca8-f2b63cc2353f    480       1  ...   NaN            NaN\n",
              "8151b0dd-96b6-431d-bab7-06373a8508be    481       1  ...   NaN            NaN\n",
              "97bf3b68-be45-460c-a51f-18d5bbd4fcf5    482       1  ...   NaN            NaN\n",
              "229d95a7-af58-4d52-8da1-fdfc194df3b2    483       1  ...   NaN            NaN\n",
              "...                                     ...     ...  ...   ...            ...\n",
              "2dc460bb-25a3-4eee-9386-441f50fb55dd    546       1  ...   NaN            NaN\n",
              "fcfe2fc2-2aa5-4ff1-be13-81b81ab444e8    547       1  ...   NaN            NaN\n",
              "2d007cff-0d4f-4b01-99fe-e26a454d9e18    548       1  ...   NaN            NaN\n",
              "182fa5f2-d5cf-4d73-90e6-4443efa75456    549       1  ...   NaN            NaN\n",
              "ab27809f-755b-4f1e-b403-65a8a6d04ed8    550       1  ...   NaN            NaN\n",
              "\n",
              "[72 rows x 35 columns]"
            ]
          },
          "metadata": {
            "tags": []
          },
          "execution_count": 22
        }
      ]
    },
    {
      "cell_type": "code",
      "metadata": {
        "id": "dF9qpGCQxKyV"
      },
      "source": [
        "j=478\r\n",
        "names_finished=[]\r\n",
        "names_unfinished=[]\r\n",
        "val1=[]\r\n",
        "val=[]\r\n",
        "for i in match[match[\"possession\"]==21][\"pass\"]:\r\n",
        "  if ((str(i)!=\"nan\") and (match.iloc[j][\"possession_team\"][\"name\"]==\"Barcelona\")):\r\n",
        "    v=[[i[\"angle\"],i[\"length\"],match.iloc[j][\"duration\"],i[\"end_location\"][0],i[\"end_location\"][1],match.iloc[j][\"location\"][0],match.iloc[j][\"location\"][1]]]\r\n",
        "    #print([i[\"length\"],i[\"end_location\"][0],i[\"end_location\"][1],match.iloc[j][\"duration\"],i[\"angle\"]],i[\"recipient\"][\"name\"])\r\n",
        "    if \"outcome\" not in i:\r\n",
        "      #print(model.predict(xx.transform(v)),i[\"outcome\"][\"name\"],match.iloc[j][\"player\"][\"name\"])\r\n",
        "      val.append(loaded_model.predict(xx.transform(v))[0][0])\r\n",
        "      names_finished.append(match.iloc[j][\"player\"][\"name\"])\r\n",
        "    else:\r\n",
        "      val1.append(loaded_model.predict(xx.transform(v))[0][0])\r\n",
        "      names_unfinished.append(match.iloc[j][\"player\"][\"name\"])\r\n",
        "  j+=1"
      ],
      "execution_count": null,
      "outputs": []
    },
    {
      "cell_type": "code",
      "metadata": {
        "colab": {
          "base_uri": "https://localhost:8080/",
          "height": 893
        },
        "id": "BBEbtFBMx-AA",
        "outputId": "62aa3907-b478-4086-d264-e8fc3174b973"
      },
      "source": [
        "plt.figure(figsize=(5,15))\r\n",
        "plt.xlabel(\"Pass Hardness\")\r\n",
        "plt.xlim(0,1)\r\n",
        "plt.ylabel(\"Players involved in shot buildup\")\r\n",
        "plt.scatter(val,names_finished,label=\"Xg of shot was 0.087\")\r\n",
        "plt.title(\"Xp for passes involved during a possession leading to a shot taken from a match between FCB vs Granada \")\r\n",
        "plt.legend()\r\n",
        "plt.show()"
      ],
      "execution_count": null,
      "outputs": [
        {
          "output_type": "display_data",
          "data": {
            "image/png": "[encoded data removed]",
            "text/plain": [
              "<Figure size 360x1080 with 1 Axes>"
            ]
          },
          "metadata": {
            "tags": [],
            "needs_background": "light"
          }
        }
      ]
    },
    {
      "cell_type": "code",
      "metadata": {
        "colab": {
          "base_uri": "https://localhost:8080/"
        },
        "id": "pm8ZTjBryZy2",
        "outputId": "81581a2d-4d34-45d7-a7da-3dbac6010e00"
      },
      "source": [
        "val1,names_unfinished"
      ],
      "execution_count": null,
      "outputs": [
        {
          "output_type": "execute_result",
          "data": {
            "text/plain": [
              "([0.999995], ['Pedro Eliezer Rodríguez Ledesma'])"
            ]
          },
          "metadata": {
            "tags": []
          },
          "execution_count": 39
        }
      ]
    },
    {
      "cell_type": "code",
      "metadata": {
        "colab": {
          "base_uri": "https://localhost:8080/"
        },
        "id": "Yvsmqaq2yoWp",
        "outputId": "54255bf6-5420-4010-b224-fe3b22471a91"
      },
      "source": [
        "match.iloc[548][\"shot\"]"
      ],
      "execution_count": null,
      "outputs": [
        {
          "output_type": "execute_result",
          "data": {
            "text/plain": [
              "{'body_part': {'id': 38, 'name': 'Left Foot'},\n",
              " 'end_location': [120.0, 35.3, 0.9],\n",
              " 'freeze_frame': [{'location': [100.4, 33.2],\n",
              "   'player': {'id': 23995, 'name': 'Jaime Romero Gómez'},\n",
              "   'position': {'id': 12, 'name': 'Right Midfield'},\n",
              "   'teammate': False},\n",
              "  {'location': [109.4, 36.7],\n",
              "   'player': {'id': 3991, 'name': 'Allan Romeo Nyom'},\n",
              "   'position': {'id': 2, 'name': 'Right Back'},\n",
              "   'teammate': False},\n",
              "  {'location': [110.3, 41.1],\n",
              "   'player': {'id': 26573, 'name': 'Íñigo López Montaña'},\n",
              "   'position': {'id': 3, 'name': 'Right Center Back'},\n",
              "   'teammate': False},\n",
              "  {'location': [108.3, 47.2],\n",
              "   'player': {'id': 26781, 'name': 'Diego Mainz García'},\n",
              "   'position': {'id': 5, 'name': 'Left Center Back'},\n",
              "   'teammate': False},\n",
              "  {'location': [107.7, 51.6],\n",
              "   'player': {'id': 26780, 'name': 'Guilherme Magdalena Siqueira'},\n",
              "   'position': {'id': 6, 'name': 'Left Back'},\n",
              "   'teammate': False},\n",
              "  {'location': [104.9, 52.5],\n",
              "   'player': {'id': 6656, 'name': 'Mikel Rico Moreno'},\n",
              "   'position': {'id': 11, 'name': 'Left Defensive Midfield'},\n",
              "   'teammate': False},\n",
              "  {'location': [99.8, 50.2],\n",
              "   'player': {'id': 26503, 'name': 'Abel Gómez Moreno'},\n",
              "   'position': {'id': 19, 'name': 'Center Attacking Midfield'},\n",
              "   'teammate': False},\n",
              "  {'location': [100.1, 54.6],\n",
              "   'player': {'id': 25707, 'name': 'Francisco Manuel Rico Castro'},\n",
              "   'position': {'id': 9, 'name': 'Right Defensive Midfield'},\n",
              "   'teammate': False},\n",
              "  {'location': [109.4, 39.7],\n",
              "   'player': {'id': 20131, 'name': 'Xavier Hernández Creus'},\n",
              "   'position': {'id': 13, 'name': 'Right Center Midfield'},\n",
              "   'teammate': True},\n",
              "  {'location': [107.4, 35.5],\n",
              "   'player': {'id': 26776, 'name': 'Juan Isaac Cuenca López'},\n",
              "   'position': {'id': 21, 'name': 'Left Wing'},\n",
              "   'teammate': True},\n",
              "  {'location': [91.7, 29.2],\n",
              "   'player': {'id': 26613, 'name': 'Maxwell Scherrer Cabelino Andrade'},\n",
              "   'position': {'id': 6, 'name': 'Left Back'},\n",
              "   'teammate': True},\n",
              "  {'location': [105.1, 42.9],\n",
              "   'player': {'id': 3478, 'name': 'Francesc Fàbregas i Soler'},\n",
              "   'position': {'id': 15, 'name': 'Left Center Midfield'},\n",
              "   'teammate': True},\n",
              "  {'location': [107.2, 53.7],\n",
              "   'player': {'id': 3958, 'name': 'Pedro Eliezer Rodríguez Ledesma'},\n",
              "   'position': {'id': 17, 'name': 'Right Wing'},\n",
              "   'teammate': True},\n",
              "  {'location': [107.1, 61.4],\n",
              "   'player': {'id': 4324, 'name': 'Daniel Alves da Silva'},\n",
              "   'position': {'id': 2, 'name': 'Right Back'},\n",
              "   'teammate': True},\n",
              "  {'location': [118.3, 42.2],\n",
              "   'player': {'id': 26659, 'name': 'Roberto Fernández Alvarellos'},\n",
              "   'position': {'id': 1, 'name': 'Goalkeeper'},\n",
              "   'teammate': False}],\n",
              " 'key_pass_id': '1f6d57b3-9e36-48d6-9d27-8613c2162d5b',\n",
              " 'outcome': {'id': 98, 'name': 'Off T'},\n",
              " 'statsbomb_xg': 0.08733401,\n",
              " 'technique': {'id': 93, 'name': 'Normal'},\n",
              " 'type': {'id': 87, 'name': 'Open Play'}}"
            ]
          },
          "metadata": {
            "tags": []
          },
          "execution_count": 45
        }
      ]
    },
    {
      "cell_type": "code",
      "metadata": {
        "id": "90jfmdoB1xTG"
      },
      "source": [
        ""
      ],
      "execution_count": null,
      "outputs": []
    }
  ]
}